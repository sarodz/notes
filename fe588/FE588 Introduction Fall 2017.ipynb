{
 "cells": [
  {
   "cell_type": "markdown",
   "metadata": {},
   "source": [
    "## Introduction\n",
    "\n",
    "\n",
    "Variables, \n",
    "\n",
    "arithmetic operators\n",
    "~~~\n",
    "+ - * / ** % //\n",
    "~~~\n",
    "\n",
    "assignment\n",
    "~~~\n",
    "=\n",
    "~~~\n",
    "\n",
    "assign and increment\n",
    "~~~\n",
    "+=\n",
    "~~~\n"
   ]
  },
  {
   "cell_type": "code",
   "execution_count": 2,
   "metadata": {
    "scrolled": true
   },
   "outputs": [
    {
     "name": "stdout",
     "output_type": "stream",
     "text": [
      "a = [1, 2, 5]\n",
      "b = [4, 7, 6]\n",
      "a = [4, 7, 6]\n",
      "b = [4, 7, 6]\n",
      "a = [4, 7, 6]\n",
      "b = [1, 1, 1]\n"
     ]
    }
   ],
   "source": [
    "a = [1,2,5]\n",
    "b = [4,7,6]\n",
    "\n",
    "print('a =',a)\n",
    "print('b =',b)\n",
    "\n",
    "a = b\n",
    "\n",
    "print('a =',a)\n",
    "print('b =',b)\n",
    "\n",
    "b = [1,1,1]\n",
    "print('a =',a)\n",
    "print('b =',b)\n"
   ]
  },
  {
   "cell_type": "code",
   "execution_count": 7,
   "metadata": {
    "scrolled": true
   },
   "outputs": [
    {
     "name": "stdout",
     "output_type": "stream",
     "text": [
      "137.1870032046455\n"
     ]
    }
   ],
   "source": [
    "\n",
    "a = 2\n",
    "b = 7.1\n",
    "c = 4\n",
    "\n",
    "d = a + b * c\n",
    "\n",
    "print(a**b)"
   ]
  },
  {
   "cell_type": "code",
   "execution_count": 1,
   "metadata": {},
   "outputs": [
    {
     "name": "stdout",
     "output_type": "stream",
     "text": [
      "3\n"
     ]
    }
   ],
   "source": [
    "a = 7\n",
    "b = 2\n",
    "\n",
    "print(a//b)\n",
    "\n"
   ]
  },
  {
   "cell_type": "code",
   "execution_count": 17,
   "metadata": {},
   "outputs": [
    {
     "name": "stdout",
     "output_type": "stream",
     "text": [
      "5\n"
     ]
    }
   ],
   "source": [
    "a = 5\n",
    "\n",
    "# a = a + 2\n",
    "a += 2\n",
    "a -= 3\n",
    "a *=4\n",
    "a //= 3\n",
    "print(a)\n",
    "\n"
   ]
  },
  {
   "cell_type": "code",
   "execution_count": 22,
   "metadata": {
    "scrolled": true
   },
   "outputs": [
    {
     "name": "stdout",
     "output_type": "stream",
     "text": [
      "-3 8\n",
      "-2 -3\n",
      "-1 -8\n"
     ]
    }
   ],
   "source": [
    "x = -3\n",
    "fx = 3*x**2 + 4*x - 7\n",
    "print(x, fx)\n",
    "\n",
    "x = -2\n",
    "fx = 3*x**2 + 4*x - 7\n",
    "print(x, fx)\n",
    "\n",
    "x = -1\n",
    "fx = 3*x**2 + 4*x - 7\n",
    "print(x, fx)"
   ]
  },
  {
   "cell_type": "markdown",
   "metadata": {},
   "source": [
    "Flow Control, Loops"
   ]
  },
  {
   "cell_type": "code",
   "execution_count": 36,
   "metadata": {
    "scrolled": true
   },
   "outputs": [
    {
     "name": "stdout",
     "output_type": "stream",
     "text": [
      "-3 8\n",
      "-2.5 1.75\n",
      "-2.0 -3.0\n",
      "-1.5 -6.25\n",
      "-1.0 -8.0\n",
      "-0.5 -8.25\n",
      "0.0 -7.0\n",
      "0.5 -4.25\n",
      "1.0 0.0\n",
      "1.5 5.75\n",
      "2.0 13.0\n",
      "2.5 21.75\n",
      "3.0 32.0\n"
     ]
    }
   ],
   "source": [
    "x = -3\n",
    "for i in range(13):\n",
    "    fx = 3*x**2 + 4*x - 7\n",
    "    print(x, fx)\n",
    "    x += 0.5"
   ]
  },
  {
   "cell_type": "code",
   "execution_count": 38,
   "metadata": {
    "scrolled": true
   },
   "outputs": [
    {
     "name": "stdout",
     "output_type": "stream",
     "text": [
      "1  x  1 = 1\n",
      "1  x  2 = 2\n",
      "1  x  3 = 3\n",
      "1  x  4 = 4\n",
      "1  x  5 = 5\n",
      "1  x  6 = 6\n",
      "1  x  7 = 7\n",
      "1  x  8 = 8\n",
      "1  x  9 = 9\n",
      "1  x  10 = 10\n",
      "2  x  1 = 2\n",
      "2  x  2 = 4\n",
      "2  x  3 = 6\n",
      "2  x  4 = 8\n",
      "2  x  5 = 10\n",
      "2  x  6 = 12\n",
      "2  x  7 = 14\n",
      "2  x  8 = 16\n",
      "2  x  9 = 18\n",
      "2  x  10 = 20\n",
      "3  x  1 = 3\n",
      "3  x  2 = 6\n",
      "3  x  3 = 9\n",
      "3  x  4 = 12\n",
      "3  x  5 = 15\n",
      "3  x  6 = 18\n",
      "3  x  7 = 21\n",
      "3  x  8 = 24\n",
      "3  x  9 = 27\n",
      "3  x  10 = 30\n",
      "4  x  1 = 4\n",
      "4  x  2 = 8\n",
      "4  x  3 = 12\n",
      "4  x  4 = 16\n",
      "4  x  5 = 20\n",
      "4  x  6 = 24\n",
      "4  x  7 = 28\n",
      "4  x  8 = 32\n",
      "4  x  9 = 36\n",
      "4  x  10 = 40\n",
      "5  x  1 = 5\n",
      "5  x  2 = 10\n",
      "5  x  3 = 15\n",
      "5  x  4 = 20\n",
      "5  x  5 = 25\n",
      "5  x  6 = 30\n",
      "5  x  7 = 35\n",
      "5  x  8 = 40\n",
      "5  x  9 = 45\n",
      "5  x  10 = 50\n",
      "6  x  1 = 6\n",
      "6  x  2 = 12\n",
      "6  x  3 = 18\n",
      "6  x  4 = 24\n",
      "6  x  5 = 30\n",
      "6  x  6 = 36\n",
      "6  x  7 = 42\n",
      "6  x  8 = 48\n",
      "6  x  9 = 54\n",
      "6  x  10 = 60\n",
      "7  x  1 = 7\n",
      "7  x  2 = 14\n",
      "7  x  3 = 21\n",
      "7  x  4 = 28\n",
      "7  x  5 = 35\n",
      "7  x  6 = 42\n",
      "7  x  7 = 49\n",
      "7  x  8 = 56\n",
      "7  x  9 = 63\n",
      "7  x  10 = 70\n",
      "8  x  1 = 8\n",
      "8  x  2 = 16\n",
      "8  x  3 = 24\n",
      "8  x  4 = 32\n",
      "8  x  5 = 40\n",
      "8  x  6 = 48\n",
      "8  x  7 = 56\n",
      "8  x  8 = 64\n",
      "8  x  9 = 72\n",
      "8  x  10 = 80\n",
      "9  x  1 = 9\n",
      "9  x  2 = 18\n",
      "9  x  3 = 27\n",
      "9  x  4 = 36\n",
      "9  x  5 = 45\n",
      "9  x  6 = 54\n",
      "9  x  7 = 63\n",
      "9  x  8 = 72\n",
      "9  x  9 = 81\n",
      "9  x  10 = 90\n",
      "10  x  1 = 10\n",
      "10  x  2 = 20\n",
      "10  x  3 = 30\n",
      "10  x  4 = 40\n",
      "10  x  5 = 50\n",
      "10  x  6 = 60\n",
      "10  x  7 = 70\n",
      "10  x  8 = 80\n",
      "10  x  9 = 90\n",
      "10  x  10 = 100\n"
     ]
    }
   ],
   "source": [
    "for i in range(10):\n",
    "    for j in range(10):\n",
    "        print(i+1,' x ', j+1, '=', (i+1)*(j+1))"
   ]
  },
  {
   "cell_type": "code",
   "execution_count": 8,
   "metadata": {},
   "outputs": [
    {
     "name": "stdout",
     "output_type": "stream",
     "text": [
      "3 7 6 4 abcd5\n"
     ]
    }
   ],
   "source": [
    "\n",
    "\n",
    "print(3,7,6,4,'abcd',end='')\n",
    "print(5)"
   ]
  },
  {
   "cell_type": "code",
   "execution_count": 43,
   "metadata": {
    "scrolled": true
   },
   "outputs": [
    {
     "name": "stdout",
     "output_type": "stream",
     "text": [
      "1 2 3 4 5 6 7 8 9 10 11 12 13 14 15 16 17 18 19 20 \n",
      "2 4 6 8 10 12 14 16 18 20 22 24 26 28 30 32 34 36 38 40 \n",
      "3 6 9 12 15 18 21 24 27 30 33 36 39 42 45 48 51 54 57 60 \n",
      "4 8 12 16 20 24 28 32 36 40 44 48 52 56 60 64 68 72 76 80 \n",
      "5 10 15 20 25 30 35 40 45 50 55 60 65 70 75 80 85 90 95 100 \n",
      "6 12 18 24 30 36 42 48 54 60 66 72 78 84 90 96 102 108 114 120 \n",
      "7 14 21 28 35 42 49 56 63 70 77 84 91 98 105 112 119 126 133 140 \n",
      "8 16 24 32 40 48 56 64 72 80 88 96 104 112 120 128 136 144 152 160 \n",
      "9 18 27 36 45 54 63 72 81 90 99 108 117 126 135 144 153 162 171 180 \n",
      "10 20 30 40 50 60 70 80 90 100 110 120 130 140 150 160 170 180 190 200 \n",
      "11 22 33 44 55 66 77 88 99 110 121 132 143 154 165 176 187 198 209 220 \n",
      "12 24 36 48 60 72 84 96 108 120 132 144 156 168 180 192 204 216 228 240 \n",
      "13 26 39 52 65 78 91 104 117 130 143 156 169 182 195 208 221 234 247 260 \n",
      "14 28 42 56 70 84 98 112 126 140 154 168 182 196 210 224 238 252 266 280 \n",
      "15 30 45 60 75 90 105 120 135 150 165 180 195 210 225 240 255 270 285 300 \n",
      "16 32 48 64 80 96 112 128 144 160 176 192 208 224 240 256 272 288 304 320 \n",
      "17 34 51 68 85 102 119 136 153 170 187 204 221 238 255 272 289 306 323 340 \n",
      "18 36 54 72 90 108 126 144 162 180 198 216 234 252 270 288 306 324 342 360 \n",
      "19 38 57 76 95 114 133 152 171 190 209 228 247 266 285 304 323 342 361 380 \n",
      "20 40 60 80 100 120 140 160 180 200 220 240 260 280 300 320 340 360 380 400 \n"
     ]
    }
   ],
   "source": [
    "for i in range(20):\n",
    "    for j in range(20):\n",
    "        print((i+1)*(j+1), end=' ')\n",
    "    print()"
   ]
  },
  {
   "cell_type": "markdown",
   "metadata": {},
   "source": [
    "Fibionacci Sequence"
   ]
  },
  {
   "cell_type": "code",
   "execution_count": 4,
   "metadata": {
    "scrolled": true
   },
   "outputs": [
    {
     "name": "stdout",
     "output_type": "stream",
     "text": [
      "1---x\n"
     ]
    }
   ],
   "source": [
    "print(1, end='---')\n",
    "print('x')"
   ]
  },
  {
   "cell_type": "code",
   "execution_count": 9,
   "metadata": {
    "scrolled": false
   },
   "outputs": [
    {
     "name": "stdout",
     "output_type": "stream",
     "text": [
      "1\n",
      "1\n",
      "2\n",
      "3\n",
      "5\n",
      "8\n",
      "13\n",
      "21\n",
      "34\n",
      "55\n",
      "89\n",
      "144\n"
     ]
    }
   ],
   "source": [
    "x_prevprev = 1\n",
    "x_prev = 1\n",
    "print(x_prevprev)\n",
    "print(x_prev)\n",
    "for i in range(10):\n",
    "    x = x_prevprev + x_prev\n",
    "    print(x)\n",
    "    x_prevprev = x_prev   \n",
    "    x_prev = x\n"
   ]
  },
  {
   "cell_type": "code",
   "execution_count": 80,
   "metadata": {},
   "outputs": [
    {
     "name": "stdout",
     "output_type": "stream",
     "text": [
      "148\n"
     ]
    },
    {
     "data": {
      "image/png": "[encoded data removed]",
      "text/plain": [
       "<matplotlib.figure.Figure at 0x11304c160>"
      ]
     },
     "metadata": {},
     "output_type": "display_data"
    }
   ],
   "source": [
    "%matplotlib inline\n",
    "import numpy as np\n",
    "import matplotlib.pylab as plt\n",
    "\n",
    "X = np.zeros(1000)\n",
    "\n",
    "x = 10\n",
    "for i in range(1000):\n",
    "    w = 2*np.random.randint(high=2, low=0)-1\n",
    "    x += w\n",
    "    X[i] = x\n",
    "    \n",
    "    if x==0:\n",
    "        print(i+1)\n",
    "        break\n",
    "\n",
    "plt.plot(X)\n",
    "plt.show()"
   ]
  }
 ],
 "metadata": {
  "kernelspec": {
   "display_name": "Python 3",
   "language": "python",
   "name": "python3"
  },
  "language_info": {
   "codemirror_mode": {
    "name": "ipython",
    "version": 3
   },
   "file_extension": ".py",
   "mimetype": "text/x-python",
   "name": "python",
   "nbconvert_exporter": "python",
   "pygments_lexer": "ipython3",
   "version": "3.5.3"
  },
  "latex_envs": {
   "LaTeX_envs_menu_present": true,
   "autocomplete": true,
   "bibliofile": "biblio.bib",
   "cite_by": "apalike",
   "current_citInitial": 1,
   "eqLabelWithNumbers": true,
   "eqNumInitial": 1,
   "hotkeys": {
    "equation": "Ctrl-E",
    "itemize": "Ctrl-I"
   },
   "labels_anchors": false,
   "latex_user_defs": false,
   "report_style_numbering": false,
   "user_envs_cfg": false
  }
 },
 "nbformat": 4,
 "nbformat_minor": 2
}
