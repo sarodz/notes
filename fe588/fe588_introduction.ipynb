{
 "cells": [
  {
   "cell_type": "markdown",
   "metadata": {},
   "source": [
    "Install Python. \n",
    "\n",
    "jupyter --no-browser\n",
    "\n",
    "In the favorite browser, type\n",
    "http://localhost:8888 (or the port that is assigned)\n",
    "\n",
    "\n",
    "Basic usage of jupyter notebooks.\n",
    "- create a newdocument by clicking the New Notebook\n",
    "- start typing code in the shaded textbox\n",
    "- execute the code"
   ]
  },
  {
   "cell_type": "code",
   "execution_count": 14,
   "metadata": {
    "scrolled": true
   },
   "outputs": [
    {
     "name": "stdout",
     "output_type": "stream",
     "text": [
      "f(0.1) = -0.99\n"
     ]
    }
   ],
   "source": [
    "\n",
    "x = 0.1\n",
    "N = 3\n",
    "\n",
    "a = 1\n",
    "b = 0\n",
    "c = -1\n",
    "\n",
    "print('f(' + str(x) + ') = ' + str(a*x**2 + b*x + c))\n",
    "\n",
    "\n",
    "\n"
   ]
  },
  {
   "cell_type": "code",
   "execution_count": 16,
   "metadata": {},
   "outputs": [
    {
     "name": "stdout",
     "output_type": "stream",
     "text": [
      "(1, 2, 3, 4)\n",
      "(2, 4, 6, 8)\n",
      "(3, 6, 9, 12)\n",
      "(4, 8, 12, 16)\n"
     ]
    }
   ],
   "source": [
    "a = 1\n",
    "b = 1\n",
    "print(a*b,a*(b+1),a*(b+2),a*(b+3))\n",
    "\n",
    "a = 2\n",
    "print(a*b,a*(b+1),a*(b+2),a*(b+3))\n",
    "      \n",
    "a = 3\n",
    "print(a*b,a*(b+1),a*(b+2),a*(b+3))\n",
    "      \n",
    "a = 4\n",
    "print(a*b,a*(b+1),a*(b+2),a*(b+3))\n",
    " "
   ]
  },
  {
   "cell_type": "markdown",
   "metadata": {
    "collapsed": true
   },
   "source": [
    "Fibionacci Series\n"
   ]
  },
  {
   "cell_type": "code",
   "execution_count": 6,
   "metadata": {},
   "outputs": [],
   "source": [
    "N = 0\n",
    "\n",
    "a_1 = 1\n",
    "a_2 = 0\n",
    "\n",
    "x = 1\n",
    "if N>0:\n",
    "    print('x_' + str(0) + ' = ' + str(x) )\n",
    "\n",
    "    \n",
    "for i in range(1,N):\n",
    "    x = a_1 + a_2\n",
    "    print('x_' + str(i) + ' = ' + str(x) )\n",
    "    a_2 = a_1\n",
    "    a_1 = x\n",
    "    "
   ]
  },
  {
   "cell_type": "code",
   "execution_count": 6,
   "metadata": {},
   "outputs": [
    {
     "name": "stdout",
     "output_type": "stream",
     "text": [
      "--------------------\n",
      "|  x |  3*x**2 + 2*x + 3 | \n",
      "--------------------\n",
      "|  -1.0 |  4.0 | \n",
      "--------------------\n",
      "|  -0.9 |  3.63 | \n",
      "--------------------\n",
      "|  -0.8 |  3.32 | \n",
      "--------------------\n",
      "|  -0.7 |  3.07 | \n",
      "--------------------\n",
      "|  -0.6 |  2.88 | \n",
      "--------------------\n",
      "|  -0.5 |  2.75 | \n",
      "--------------------\n",
      "|  -0.4 |  2.68 | \n",
      "--------------------\n",
      "|  -0.3 |  2.67 | \n",
      "--------------------\n",
      "|  -0.2 |  2.72 | \n",
      "--------------------\n",
      "|  -0.1 |  2.83 | \n",
      "--------------------\n",
      "|  0.0 |  3.0 | \n",
      "--------------------\n",
      "|  0.1 |  3.23 | \n",
      "--------------------\n",
      "|  0.2 |  3.52 | \n",
      "--------------------\n",
      "|  0.3 |  3.87 | \n",
      "--------------------\n",
      "|  0.4 |  4.28 | \n",
      "--------------------\n",
      "|  0.5 |  4.75 | \n",
      "--------------------\n",
      "|  0.6 |  5.28 | \n",
      "--------------------\n",
      "|  0.7 |  5.87 | \n",
      "--------------------\n",
      "|  0.8 |  6.52 | \n",
      "--------------------\n",
      "|  0.9 |  7.23 | \n",
      "--------------------\n",
      "|  1.0 |  8.0 | \n"
     ]
    }
   ],
   "source": [
    "l = -1\n",
    "r = 1\n",
    "delta = 0.1\n",
    "steps = (r-l)/delta+1\n",
    "\n",
    "print '-'*20\n",
    "print('| '),\n",
    "print('x'),\n",
    "print('| '),\n",
    "print('3*x**2 + 2*x + 3'),\n",
    "print('| ')\n",
    "\n",
    "for i in range(0,int(steps)):\n",
    "    x = l+i*delta\n",
    "    print '-'*20\n",
    "    print('| '),\n",
    "    print(x),\n",
    "    print('| '),\n",
    "    print(3*x**2 + 2*x + 3),\n",
    "    print('| ')\n"
   ]
  },
  {
   "cell_type": "code",
   "execution_count": 9,
   "metadata": {
    "scrolled": true
   },
   "outputs": [
    {
     "name": "stdout",
     "output_type": "stream",
     "text": [
      "-1.0 4.0\n",
      "-0.9 3.63\n",
      "-0.8 3.32\n",
      "-0.7 3.07\n",
      "-0.6 2.88\n",
      "-0.5 2.75\n",
      "-0.4 2.68\n",
      "-0.3 2.67\n",
      "-0.2 2.72\n",
      "-0.1 2.83\n",
      "0.0 3.0\n",
      "0.1 3.23\n",
      "0.2 3.52\n",
      "0.3 3.87\n",
      "0.4 4.28\n",
      "0.5 4.75\n",
      "0.6 5.28\n",
      "0.7 5.87\n",
      "0.8 6.52\n",
      "0.9 7.23\n"
     ]
    }
   ],
   "source": [
    "def f(x):\n",
    "    return 3*x**2 + 2*x + 3\n",
    "\n",
    "l = -1\n",
    "r = 1\n",
    "delta = 0.1\n",
    "\n",
    "steps = (r-l)/delta\n",
    "\n",
    "for i in range(0,int(steps)):\n",
    "    x = l+i*delta\n",
    "    print x,\n",
    "    print f(x)"
   ]
  },
  {
   "cell_type": "code",
   "execution_count": 7,
   "metadata": {
    "scrolled": true
   },
   "outputs": [
    {
     "name": "stdout",
     "output_type": "stream",
     "text": [
      "1 112.0\n",
      "2 125.44\n",
      "3 140.4928\n",
      "4 157.351936\n",
      "5 176.23416832\n",
      "6 197.382268518\n",
      "7 221.068140741\n",
      "8 247.596317629\n",
      "9 277.307875745\n"
     ]
    }
   ],
   "source": [
    "def f(r, T, S_0):\n",
    "    return S_0*(1+r)**T\n",
    "\n",
    "interest_rate = 0.12\n",
    "T = 10\n",
    "S_0 = 100\n",
    "\n",
    "l = 1\n",
    "r = T\n",
    "delta = 1\n",
    "\n",
    "steps = (r-l)/delta\n",
    "\n",
    "for i in range(0,int(steps)):\n",
    "    T = l+i*delta\n",
    "    print T,\n",
    "    print f(interest_rate, T, S_0)"
   ]
  },
  {
   "cell_type": "markdown",
   "metadata": {},
   "source": [
    "Arrays, lists"
   ]
  },
  {
   "cell_type": "code",
   "execution_count": 14,
   "metadata": {},
   "outputs": [
    {
     "name": "stdout",
     "output_type": "stream",
     "text": [
      "Asli\n",
      "4\n"
     ]
    }
   ],
   "source": [
    "a = [1,2,5,7,5, 3.2, 7]\n",
    "names = ['Ali','Veli','Fatma','Asli']\n",
    "\n",
    "#for s in names:\n",
    "#    print(s)\n",
    "\n",
    "print(names[3])\n",
    "\n",
    "print(len(names))"
   ]
  },
  {
   "cell_type": "code",
   "execution_count": 18,
   "metadata": {
    "scrolled": true
   },
   "outputs": [
    {
     "name": "stdout",
     "output_type": "stream",
     "text": [
      "Asli\n",
      "Fatma\n",
      "Veli\n",
      "Ali\n"
     ]
    }
   ],
   "source": [
    "for i in range(len(names)-1,-1,-1):\n",
    "    print(names[i])\n",
    "    \n",
    "for i in range(len(names)):\n",
    "    print(names[len(names)-i])\n"
   ]
  },
  {
   "cell_type": "code",
   "execution_count": 20,
   "metadata": {
    "scrolled": true
   },
   "outputs": [
    {
     "name": "stdout",
     "output_type": "stream",
     "text": [
      "Asli\n",
      "Fatma\n",
      "Veli\n",
      "Ali\n"
     ]
    }
   ],
   "source": [
    "for n in reversed(names):\n",
    "    print(n)"
   ]
  },
  {
   "cell_type": "markdown",
   "metadata": {},
   "source": [
    "Average and standard deviation\n"
   ]
  },
  {
   "cell_type": "code",
   "execution_count": 25,
   "metadata": {
    "scrolled": true
   },
   "outputs": [
    {
     "name": "stdout",
     "output_type": "stream",
     "text": [
      "mean     =  0.0\n",
      "variance =  0.666666666667\n"
     ]
    }
   ],
   "source": [
    "#x = [0.1,3,-2.1,5,12,3,17]\n",
    "x = [1,-1,0]\n",
    "\n",
    "s1 = 0.0\n",
    "for a in x:\n",
    "    s1 += a\n",
    "\n",
    "mean = s1/len(x)\n",
    "\n",
    "s2 = 0.0\n",
    "for a in x:\n",
    "    s2 += (a-mean)**2\n",
    "\n",
    "variance = s2/len(x)\n",
    "\n",
    "print('mean     = '),\n",
    "print(mean)\n",
    "print('variance = '),\n",
    "print(variance)\n"
   ]
  },
  {
   "cell_type": "markdown",
   "metadata": {},
   "source": [
    "Find the minimum in an array"
   ]
  },
  {
   "cell_type": "code",
   "execution_count": 27,
   "metadata": {
    "scrolled": true
   },
   "outputs": [
    {
     "name": "stdout",
     "output_type": "stream",
     "text": [
      "-4\n"
     ]
    }
   ],
   "source": [
    "a = [2,5,1.2, 0,-4, 3]\n",
    "mn = a[0]\n",
    "\n",
    "for i in range(1,len(a)):\n",
    "    if a[i]<mn:\n",
    "        mn = a[i]\n",
    "\n",
    "print(mn)"
   ]
  },
  {
   "cell_type": "code",
   "execution_count": 28,
   "metadata": {
    "collapsed": true
   },
   "outputs": [],
   "source": [
    "a.sort()"
   ]
  },
  {
   "cell_type": "code",
   "execution_count": 30,
   "metadata": {},
   "outputs": [],
   "source": [
    "a.append(-7)"
   ]
  },
  {
   "cell_type": "code",
   "execution_count": 32,
   "metadata": {},
   "outputs": [],
   "source": [
    "v = a.pop()"
   ]
  },
  {
   "cell_type": "code",
   "execution_count": 35,
   "metadata": {},
   "outputs": [],
   "source": [
    "a.reverse()"
   ]
  },
  {
   "cell_type": "code",
   "execution_count": 37,
   "metadata": {},
   "outputs": [],
   "source": [
    "v = a.pop(0)"
   ]
  },
  {
   "cell_type": "code",
   "execution_count": 39,
   "metadata": {},
   "outputs": [
    {
     "data": {
      "text/plain": [
       "[3, 2, 1.2, 0, -4]"
      ]
     },
     "execution_count": 39,
     "metadata": {},
     "output_type": "execute_result"
    }
   ],
   "source": [
    "a.sort"
   ]
  },
  {
   "cell_type": "code",
   "execution_count": 40,
   "metadata": {
    "collapsed": true
   },
   "outputs": [],
   "source": [
    "a = 5"
   ]
  },
  {
   "cell_type": "code",
   "execution_count": null,
   "metadata": {
    "collapsed": true
   },
   "outputs": [],
   "source": [
    "a.bit_length"
   ]
  },
  {
   "cell_type": "markdown",
   "metadata": {},
   "source": [
    "Homework: Value counts given an array of integers"
   ]
  },
  {
   "cell_type": "code",
   "execution_count": 47,
   "metadata": {
    "scrolled": false
   },
   "outputs": [
    {
     "name": "stdout",
     "output_type": "stream",
     "text": [
      "[5, 3, 1, 6, 2]\n",
      "(5, 1)\n",
      "(3, 2)\n",
      "(1, 2)\n",
      "(6, 1)\n",
      "(2, 1)\n"
     ]
    }
   ],
   "source": [
    "a = [5, 3, 1, 1, 6, 3, 2]\n",
    "\n",
    "ua = []\n",
    "\n",
    "for j in a:\n",
    "    found = False\n",
    "    for i in ua:\n",
    "        if j==i:\n",
    "            found = True;\n",
    "            break;\n",
    "    if not found:\n",
    "        ua.append(j)\n",
    "        \n",
    "print(ua)            \n",
    "            \n",
    "\n",
    "for i in ua:\n",
    "    s = 0\n",
    "    for j in a:\n",
    "        if i==j:\n",
    "            s = s+1\n",
    "\n",
    "    print(i, s)\n",
    "\n",
    "\n",
    "\n",
    "\n"
   ]
  },
  {
   "cell_type": "code",
   "execution_count": 49,
   "metadata": {},
   "outputs": [
    {
     "name": "stdout",
     "output_type": "stream",
     "text": [
      "[0, 5, 8, 9, 10, 16, 19, 21]\n"
     ]
    }
   ],
   "source": [
    "a = [5, 3, 1, 1, 6, 3, 2]\n",
    "\n",
    "ca = []\n",
    "sum = 0\n",
    "\n",
    "for j in a:\n",
    "    ca.append(sum)\n",
    "    sum += j\n",
    "\n",
    "ca.append(sum)\n",
    "\n",
    "print(ca)\n",
    "#ca = [0, 5, 8, 9, 10, 16, 19, 21]\n"
   ]
  },
  {
   "cell_type": "code",
   "execution_count": 50,
   "metadata": {
    "scrolled": true
   },
   "outputs": [
    {
     "data": {
      "text/plain": [
       "[3, 6, 7, 2, 2, 7, 6, 3]"
      ]
     },
     "execution_count": 50,
     "metadata": {},
     "output_type": "execute_result"
    }
   ],
   "source": [
    "a = [3, 6, 7, 2]\n",
    "\n",
    "#oa = [3, 6, 7, 2, 2, 7, 6, 3]\n",
    "\n",
    "oa = a\n",
    "for i in reversed(a):\n",
    "    oa.append(i)\n",
    "\n",
    "oa\n",
    "\n",
    "oa = a\n",
    "for i in range()\n"
   ]
  },
  {
   "cell_type": "code",
   "execution_count": 66,
   "metadata": {
    "scrolled": true
   },
   "outputs": [
    {
     "name": "stdout",
     "output_type": "stream",
     "text": [
      "[3, 4, 6]\n"
     ]
    },
    {
     "data": {
      "text/plain": [
       "[3, 4, 6, 6, 4, 3]"
      ]
     },
     "execution_count": 66,
     "metadata": {},
     "output_type": "execute_result"
    }
   ],
   "source": [
    "a = [3, 4, 6]\n",
    "\n",
    "oa = list(a)\n",
    "oa = a\n",
    "\n",
    "print(a)\n",
    "\n",
    "for i in range(1,len(a)+1):\n",
    "#    print(a[-i])\n",
    "    oa.append(a[-i]) \n",
    "    \n",
    "oa"
   ]
  },
  {
   "cell_type": "code",
   "execution_count": 69,
   "metadata": {},
   "outputs": [
    {
     "data": {
      "text/plain": [
       "[3, 4, 6, 6, 4, 3]"
      ]
     },
     "execution_count": 69,
     "metadata": {},
     "output_type": "execute_result"
    }
   ],
   "source": [
    "a+list(reversed(a))"
   ]
  },
  {
   "cell_type": "code",
   "execution_count": 88,
   "metadata": {},
   "outputs": [
    {
     "name": "stdout",
     "output_type": "stream",
     "text": [
      "[True, True, False, False, True, True, False, True, False]\n",
      "[False, False, True, True, False, False, True, False, False]\n"
     ]
    }
   ],
   "source": [
    "a0 = 0\n",
    "a = [2, 6, 3, 1, 4, 8, 3, 5, 5]\n",
    "\n",
    "prev = a0\n",
    "\n",
    "Inc = []\n",
    "Dec = []\n",
    "for i in a:\n",
    "    Inc.append(i>prev)\n",
    "    Dec.append(i<prev)\n",
    "    prev = i\n",
    "\n",
    "print(Inc)\n",
    "print(Dec)\n",
    "\n",
    "#Inc = [True, True, False, False, True, True, False, True, False]\n",
    "#Dec = [False, False, True, True,False, False, True, False, False]\n",
    "\n",
    "\n"
   ]
  },
  {
   "cell_type": "markdown",
   "metadata": {},
   "source": [
    "Generate random walk in an array"
   ]
  },
  {
   "cell_type": "code",
   "execution_count": 100,
   "metadata": {},
   "outputs": [
    {
     "name": "stdout",
     "output_type": "stream",
     "text": [
      "[0, 0.07173293905450501, -0.3652340160453349, -0.07610430577230803, -1.4172015782500376, -0.31469586619290335, -1.4458834127459201, -0.7189045208807692, 0.9895551731951309, 0.1012103597338051, -1.0353093339238497]\n"
     ]
    },
    {
     "data": {
      "text/plain": [
       "11"
      ]
     },
     "execution_count": 100,
     "metadata": {},
     "output_type": "execute_result"
    }
   ],
   "source": [
    "import random\n",
    "\n",
    "N = 10\n",
    "mu = 0\n",
    "sig = 1\n",
    "\n",
    "x = 0\n",
    "a = [x]\n",
    "for i in range(N):\n",
    "    w = random.gauss(mu, sig)\n",
    "    x = x + w\n",
    "    a.append(x)\n",
    "\n",
    "print(a)\n",
    "len(a)"
   ]
  },
  {
   "cell_type": "markdown",
   "metadata": {},
   "source": [
    "List Comprehension"
   ]
  },
  {
   "cell_type": "code",
   "execution_count": 114,
   "metadata": {
    "scrolled": false
   },
   "outputs": [],
   "source": [
    "\n",
    "\n",
    "N = 100\n",
    "mu = 0\n",
    "sig = 1\n",
    "\n",
    "a = [random.gauss(mu, sig) for i in range(N)]\n",
    "\n",
    "\n",
    "for i in range(len(a)-1):\n",
    "    a[i+1] = a[i] + a[i+1]"
   ]
  },
  {
   "cell_type": "code",
   "execution_count": 2,
   "metadata": {
    "scrolled": true
   },
   "outputs": [
    {
     "name": "stderr",
     "output_type": "stream",
     "text": [
      "/Users/cemgil/anaconda/envs/py27/lib/python2.7/site-packages/matplotlib/font_manager.py:273: UserWarning: Matplotlib is building the font cache using fc-list. This may take a moment.\n",
      "  warnings.warn('Matplotlib is building the font cache using fc-list. This may take a moment.')\n"
     ]
    },
    {
     "ename": "NameError",
     "evalue": "name 'a' is not defined",
     "output_type": "error",
     "traceback": [
      "\u001b[0;31m---------------------------------------------------------------------------\u001b[0m",
      "\u001b[0;31mNameError\u001b[0m                                 Traceback (most recent call last)",
      "\u001b[0;32m<ipython-input-2-21ea5aee9192>\u001b[0m in \u001b[0;36m<module>\u001b[0;34m()\u001b[0m\n\u001b[1;32m      2\u001b[0m \u001b[0;32mimport\u001b[0m \u001b[0mmatplotlib\u001b[0m\u001b[0;34m.\u001b[0m\u001b[0mpylab\u001b[0m \u001b[0;32mas\u001b[0m \u001b[0mplt\u001b[0m\u001b[0;34m\u001b[0m\u001b[0m\n\u001b[1;32m      3\u001b[0m \u001b[0;34m\u001b[0m\u001b[0m\n\u001b[0;32m----> 4\u001b[0;31m \u001b[0mplt\u001b[0m\u001b[0;34m.\u001b[0m\u001b[0mplot\u001b[0m\u001b[0;34m(\u001b[0m\u001b[0ma\u001b[0m\u001b[0;34m)\u001b[0m\u001b[0;34m\u001b[0m\u001b[0m\n\u001b[0m\u001b[1;32m      5\u001b[0m \u001b[0mplt\u001b[0m\u001b[0;34m.\u001b[0m\u001b[0mshow\u001b[0m\u001b[0;34m(\u001b[0m\u001b[0;34m)\u001b[0m\u001b[0;34m\u001b[0m\u001b[0m\n",
      "\u001b[0;31mNameError\u001b[0m: name 'a' is not defined"
     ]
    }
   ],
   "source": [
    "%matplotlib inline\n",
    "import matplotlib.pylab as plt\n",
    "\n",
    "plt.plot(a)\n",
    "plt.show()"
   ]
  },
  {
   "cell_type": "markdown",
   "metadata": {},
   "source": [
    "Moving Average"
   ]
  },
  {
   "cell_type": "code",
   "execution_count": 118,
   "metadata": {
    "scrolled": true
   },
   "outputs": [
    {
     "data": {
      "image/png": "[encoded data removed]",
      "text/plain": [
       "<matplotlib.figure.Figure at 0x10eec8550>"
      ]
     },
     "metadata": {},
     "output_type": "display_data"
    }
   ],
   "source": [
    "# Window Lenght\n",
    "W = 20\n",
    "\n",
    "y = []\n",
    "for i in range(len(a)):\n",
    "    s = 0\n",
    "    n = 0\n",
    "    for j in range(W):\n",
    "        if i-j < 0:\n",
    "            break;\n",
    "        \n",
    "        s = s + a[i-j]\n",
    "        n = n + 1\n",
    "    y.append(s/n)\n",
    "\n",
    "plt.plot(a)\n",
    "plt.plot(y)\n",
    "plt.show()\n"
   ]
  },
  {
   "cell_type": "markdown",
   "metadata": {},
   "source": [
    "Moving average, second version"
   ]
  },
  {
   "cell_type": "code",
   "execution_count": 119,
   "metadata": {
    "scrolled": true
   },
   "outputs": [
    {
     "data": {
      "image/png": "[encoded data removed]",
      "text/plain": [
       "<matplotlib.figure.Figure at 0x10f4a1450>"
      ]
     },
     "metadata": {},
     "output_type": "display_data"
    }
   ],
   "source": [
    "# Window Lenght\n",
    "W = 20\n",
    "\n",
    "y = []\n",
    "s = 0\n",
    "n = 0\n",
    "for i in range(len(a)):\n",
    "    s = s + a[i]\n",
    "    if i>=W:\n",
    "        s = s - a[i-W]\n",
    "    else:\n",
    "        n = n + 1\n",
    "            \n",
    "    y.append(s/n)\n",
    "\n",
    "plt.plot(a)\n",
    "plt.plot(y)\n",
    "plt.show()\n"
   ]
  },
  {
   "cell_type": "code",
   "execution_count": 127,
   "metadata": {
    "scrolled": true
   },
   "outputs": [
    {
     "name": "stdout",
     "output_type": "stream",
     "text": [
      "2.5\n",
      "1.25\n"
     ]
    }
   ],
   "source": [
    "def mean(a):\n",
    "    s = 0\n",
    "    for x in a:\n",
    "        s = s+x\n",
    "    return s/float(len(a))\n",
    "    \n",
    "def var(a):\n",
    "    mu = mean(a)\n",
    "    s = 0\n",
    "    for i in range(len(a)):\n",
    "        s = s+ (a[i]-mu)**2\n",
    "    return float(s)/len(a)\n",
    "    \n",
    "a = [3,4,1,2]\n",
    "    \n",
    "print(mean(a))\n",
    "print(var(a))\n"
   ]
  },
  {
   "cell_type": "markdown",
   "metadata": {},
   "source": [
    "Mean and Variance, online calculation"
   ]
  },
  {
   "cell_type": "code",
   "execution_count": 147,
   "metadata": {
    "scrolled": false
   },
   "outputs": [
    {
     "name": "stdout",
     "output_type": "stream",
     "text": [
      "2.5\n"
     ]
    }
   ],
   "source": [
    "def mean(a):\n",
    "    mu = 0.0\n",
    "    for i in range(len(a)):\n",
    "        mu = i/(i+1.0)*mu + 1.0/(i+1.0)*a[i]\n",
    "    return mu\n",
    "\n",
    "a = [3,4,1,2]\n",
    "\n",
    "#print(a)\n",
    "print(mean(a))"
   ]
  },
  {
   "cell_type": "markdown",
   "metadata": {},
   "source": [
    "Implement the recursive formula for the variance\n"
   ]
  },
  {
   "cell_type": "code",
   "execution_count": 135,
   "metadata": {},
   "outputs": [
    {
     "name": "stdout",
     "output_type": "stream",
     "text": [
      "1\n",
      "2\n",
      "3\n",
      "4\n"
     ]
    }
   ],
   "source": [
    "for i in range(1,len(a)+1):\n",
    "    print(i)"
   ]
  },
  {
   "cell_type": "code",
   "execution_count": 104,
   "metadata": {},
   "outputs": [
    {
     "data": {
      "text/plain": [
       "[0, 1, 4, 9, 16, 25, 36, 49, 64, 81]"
      ]
     },
     "execution_count": 104,
     "metadata": {},
     "output_type": "execute_result"
    }
   ],
   "source": [
    "a = [i**2 for i in range(10)]\n",
    "a"
   ]
  },
  {
   "cell_type": "code",
   "execution_count": 150,
   "metadata": {},
   "outputs": [
    {
     "name": "stdout",
     "output_type": "stream",
     "text": [
      "if\n"
     ]
    }
   ],
   "source": [
    "st = 'if'\n",
    "\n",
    "if st == 'if':\n",
    "    print('if')\n",
    "elif st == 'elif':\n",
    "    print('elif')\n",
    "else:\n",
    "    print('not elif')"
   ]
  },
  {
   "cell_type": "code",
   "execution_count": null,
   "metadata": {
    "collapsed": true
   },
   "outputs": [],
   "source": [
    "if x<10 and x>3:\n",
    "    "
   ]
  },
  {
   "cell_type": "code",
   "execution_count": 151,
   "metadata": {
    "scrolled": true
   },
   "outputs": [
    {
     "name": "stdout",
     "output_type": "stream",
     "text": [
      "0\n",
      "2\n",
      "4\n",
      "6\n",
      "8\n"
     ]
    }
   ],
   "source": [
    "for i in range(10):\n",
    "    if i%2:\n",
    "        continue\n",
    "    \n",
    "    print i\n",
    "    "
   ]
  },
  {
   "cell_type": "code",
   "execution_count": 152,
   "metadata": {},
   "outputs": [
    {
     "data": {
      "text/plain": [
       "-1.0353093339238497"
      ]
     },
     "execution_count": 152,
     "metadata": {},
     "output_type": "execute_result"
    }
   ],
   "source": [
    "x"
   ]
  },
  {
   "cell_type": "code",
   "execution_count": 153,
   "metadata": {
    "collapsed": true
   },
   "outputs": [],
   "source": [
    "del x"
   ]
  },
  {
   "cell_type": "code",
   "execution_count": 160,
   "metadata": {},
   "outputs": [
    {
     "data": {
      "text/plain": [
       "0.1411200080598672"
      ]
     },
     "execution_count": 160,
     "metadata": {},
     "output_type": "execute_result"
    }
   ],
   "source": [
    "from math import exp\n",
    "import math as m\n",
    "\n",
    "\n",
    "\n",
    "x = 3\n",
    "\n",
    "exp(x)\n",
    "\n",
    "m.sin(x)"
   ]
  },
  {
   "cell_type": "code",
   "execution_count": 166,
   "metadata": {},
   "outputs": [
    {
     "name": "stdout",
     "output_type": "stream",
     "text": [
      "x\n"
     ]
    }
   ],
   "source": [
    "if x == 3:\n",
    "    print 'x'"
   ]
  },
  {
   "cell_type": "code",
   "execution_count": 168,
   "metadata": {},
   "outputs": [
    {
     "name": "stdout",
     "output_type": "stream",
     "text": [
      "10\n",
      "20\n",
      "30\n",
      "40\n",
      "50\n",
      "60\n",
      "70\n",
      "80\n",
      "90\n",
      "100\n"
     ]
    }
   ],
   "source": [
    "i = 0\n",
    "while i<10:\n",
    "    i+=1\n",
    "    print(i*10)"
   ]
  },
  {
   "cell_type": "code",
   "execution_count": 194,
   "metadata": {},
   "outputs": [
    {
     "data": {
      "image/png": "[encoded data removed]",
      "text/plain": [
       "<matplotlib.figure.Figure at 0x10fc2d110>"
      ]
     },
     "metadata": {},
     "output_type": "display_data"
    }
   ],
   "source": [
    "%matplotlib inline\n",
    "import matplotlib.pylab as plt\n",
    "\n",
    "x = [z/10. for z in range(-20,21)]\n",
    "x2 = [z**2 for z in x]\n",
    "x3 = [z**3 for z in x]\n",
    "sinx = [math.sin(z) for z in x]\n",
    "\n",
    "plt.plot(x,x)\n",
    "plt.plot(x,x2)\n",
    "plt.plot(x,sinx)\n",
    "plt.show()\n",
    "\n"
   ]
  },
  {
   "cell_type": "code",
   "execution_count": 180,
   "metadata": {
    "scrolled": true
   },
   "outputs": [
    {
     "data": {
      "text/plain": [
       "[-2.0,\n",
       " -1.8999999999999999,\n",
       " -1.7999999999999998,\n",
       " -1.6999999999999997,\n",
       " -1.5999999999999996,\n",
       " -1.4999999999999996,\n",
       " -1.3999999999999995,\n",
       " -1.2999999999999994,\n",
       " -1.1999999999999993,\n",
       " -1.0999999999999992,\n",
       " -0.99999999999999911,\n",
       " -0.89999999999999902,\n",
       " -0.79999999999999893,\n",
       " -0.69999999999999885,\n",
       " -0.59999999999999876,\n",
       " -0.49999999999999867,\n",
       " -0.39999999999999858,\n",
       " -0.29999999999999849,\n",
       " -0.1999999999999984,\n",
       " -0.099999999999998312,\n",
       " 1.7763568394002505e-15,\n",
       " 0.10000000000000187,\n",
       " 0.20000000000000195,\n",
       " 0.30000000000000204,\n",
       " 0.40000000000000213,\n",
       " 0.50000000000000222,\n",
       " 0.60000000000000231,\n",
       " 0.7000000000000024,\n",
       " 0.80000000000000249,\n",
       " 0.90000000000000258,\n",
       " 1.0000000000000027,\n",
       " 1.1000000000000028,\n",
       " 1.2000000000000028,\n",
       " 1.3000000000000029,\n",
       " 1.400000000000003,\n",
       " 1.5000000000000031,\n",
       " 1.6000000000000032,\n",
       " 1.7000000000000033,\n",
       " 1.8000000000000034,\n",
       " 1.9000000000000035]"
      ]
     },
     "execution_count": 180,
     "metadata": {},
     "output_type": "execute_result"
    }
   ],
   "source": [
    "import numpy as np\n",
    "\n",
    "x = [z for z in np.arange(-2,2,0.1)]\n",
    "\n",
    "x"
   ]
  },
  {
   "cell_type": "code",
   "execution_count": 182,
   "metadata": {
    "collapsed": true
   },
   "outputs": [],
   "source": [
    "x = [2,3]\n",
    "\n",
    "y = (2,3)"
   ]
  },
  {
   "cell_type": "code",
   "execution_count": 188,
   "metadata": {},
   "outputs": [],
   "source": [
    "x[0] = 3\n",
    "\n",
    "\n",
    "y = (z for z in range(5))"
   ]
  },
  {
   "cell_type": "code",
   "execution_count": 190,
   "metadata": {
    "scrolled": true
   },
   "outputs": [
    {
     "name": "stdout",
     "output_type": "stream",
     "text": [
      "0\n",
      "1\n",
      "2\n",
      "3\n",
      "4\n"
     ]
    }
   ],
   "source": [
    "for i in y:\n",
    "    print(i)"
   ]
  },
  {
   "cell_type": "code",
   "execution_count": 191,
   "metadata": {},
   "outputs": [
    {
     "ename": "TypeError",
     "evalue": "'generator' object has no attribute '__getitem__'",
     "output_type": "error",
     "traceback": [
      "\u001b[0;31m---------------------------------------------------------------------------\u001b[0m",
      "\u001b[0;31mTypeError\u001b[0m                                 Traceback (most recent call last)",
      "\u001b[0;32m<ipython-input-191-db3ecb40ccce>\u001b[0m in \u001b[0;36m<module>\u001b[0;34m()\u001b[0m\n\u001b[0;32m----> 1\u001b[0;31m \u001b[0my\u001b[0m\u001b[0;34m[\u001b[0m\u001b[0;36m5\u001b[0m\u001b[0;34m]\u001b[0m\u001b[0;34m\u001b[0m\u001b[0m\n\u001b[0m",
      "\u001b[0;31mTypeError\u001b[0m: 'generator' object has no attribute '__getitem__'"
     ]
    }
   ],
   "source": []
  },
  {
   "cell_type": "code",
   "execution_count": 223,
   "metadata": {},
   "outputs": [
    {
     "data": {
      "text/plain": [
       "-2.4789578043092426"
      ]
     },
     "execution_count": 223,
     "metadata": {},
     "output_type": "execute_result"
    }
   ],
   "source": [
    "import random\n",
    "\n",
    "math.pi*(2*random.random()-1)"
   ]
  },
  {
   "cell_type": "code",
   "execution_count": 1,
   "metadata": {
    "scrolled": true
   },
   "outputs": [
    {
     "ename": "NameError",
     "evalue": "global name 'random' is not defined",
     "output_type": "error",
     "traceback": [
      "\u001b[0;31m---------------------------------------------------------------------------\u001b[0m",
      "\u001b[0;31mNameError\u001b[0m                                 Traceback (most recent call last)",
      "\u001b[0;32m<ipython-input-1-10e3023eee10>\u001b[0m in \u001b[0;36m<module>\u001b[0;34m()\u001b[0m\n\u001b[1;32m      5\u001b[0m \u001b[0;34m\u001b[0m\u001b[0m\n\u001b[1;32m      6\u001b[0m \u001b[0;31m# Generate N points in the square and store in a list\u001b[0m\u001b[0;34m\u001b[0m\u001b[0;34m\u001b[0m\u001b[0m\n\u001b[0;32m----> 7\u001b[0;31m \u001b[0mpoints\u001b[0m \u001b[0;34m=\u001b[0m \u001b[0;34m[\u001b[0m\u001b[0;34m[\u001b[0m\u001b[0munif\u001b[0m\u001b[0;34m(\u001b[0m\u001b[0;34m)\u001b[0m\u001b[0;34m,\u001b[0m \u001b[0munif\u001b[0m\u001b[0;34m(\u001b[0m\u001b[0;34m)\u001b[0m\u001b[0;34m]\u001b[0m \u001b[0;32mfor\u001b[0m \u001b[0mi\u001b[0m \u001b[0;32min\u001b[0m \u001b[0mrange\u001b[0m\u001b[0;34m(\u001b[0m\u001b[0mN\u001b[0m\u001b[0;34m)\u001b[0m \u001b[0;34m]\u001b[0m\u001b[0;34m\u001b[0m\u001b[0m\n\u001b[0m\u001b[1;32m      8\u001b[0m \u001b[0;34m\u001b[0m\u001b[0m\n\u001b[1;32m      9\u001b[0m \u001b[0;31m# For each point check if it is in the circle and count the total number\u001b[0m\u001b[0;34m\u001b[0m\u001b[0;34m\u001b[0m\u001b[0m\n",
      "\u001b[0;32m<ipython-input-1-10e3023eee10>\u001b[0m in \u001b[0;36munif\u001b[0;34m()\u001b[0m\n\u001b[1;32m      1\u001b[0m \u001b[0;32mdef\u001b[0m \u001b[0munif\u001b[0m\u001b[0;34m(\u001b[0m\u001b[0;34m)\u001b[0m\u001b[0;34m:\u001b[0m\u001b[0;34m\u001b[0m\u001b[0m\n\u001b[0;32m----> 2\u001b[0;31m     \u001b[0;32mreturn\u001b[0m \u001b[0;36m2\u001b[0m\u001b[0;34m*\u001b[0m\u001b[0mrandom\u001b[0m\u001b[0;34m.\u001b[0m\u001b[0mrandom\u001b[0m\u001b[0;34m(\u001b[0m\u001b[0;34m)\u001b[0m \u001b[0;34m-\u001b[0m \u001b[0;36m1\u001b[0m\u001b[0;34m\u001b[0m\u001b[0m\n\u001b[0m\u001b[1;32m      3\u001b[0m \u001b[0;34m\u001b[0m\u001b[0m\n\u001b[1;32m      4\u001b[0m \u001b[0mN\u001b[0m \u001b[0;34m=\u001b[0m \u001b[0;36m100\u001b[0m\u001b[0;34m\u001b[0m\u001b[0m\n\u001b[1;32m      5\u001b[0m \u001b[0;34m\u001b[0m\u001b[0m\n",
      "\u001b[0;31mNameError\u001b[0m: global name 'random' is not defined"
     ]
    }
   ],
   "source": [
    "def unif():\n",
    "    return 2*random.random() - 1\n",
    "\n",
    "N = 100\n",
    "\n",
    "# Generate N points in the square and store in a list\n",
    "points = [[unif(), unif()] for i in range(N) ]\n",
    "\n",
    "# For each point check if it is in the circle and count the total number\n",
    "# plot points in the circle as blue\n",
    "# plot points outside as red\n",
    "\n",
    "count = 0\n",
    "px_in = []\n",
    "py_in = []\n",
    "px_out = []\n",
    "py_out = []\n",
    "for x in points:\n",
    "    if x[0]**2 + x[1]**2< 1:\n",
    "        count += 1\n",
    "        px_in.append(x[0])\n",
    "        py_in.append(x[1])\n",
    "    else:\n",
    "        px_out.append(x[0])\n",
    "        py_out.append(x[1])\n",
    "    \n",
    "\n",
    "print(4.0*count/N)\n",
    "\n",
    "plt.plot(px_in, py_in,'.b')\n",
    "plt.plot(px_out, py_out,'.r')\n",
    "plt.show()\n"
   ]
  },
  {
   "cell_type": "code",
   "execution_count": 253,
   "metadata": {},
   "outputs": [
    {
     "name": "stdout",
     "output_type": "stream",
     "text": [
      "4.190776\n",
      "4.18879020479\n"
     ]
    }
   ],
   "source": [
    "def unif():\n",
    "    return 2*random.random() - 1\n",
    "\n",
    "N = 1000000\n",
    "\n",
    "\n",
    "count = 0\n",
    "for i in range(N):\n",
    "    x = [unif(), unif(), unif()]\n",
    "    if x[0]**2 + x[1]**2 + x[2]**2 < 1:\n",
    "        count += 1\n",
    "\n",
    "print(8*float(count)/N)\n",
    "print(4.0/3.0*math.pi)\n"
   ]
  },
  {
   "cell_type": "code",
   "execution_count": 227,
   "metadata": {
    "scrolled": true
   },
   "outputs": [
    {
     "name": "stdout",
     "output_type": "stream",
     "text": [
      "[0.5669673838721772, 0.8780780353618138]\n",
      "[0.27412079600315264, 0.6816166464306519]\n",
      "[0.5328030431009356, 0.2771763253798074]\n",
      "[0.823868172070928, -0.5271300068861811]\n",
      "[0.8956904454811281, -0.5074709824240229]\n",
      "[0.3592475026139912, 0.9804238195673225]\n",
      "[-0.14259791062631044, 0.3106098012654106]\n",
      "[-0.31312787419231314, 0.3527459657040679]\n",
      "[0.1898388211757973, 0.2483440273290023]\n",
      "[0.8936854598353037, -0.9638186968466502]\n"
     ]
    }
   ],
   "source": [
    "for x in points:\n",
    "    print(x)"
   ]
  },
  {
   "cell_type": "code",
   "execution_count": 254,
   "metadata": {},
   "outputs": [
    {
     "name": "stdout",
     "output_type": "stream",
     "text": [
      "('a', 3)\n",
      "('b', 4)\n",
      "('d', 5)\n"
     ]
    }
   ],
   "source": [
    "y = [3,4,5]\n",
    "x = ['a','b','d']\n",
    "\n",
    "for u,v in zip(x, y):\n",
    "    print(u,v)"
   ]
  },
  {
   "cell_type": "code",
   "execution_count": 257,
   "metadata": {
    "collapsed": true
   },
   "outputs": [],
   "source": [
    "import sys\n",
    "\n",
    "sys.stdout"
   ]
  },
  {
   "cell_type": "code",
   "execution_count": 9,
   "metadata": {
    "scrolled": true
   },
   "outputs": [
    {
     "data": {
      "text/plain": [
       "3600"
      ]
     },
     "execution_count": 9,
     "metadata": {},
     "output_type": "execute_result"
    }
   ],
   "source": [
    "a = [3,4,5]\n",
    "a = map(lambda x: x**2, a)\n",
    "\n",
    "reduce(lambda a,b: a*b, a)\n",
    "\n"
   ]
  },
  {
   "cell_type": "code",
   "execution_count": 11,
   "metadata": {},
   "outputs": [
    {
     "data": {
      "text/plain": [
       "['twinkle', 'tinkle', 'little', 'star']"
      ]
     },
     "execution_count": 11,
     "metadata": {},
     "output_type": "execute_result"
    }
   ],
   "source": [
    "ln = 'twinkle tinkle little star'\n",
    "\n",
    "ln.split()"
   ]
  },
  {
   "cell_type": "code",
   "execution_count": 15,
   "metadata": {},
   "outputs": [
    {
     "data": {
      "text/plain": [
       "[1, 3, 4, 4]"
      ]
     },
     "execution_count": 15,
     "metadata": {},
     "output_type": "execute_result"
    }
   ],
   "source": [
    "lst = [1,3,4]\n",
    "\n",
    "lst.insert(2,4)\n",
    "lst"
   ]
  },
  {
   "cell_type": "code",
   "execution_count": null,
   "metadata": {
    "collapsed": true
   },
   "outputs": [],
   "source": [
    "import sys\n",
    "\n",
    "N = int(raw_input().strip())\n",
    "lst = []\n",
    "for line in sys.stdin:\n",
    "    tok = line.split()\n",
    "    if tok[0] == 'insert':\n",
    "        i = int(tok[1])\n",
    "        val = int(tok[2])\n",
    "        lst.insert(i,val)\n",
    "    elif tok[0] == 'print':\n",
    "        print(lst)\n",
    "    elif tok[0] == 'remove':\n",
    "        val = int(tok[1])\n",
    "        lst.remove(val)\n",
    "    elif tok[0] == 'append':\n",
    "        val = int(tok[1])\n",
    "        lst.append(val)\n",
    "    elif tok[0] == 'sort':\n",
    "        lst.sort()\n",
    "    elif tok[0] == 'pop':\n",
    "        lst.pop()\n",
    "    elif tok[0] == 'reverse':\n",
    "        lst.reverse()\n",
    "    else:\n",
    "        print('none')\n",
    "        \n",
    "        "
   ]
  },
  {
   "cell_type": "code",
   "execution_count": null,
   "metadata": {
    "collapsed": true
   },
   "outputs": [],
   "source": []
  },
  {
   "cell_type": "code",
   "execution_count": 73,
   "metadata": {},
   "outputs": [
    {
     "name": "stdout",
     "output_type": "stream",
     "text": [
      "Enter Price 12\n",
      "Enter Capital 34\n",
      "Number of Items\n",
      "2.83333333333\n"
     ]
    }
   ],
   "source": [
    "p = raw_input('Enter Price ')\n",
    "C = raw_input('Enter Capital ')\n",
    "print 'Number of Items'\n",
    "print float(C)/int(p)"
   ]
  },
  {
   "cell_type": "code",
   "execution_count": 6,
   "metadata": {},
   "outputs": [
    {
     "data": {
      "text/plain": [
       "'Adana'"
      ]
     },
     "execution_count": 6,
     "metadata": {},
     "output_type": "execute_result"
    }
   ],
   "source": [
    "\n",
    "c = {'A': 3, 'B': 7, 'C': [2,3], 'D': 'Adana'}\n",
    "#print(c)\n",
    "\n",
    "c['D']\n"
   ]
  },
  {
   "cell_type": "markdown",
   "metadata": {},
   "source": [
    "Catalog"
   ]
  },
  {
   "cell_type": "code",
   "execution_count": 12,
   "metadata": {
    "scrolled": true
   },
   "outputs": [
    {
     "name": "stdout",
     "output_type": "stream",
     "text": [
      "(3, 0.1)\n"
     ]
    }
   ],
   "source": [
    "def fun(x, par):\n",
    "    print(x, par['volatility'])\n",
    "\n",
    "params = {'volatility': 0.1, 'interest_rate': 0.08}\n",
    "\n",
    "sig = params['volatility']\n",
    "r = params['interest_rate']\n",
    "\n",
    "fun(3, params)\n",
    "\n"
   ]
  },
  {
   "cell_type": "code",
   "execution_count": 16,
   "metadata": {
    "scrolled": true
   },
   "outputs": [
    {
     "name": "stdout",
     "output_type": "stream",
     "text": [
      "the number plate for Istanbul is 34\n"
     ]
    }
   ],
   "source": [
    "plate = {'Istanbul':34}\n",
    "city = 'Istanbul'\n",
    "print 'the number plate for', city,'is', plate[city]"
   ]
  },
  {
   "cell_type": "code",
   "execution_count": 18,
   "metadata": {
    "scrolled": true
   },
   "outputs": [
    {
     "name": "stdout",
     "output_type": "stream",
     "text": [
      "('the number plate for', 'Adana', 'is', '01')\n",
      "('the number plate for', 'Ankara', 'is', '06')\n",
      "('the number plate for', 'Istanbul', 'is', 34)\n",
      "('the number plate for', 'Izmir', 'is', 35)\n",
      "('the number plate for', 'Hannover', 'is', 'H')\n"
     ]
    }
   ],
   "source": [
    "plate = {'Istanbul':34, 'Adana': '01', 'Ankara': '06', 'Izmir': 35, 'Hannover': 'H'}\n",
    "cities = ['Adana', 'Ankara','Istanbul','Izmir','Hannover']\n",
    "for city in cities:\n",
    "    print('the number plate for', city,'is', plate[city])"
   ]
  },
  {
   "cell_type": "code",
   "execution_count": 20,
   "metadata": {
    "scrolled": true
   },
   "outputs": [
    {
     "name": "stdout",
     "output_type": "stream",
     "text": [
      "Ankara\n",
      "Adana\n",
      "Hannover\n",
      "Izmir\n",
      "Istanbul\n"
     ]
    }
   ],
   "source": [
    "for i in plate.keys():\n",
    "    print i"
   ]
  },
  {
   "cell_type": "code",
   "execution_count": 22,
   "metadata": {},
   "outputs": [
    {
     "data": {
      "text/plain": [
       "False"
      ]
     },
     "execution_count": 22,
     "metadata": {},
     "output_type": "execute_result"
    }
   ],
   "source": [
    "plate.has_key('Balikesir')"
   ]
  },
  {
   "cell_type": "code",
   "execution_count": 23,
   "metadata": {
    "collapsed": true
   },
   "outputs": [],
   "source": [
    "plate['Eskisehir'] = 26\n"
   ]
  },
  {
   "cell_type": "code",
   "execution_count": 28,
   "metadata": {
    "scrolled": false
   },
   "outputs": [
    {
     "name": "stdout",
     "output_type": "stream",
     "text": [
      " Adana 01\n",
      "Ankara 06\n",
      "Eskisehir 26\n",
      "Hannover H\n",
      "Istanbul 34\n",
      "Izmir 35\n"
     ]
    }
   ],
   "source": [
    "for i in sorted(plate.keys()):\n",
    "    print i, plate[i]"
   ]
  },
  {
   "cell_type": "code",
   "execution_count": 43,
   "metadata": {
    "collapsed": true
   },
   "outputs": [],
   "source": [
    "students = {273: {'Name': 'Ali', 'Surname': 'Yasar', 'Gender': 'M'}}\n",
    "students[395] = {'Name': 'Ayse', 'Surname': 'Oz', 'Gender': 'F'}\n",
    "students[398] = {'Name': 'Ayse', 'Surname': 'Atik', 'Gender': 'F'}\n",
    "students[112] = {'Name': 'Ahmet', 'Surname': 'Uz', 'Gender': 'M'}\n",
    "students[450] = {'Name': 'Veli', 'Surname': 'Gez', 'Gender': 'M'}\n",
    "students[451] = {'Name': 'Taylan', 'Surname': 'Cemgil', 'Gender': 'U'}\n"
   ]
  },
  {
   "cell_type": "code",
   "execution_count": 35,
   "metadata": {
    "scrolled": true
   },
   "outputs": [
    {
     "name": "stdout",
     "output_type": "stream",
     "text": [
      "Ayse\n"
     ]
    }
   ],
   "source": [
    "for i in students:\n",
    "    if students[i]['Gender'] is 'F':\n",
    "        print students[i]['Name']"
   ]
  },
  {
   "cell_type": "code",
   "execution_count": 41,
   "metadata": {},
   "outputs": [
    {
     "data": {
      "text/plain": [
       "{'F': 1, 'M': 3, 'U': 1}"
      ]
     },
     "execution_count": 41,
     "metadata": {},
     "output_type": "execute_result"
    }
   ],
   "source": [
    "counts = {'M': 0, 'F': 0}\n",
    "\n",
    "for i in students:\n",
    "    G = students[i]['Gender']\n",
    "    if counts.has_key(G):\n",
    "        counts[G] += 1\n",
    "    else:\n",
    "        counts[G] = 1\n",
    "\n",
    "counts"
   ]
  },
  {
   "cell_type": "code",
   "execution_count": 44,
   "metadata": {},
   "outputs": [
    {
     "data": {
      "text/plain": [
       "{'Ahmet': 1, 'Ali': 1, 'Ayse': 2, 'Taylan': 1, 'Veli': 1}"
      ]
     },
     "execution_count": 44,
     "metadata": {},
     "output_type": "execute_result"
    }
   ],
   "source": [
    "counts = {}\n",
    "\n",
    "for i in students:\n",
    "    G = students[i]['Name']\n",
    "    if counts.has_key(G):\n",
    "        counts[G] += 1\n",
    "    else:\n",
    "        counts[G] = 1\n",
    "\n",
    "counts\n"
   ]
  },
  {
   "cell_type": "markdown",
   "metadata": {},
   "source": [
    "Tuples (Immutable Arrays, no change possible after creation)"
   ]
  },
  {
   "cell_type": "code",
   "execution_count": 49,
   "metadata": {},
   "outputs": [
    {
     "data": {
      "text/plain": [
       "0"
      ]
     },
     "execution_count": 49,
     "metadata": {},
     "output_type": "execute_result"
    }
   ],
   "source": [
    "a = ('Ankara', '06')\n",
    "\n",
    "a.count('Istanbul')"
   ]
  },
  {
   "cell_type": "code",
   "execution_count": 53,
   "metadata": {
    "scrolled": true
   },
   "outputs": [
    {
     "data": {
      "image/png": "[encoded data removed]",
      "text/plain": [
       "<matplotlib.figure.Figure at 0x10cd37110>"
      ]
     },
     "metadata": {},
     "output_type": "display_data"
    }
   ],
   "source": [
    "%matplotlib inline\n",
    "\n",
    "import numpy as np\n",
    "import matplotlib.pylab as plt\n",
    "\n",
    "x = np.arange(-2,2,0.1)\n",
    "\n",
    "plt.plot(x,x)\n",
    "plt.plot(x,x**2)\n",
    "plt.plot(x,np.sin(x))\n",
    "plt.show()\n",
    "\n"
   ]
  },
  {
   "cell_type": "markdown",
   "metadata": {},
   "source": [
    "Numpy arrays versus matrices"
   ]
  },
  {
   "cell_type": "code",
   "execution_count": 62,
   "metadata": {},
   "outputs": [
    {
     "name": "stdout",
     "output_type": "stream",
     "text": [
      "[[ 0.69119365]\n",
      " [ 1.25372192]\n",
      " [ 1.58909165]]\n"
     ]
    }
   ],
   "source": [
    "A = np.random.rand(3,5)\n",
    "x = np.random.rand(5,1)\n",
    "print(A.dot(x))\n",
    "\n"
   ]
  },
  {
   "cell_type": "code",
   "execution_count": 63,
   "metadata": {
    "scrolled": true
   },
   "outputs": [
    {
     "name": "stdout",
     "output_type": "stream",
     "text": [
      "[[ 0.69119365]\n",
      " [ 1.25372192]\n",
      " [ 1.58909165]]\n"
     ]
    }
   ],
   "source": [
    "A = np.mat(A)\n",
    "x = np.mat(x)\n",
    "print(A*x)"
   ]
  },
  {
   "cell_type": "code",
   "execution_count": 65,
   "metadata": {
    "scrolled": true
   },
   "outputs": [
    {
     "name": "stdout",
     "output_type": "stream",
     "text": [
      "[[ 0.08673755]\n",
      " [ 0.0456282 ]\n",
      " [ 0.71475827]]\n",
      "[[ 0.27890196]\n",
      " [ 0.64473462]\n",
      " [ 0.90795421]]\n"
     ]
    },
    {
     "data": {
      "text/plain": [
       "matrix([[ 0.70257714]])"
      ]
     },
     "execution_count": 65,
     "metadata": {},
     "output_type": "execute_result"
    }
   ],
   "source": [
    "a = np.mat(np.random.rand(3,1))\n",
    "b = np.mat(np.random.rand(3,1))\n",
    "\n",
    "print(a)\n",
    "print(b)\n",
    "\n",
    "a.T*b"
   ]
  },
  {
   "cell_type": "code",
   "execution_count": 91,
   "metadata": {
    "scrolled": true
   },
   "outputs": [
    {
     "name": "stdout",
     "output_type": "stream",
     "text": [
      "[[ 0.0824769  -0.00162642  0.00029607]\n",
      " [-0.00162642  0.08155178 -0.00138188]\n",
      " [ 0.00029607 -0.00138188  0.08613698]]\n"
     ]
    }
   ],
   "source": [
    "N = 1000\n",
    "D = 3\n",
    "\n",
    "X = np.random.rand(N, D)\n",
    "\n",
    "mu = X.mean(axis=0, keepdims=True)\n",
    "\n",
    "#print(mu)\n",
    "print((X - mu).T.dot(X-mu)/(N-1.))"
   ]
  },
  {
   "cell_type": "code",
   "execution_count": 81,
   "metadata": {
    "scrolled": false
   },
   "outputs": [
    {
     "data": {
      "text/plain": [
       "array([[ 0.08398359, -0.00065329,  0.00340067],\n",
       "       [-0.00065329,  0.08460085,  0.00098845],\n",
       "       [ 0.00340067,  0.00098845,  0.08525833]])"
      ]
     },
     "execution_count": 81,
     "metadata": {},
     "output_type": "execute_result"
    }
   ],
   "source": [
    "np.cov(X.T)"
   ]
  },
  {
   "cell_type": "code",
   "execution_count": 95,
   "metadata": {
    "scrolled": true
   },
   "outputs": [
    {
     "name": "stdout",
     "output_type": "stream",
     "text": [
      "[[  1   2   3   4   5   6   7   8   9  10]\n",
      " [  2   4   6   8  10  12  14  16  18  20]\n",
      " [  3   6   9  12  15  18  21  24  27  30]\n",
      " [  4   8  12  16  20  24  28  32  36  40]\n",
      " [  5  10  15  20  25  30  35  40  45  50]\n",
      " [  6  12  18  24  30  36  42  48  54  60]\n",
      " [  7  14  21  28  35  42  49  56  63  70]\n",
      " [  8  16  24  32  40  48  56  64  72  80]\n",
      " [  9  18  27  36  45  54  63  72  81  90]\n",
      " [ 10  20  30  40  50  60  70  80  90 100]]\n"
     ]
    }
   ],
   "source": [
    "print(np.mat(np.arange(1,11)).T*np.mat(np.arange(1,11)))"
   ]
  },
  {
   "cell_type": "markdown",
   "metadata": {},
   "source": [
    "B&S with Monte Carlo Call and Put pricing, use a catalog and numpy, avoid using for loops"
   ]
  },
  {
   "cell_type": "code",
   "execution_count": 10,
   "metadata": {
    "scrolled": true
   },
   "outputs": [
    {
     "name": "stdout",
     "output_type": "stream",
     "text": [
      "European\n",
      "Call=  15.5726197769 \n",
      "Put =  5.13556380233\n",
      "Asian\n",
      "Call=  8.16477817074 \n",
      "Put =  3.17271035914\n",
      "Lookback\n",
      "Call=  25.6819276647 \n",
      "Put =  12.5838549789\n",
      "FloatingLookback\n",
      "Call=  23.0385882044 \n",
      "Put =  15.3296952253\n"
     ]
    }
   ],
   "source": [
    "import numpy as np\n",
    "\n",
    "def European(Param, S0=1., T=1., Strike=1.,N=10000 ):\n",
    "    '''\n",
    "    Price_Call, Price_Put = European(Param, S0, T, Strike,N)\n",
    "    \n",
    "        Param: Market parameters, a catalog with fields \n",
    "            Param['InterestRate'] : Yearly risk free interest rate\n",
    "            Param['Volatility'] : \n",
    "        S0 : Initial asset price\n",
    "        T  : Time Period (in Years)\n",
    "        Strike: Strike Price\n",
    "        N : Number of Monte Carlo Samples\n",
    "    '''\n",
    "    W = np.sqrt(T)*np.random.standard_normal(N)\n",
    "    ST = S0*np.exp(T*(Param['InterestRate']-0.5*Param['Volatility']**2) + Param['Volatility']*W)\n",
    "    CT = np.maximum(ST-Strike, 0)\n",
    "    PT = np.maximum(Strike-ST, 0)\n",
    "\n",
    "    Price_C = CT.mean()*np.exp(-Param['InterestRate']*T)\n",
    "    Price_P = PT.mean()*np.exp(-Param['InterestRate']*T)\n",
    "    return Price_C, Price_P\n",
    "\n",
    "def Lookback(Param, S0=1., T=1., Strike=1., Steps=12, N=10000 ):\n",
    "    '''\n",
    "    Price_Call, Price_Put = Lookback(Param, S0, T, Strike, Steps, N)\n",
    "    \n",
    "        Param: Market parameters, a catalog with fields \n",
    "            Param['InterestRate'] : Yearly risk free interest rate\n",
    "            Param['Volatility'] : \n",
    "        S0 : Initial asset price\n",
    "        T  : Time Period (in Years)\n",
    "        Strike: Strike Price\n",
    "        Steps : Number of steps to monitor the stock price\n",
    "        N : Number of Monte Carlo Samples\n",
    "    '''\n",
    "    \n",
    "    Tstep = T/Steps\n",
    "    Smax = S0*np.ones(N)\n",
    "    Smin = S0*np.ones(N)\n",
    "    St = S0*np.ones(N)\n",
    "    \n",
    "    for t in range(Steps):\n",
    "        W = np.sqrt(Tstep)*np.random.standard_normal(N)\n",
    "        St = St*np.exp(Tstep*(Param['InterestRate']-0.5*Param['Volatility']**2) + Param['Volatility']*W)\n",
    "        Smax = np.maximum(St, Smax)\n",
    "        Smin = np.minimum(St, Smin)\n",
    "\n",
    "    CT = np.maximum(Smax-Strike, 0)\n",
    "    PT = np.maximum(Strike-Smin, 0)\n",
    "\n",
    "    Price_C = CT.mean()*np.exp(-Param['InterestRate']*T)\n",
    "    Price_P = PT.mean()*np.exp(-Param['InterestRate']*T)\n",
    "    return Price_C, Price_P\n",
    "\n",
    "def Asian(Param, S0=1., T=1., Strike=1., Steps=12, N=10000 ):\n",
    "    '''\n",
    "    Price_Call, Price_Put = Asian(Param, S0, T, Strike, Steps, N)\n",
    "    \n",
    "        Param: Market parameters, a catalog with fields \n",
    "            Param['InterestRate'] : Yearly risk free interest rate\n",
    "            Param['Volatility'] : \n",
    "        S0 : Initial asset price\n",
    "        T  : Time Period (in Years)\n",
    "        Strike: Strike Price\n",
    "        Steps : Number of steps to monitor the stock price\n",
    "        N : Number of Monte Carlo Samples\n",
    "    '''\n",
    "    \n",
    "    Tstep = T/Steps\n",
    "    Smean = np.zeros(N)  \n",
    "    St = S0*np.ones(N)\n",
    "    \n",
    "    for t in range(Steps):\n",
    "        W = np.sqrt(Tstep)*np.random.standard_normal(N)\n",
    "        St = St*np.exp(Tstep*(Param['InterestRate']-0.5*Param['Volatility']**2) + Param['Volatility']*W)\n",
    "        i = t+1\n",
    "        Smean = (i-1)*Smean/i + St/i\n",
    "        \n",
    "    CT = np.maximum(Smean-Strike, 0)\n",
    "    PT = np.maximum(Strike-Smean, 0)\n",
    "\n",
    "    Price_C = CT.mean()*np.exp(-Param['InterestRate']*T)\n",
    "    Price_P = PT.mean()*np.exp(-Param['InterestRate']*T)\n",
    "    return Price_C, Price_P\n",
    "\n",
    "\n",
    "def FloatingLookback(Param, S0=1., T=1., Steps=12, N=10000 ):\n",
    "    '''\n",
    "    Price_Call, Price_Put = FloatingLookback(Param, S0, T, Steps, N)\n",
    "    \n",
    "        Param: Market parameters, a catalog with fields \n",
    "            Param['InterestRate'] : Yearly risk free interest rate\n",
    "            Param['Volatility'] : \n",
    "        S0 : Initial asset price\n",
    "        T  : Time Period (in Years)\n",
    "        Steps : Number of steps to monitor the stock price\n",
    "        N : Number of Monte Carlo Samples\n",
    "    '''\n",
    "    \n",
    "    Tstep = T/Steps\n",
    "    Smax = S0*np.ones(N)\n",
    "    Smin = S0*np.ones(N)\n",
    "    St = S0*np.ones(N)\n",
    "    \n",
    "    for t in range(Steps):\n",
    "        W = np.sqrt(Tstep)*np.random.standard_normal(N)\n",
    "        St = St*np.exp(Tstep*(Param['InterestRate']-0.5*Param['Volatility']**2) + Param['Volatility']*W)\n",
    "        Smax = np.maximum(St, Smax)\n",
    "        Smin = np.minimum(St, Smin)\n",
    "\n",
    "    CT = np.maximum(St-Smin, 0)\n",
    "    PT = np.maximum(Smax-St, 0)\n",
    "\n",
    "    Price_C = CT.mean()*np.exp(-Param['InterestRate']*T)\n",
    "    Price_P = PT.mean()*np.exp(-Param['InterestRate']*T)\n",
    "    return Price_C, Price_P\n",
    "\n",
    "    \n",
    "\n",
    "Param = {'Volatility': 0.25, 'InterestRate': 0.11}\n",
    "Price_C, Price_P = European(Param, S0=100, T=1.0, Strike=100)\n",
    "print 'European\\nCall= ', Price_C,'\\n','Put = ', Price_P\n",
    "\n",
    "Price_C, Price_P = Asian(Param, S0=100, T=1.0, Strike=100, Steps=1000)\n",
    "print 'Asian\\nCall= ', Price_C,'\\n','Put = ', Price_P\n",
    "\n",
    "Price_C, Price_P = Lookback(Param, S0=100, T=1.0, Strike=100, Steps=1000)\n",
    "print 'Lookback\\nCall= ', Price_C,'\\n','Put = ', Price_P\n",
    "\n",
    "Price_C, Price_P = FloatingLookback(Param, S0=100, T=1.0, Steps=1000)\n",
    "print 'FloatingLookback\\nCall= ', Price_C,'\\n','Put = ', Price_P\n"
   ]
  },
  {
   "cell_type": "markdown",
   "metadata": {},
   "source": [
    "Next week Assignment:\n",
    "\n",
    "\n",
    "Consolidate all pricing methods into one single function avoiding code repetitions.\n"
   ]
  },
  {
   "cell_type": "code",
   "execution_count": 9,
   "metadata": {
    "collapsed": true
   },
   "outputs": [],
   "source": [
    "def OptionPricer(type_of_option, Params):\n",
    "    '''\n",
    "    Price_Call, Price_Put = OptionPricer(type_of_option, Param, S0, T, Strike, Steps, N)\n",
    "        type_of_option = 'European'\n",
    "                        'Asian', 'Lookback', 'FloatingLookback'\n",
    "        Param: Parameter catalog with fields \n",
    "            Param['InterestRate'] : Yearly risk free interest rate (default: 0.11)\n",
    "            Param['Volatility'] : scalar or array of length steps  (default: 0.11)\n",
    "            Param['S0'] : Initial asset price (default: 1)\n",
    "            Param['T '] : Time Period (in Years) (default: 1)\n",
    "            Param['Strike']: Strike Price (default: 1)\n",
    "            Param['Steps'] : Number of steps to monitor the stock price (default: 12)\n",
    "            Param['N'] : Number of Monte Carlo Samples (default: 1000)\n",
    "    '''"
   ]
  },
  {
   "cell_type": "code",
   "execution_count": null,
   "metadata": {
    "collapsed": true
   },
   "outputs": [],
   "source": [
    "# Some test cases\n",
    "par = {'Volatility': [0.01,0.01,0.01,0.03,0.03], 'InterestRate': 0.11}\n",
    "OptionPricer('Asian', par)"
   ]
  },
  {
   "cell_type": "markdown",
   "metadata": {},
   "source": [
    "Next week: Kalman Filtering (Learn Numpy and matplotlib)"
   ]
  },
  {
   "cell_type": "code",
   "execution_count": 101,
   "metadata": {
    "scrolled": true
   },
   "outputs": [
    {
     "name": "stdout",
     "output_type": "stream",
     "text": [
      "[[ 2.18797242]\n",
      " [-0.08841785]]\n",
      "[[ 2.91934019]\n",
      " [-0.83328774]]\n",
      "[[ 2.60784679]\n",
      " [-2.60834758]]\n",
      "[[ 0.55056669]\n",
      " [-4.53854234]]\n",
      "[[-1.83571934]\n",
      " [-4.13840597]]\n",
      "[[-3.21258182]\n",
      " [-1.98156118]]\n",
      "[[-4.7905288]\n",
      " [-1.6219334]]\n",
      "[[-4.95505597]\n",
      " [ 0.89512108]]\n",
      "[[-5.46246567]\n",
      " [ 4.18711598]]\n",
      "[[-2.32141535]\n",
      " [ 5.0248705 ]]\n"
     ]
    }
   ],
   "source": [
    "th = 0.5\n",
    "A = np.mat([[np.cos(th), np.sin(th)],[-np.sin(th), np.cos(th)]])\n",
    "\n",
    "x = np.mat([1,0]).T\n",
    "x = np.mat([[1],[0]])\n",
    "\n",
    "for t in range(10):\n",
    "    x = A*x + 0*np.random.randn(2,1)\n",
    "    print(x)\n",
    "\n",
    "\n"
   ]
  },
  {
   "cell_type": "code",
   "execution_count": 1,
   "metadata": {
    "scrolled": true
   },
   "outputs": [
    {
     "name": "stdout",
     "output_type": "stream",
     "text": [
      "What is your name? Ali\n",
      "Ali\n"
     ]
    }
   ],
   "source": [
    "name = raw_input(\"What is your name? \")\n",
    "print name"
   ]
  },
  {
   "cell_type": "code",
   "execution_count": 22,
   "metadata": {
    "scrolled": true
   },
   "outputs": [
    {
     "name": "stdout",
     "output_type": "stream",
     "text": [
      "1 2 3 4 5 6 7 8 9 10 1 2 3 4 5 6 7 8 9 10\n"
     ]
    }
   ],
   "source": [
    "\n",
    "def fun(x):\n",
    "    print x,\n",
    "\n",
    "x = map(fun,range(1,10+1))\n",
    "\n",
    "x = map(fun,range(1,10+1))\n"
   ]
  },
  {
   "cell_type": "code",
   "execution_count": 17,
   "metadata": {},
   "outputs": [
    {
     "name": "stdout",
     "output_type": "stream",
     "text": [
      "8\n",
      "30\n"
     ]
    }
   ],
   "source": [
    "def myfun(x,y):\n",
    "    return x*y\n",
    "\n",
    "def myfun2(x,y):\n",
    "    return x+y\n",
    "\n",
    "def funn(f, x, y):    \n",
    "    return f(x,y)\n",
    "\n",
    "\n",
    "print funn(myfun2, 3, 5)\n",
    "    \n",
    "l = [1,2,3,4]\n",
    "\n",
    "def power(x):\n",
    "    return 2**x\n",
    "\n",
    "r = sum(map(power, l))\n",
    "\n",
    "print(r)"
   ]
  },
  {
   "cell_type": "code",
   "execution_count": 25,
   "metadata": {},
   "outputs": [
    {
     "name": "stdout",
     "output_type": "stream",
     "text": [
      "['insert', '0', '5']\n"
     ]
    }
   ],
   "source": [
    "s = 'insert 0 5'\n",
    "\n",
    "u = s.split(' ')\n",
    "print(u)"
   ]
  },
  {
   "cell_type": "code",
   "execution_count": 26,
   "metadata": {
    "collapsed": true
   },
   "outputs": [],
   "source": [
    "l = [1,2,3]\n",
    "l.pop"
   ]
  },
  {
   "cell_type": "code",
   "execution_count": null,
   "metadata": {
    "collapsed": true
   },
   "outputs": [],
   "source": [
    "N = int(raw_input())\n",
    "\n",
    "l = []\n",
    "\n",
    "for i in range(N):\n",
    "    s = raw_input()\n",
    "    items = s.split(' ')\n",
    "    cmd = items[0]\n",
    "    if cmd == 'insert':\n",
    "        pos = int(items[1])\n",
    "        num = int(items[2])\n",
    "        l.insert(pos, num)\n",
    "        \n",
    "    if cmd == 'print':\n",
    "        print l\n",
    "    if cmd == 'remove':\n",
    "        num = int(items[1])\n",
    "        l.remove(num)\n",
    "    if cmd == 'append':\n",
    "        num = int(items[1])\n",
    "        l.append(num)\n",
    "    if cmd == 'sort':\n",
    "        l.sort()\n",
    "    if cmd == 'pop':\n",
    "        l.pop()\n",
    "    if cmd == 'reverse':\n",
    "        l.reverse()"
   ]
  },
  {
   "cell_type": "code",
   "execution_count": 40,
   "metadata": {
    "scrolled": true
   },
   "outputs": [
    {
     "name": "stdout",
     "output_type": "stream",
     "text": [
      "3713081631934410656\n"
     ]
    }
   ],
   "source": [
    "N = 2\n",
    "l = '1 2'.split(' ')\n",
    "l2 = [int(i) for i in l[0:N+1]]\n",
    "c = tuple(l2)\n",
    "print hash(c)"
   ]
  },
  {
   "cell_type": "code",
   "execution_count": 44,
   "metadata": {},
   "outputs": [
    {
     "data": {
      "text/plain": [
       "1008"
      ]
     },
     "execution_count": 44,
     "metadata": {},
     "output_type": "execute_result"
    }
   ],
   "source": [
    "48*21"
   ]
  }
 ],
 "metadata": {
  "kernelspec": {
   "display_name": "Python 2",
   "language": "python",
   "name": "python2"
  },
  "language_info": {
   "codemirror_mode": {
    "name": "ipython",
    "version": 2
   },
   "file_extension": ".py",
   "mimetype": "text/x-python",
   "name": "python",
   "nbconvert_exporter": "python",
   "pygments_lexer": "ipython2",
   "version": "2.7.13"
  }
 },
 "nbformat": 4,
 "nbformat_minor": 1
}
