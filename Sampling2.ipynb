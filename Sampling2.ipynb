{
 "cells": [
  {
   "cell_type": "markdown",
   "metadata": {},
   "source": [
    "## Probability tables and the categorical distribution\n",
    "The following cell illustrates drawing from a categorical distribution with on an alphabet, not necessarly $0\\dots K-1$."
   ]
  },
  {
   "cell_type": "code",
   "execution_count": 6,
   "metadata": {
    "scrolled": true
   },
   "outputs": [
    {
     "name": "stdout",
     "output_type": "stream",
     "text": [
      "Symbols:\n",
      "['black' 'blue' 'red' 'yellow']\n",
      "Probabilities:\n",
      "[ 0.2   0.55  0.15  0.1 ]\n",
      "100 realizations:\n",
      "['red' 'black' 'blue' 'red' 'black' 'red' 'blue' 'blue' 'black' 'red'\n",
      " 'yellow' 'black' 'blue' 'blue' 'blue' 'black' 'blue' 'blue' 'blue' 'red'\n",
      " 'black' 'blue' 'yellow' 'blue' 'red' 'black' 'red' 'blue' 'blue' 'blue'\n",
      " 'red' 'blue' 'yellow' 'blue' 'blue' 'blue' 'blue' 'blue' 'blue' 'red'\n",
      " 'blue' 'black' 'black' 'red' 'blue' 'black' 'blue' 'blue' 'black' 'blue'\n",
      " 'black' 'blue' 'blue' 'blue' 'blue' 'yellow' 'blue' 'blue' 'blue' 'yellow'\n",
      " 'blue' 'yellow' 'blue' 'black' 'blue' 'blue' 'blue' 'yellow' 'yellow'\n",
      " 'black' 'blue' 'blue' 'blue' 'black' 'blue' 'red' 'red' 'blue' 'black'\n",
      " 'yellow' 'black' 'red' 'blue' 'blue' 'black' 'blue' 'blue' 'blue' 'black'\n",
      " 'blue' 'red' 'black' 'blue' 'red' 'blue' 'blue' 'red' 'blue' 'blue'\n",
      " 'yellow']\n"
     ]
    }
   ],
   "source": [
    "# Sampling from a Categorical Distribution\n",
    "a = np.array(sorted(['blue', 'red', 'black', 'yellow']))\n",
    "pr = np.array([0.2, 0.55, 0.15, 0.1])\n",
    "N = 100\n",
    "x = np.random.choice(a, size=N, replace=True, p=pr)\n",
    "\n",
    "\n",
    "print('Symbols:')\n",
    "print(a)\n",
    "print('Probabilities:')\n",
    "print(pr)\n",
    "print('{N} realizations:'.format(N=N))\n",
    "print(x)"
   ]
  },
  {
   "cell_type": "markdown",
   "metadata": {},
   "source": [
    "Often we need the opposite of the above process, that is given a list of elements, we need to count the number of occurences of each symbol. The following method creates such a statistics."
   ]
  },
  {
   "cell_type": "code",
   "execution_count": 7,
   "metadata": {
    "scrolled": true
   },
   "outputs": [
    {
     "name": "stdout",
     "output_type": "stream",
     "text": [
      "[('blue', 54), ('black', 20), ('red', 16), ('yellow', 10)]\n",
      "Sorted according to counts\n",
      "[54, 20, 16, 10]\n",
      "['blue', 'black', 'red', 'yellow']\n",
      "Sorted according to symbols\n",
      "[20, 54, 16, 10]\n",
      "['black', 'blue', 'red', 'yellow']\n"
     ]
    }
   ],
   "source": [
    "import collections\n",
    "\n",
    "c = collections.Counter(x)\n",
    "print(c.most_common())\n",
    "\n",
    "counts = [e[1] for e in c.most_common()]\n",
    "symbols = [e[0] for e in c.most_common()]\n",
    "\n",
    "print('Sorted according to counts')\n",
    "print(counts)\n",
    "print(symbols)\n",
    "\n",
    "# If we require the symbols in sorted order with respect to symbol names, use:\n",
    "counts = [e[1] for e in sorted(c.most_common())]\n",
    "symbols = [e[0] for e in sorted(c.most_common())]\n",
    "\n",
    "print('Sorted according to symbols')\n",
    "print(counts)\n",
    "print(symbols)\n"
   ]
  },
  {
   "cell_type": "markdown",
   "metadata": {},
   "source": [
    "\n",
    "# Continuous Multivariate (todo)"
   ]
  },
  {
   "cell_type": "code",
   "execution_count": 3,
   "metadata": {},
   "outputs": [
    {
     "name": "stdout",
     "output_type": "stream",
     "text": [
      "MV Gaussian\n"
     ]
    },
    {
     "data": {
      "text/html": [
       "<table width=100%><tr><td align=\"center\">\\begin{eqnarray}\\mathcal{N}(x; \\mu, \\Sigma)\\end{eqnarray}</td><td>\\mathcal{N}(x; \\mu, \\Sigma)</td></tr><tr><td align=\"center\">\\begin{eqnarray}\\left|{ 2\\pi \\Sigma } \\right|^{-1/2} \\exp\\left(-\\frac12 ({x} - {\\mu} )^\\top {\\Sigma}^{-1} ({x} - {\\mu} ) \\right)\\end{eqnarray}</td><td>\\left|{ 2\\pi \\Sigma } \\right|^{-1/2} \\exp\\left(-\\frac12 ({x} - {\\mu} )^\\top {\\Sigma}^{-1} ({x} - {\\mu} ) \\right)</td></tr><tr><td align=\"center\">\\begin{eqnarray}\\exp\\left(  -\\frac{1}{2}\\trace {\\Sigma}^{-1} {x}{x}^\\top + \\trace {\\Sigma}^{-1} {x}{\\mu}^\\top -\\frac{1}{2}\\trace {\\Sigma}^{-1} {\\mu}{\\mu}^\\top  -\\frac{1}{2}\\log \\left|2{\\pi}\\Sigma\\right|\\right)\\end{eqnarray}</td><td>\\exp\\left(  -\\frac{1}{2}\\trace {\\Sigma}^{-1} {x}{x}^\\top + \\trace {\\Sigma}^{-1} {x}{\\mu}^\\top -\\frac{1}{2}\\trace {\\Sigma}^{-1} {\\mu}{\\mu}^\\top  -\\frac{1}{2}\\log \\left|2{\\pi}\\Sigma\\right|\\right)</td></tr><tr><td align=\"center\">\\begin{eqnarray}  -\\frac{1}{2}\\trace {\\Sigma}^{-1} {x}{x}^\\top + \\trace {\\Sigma}^{-1} {x}{\\mu}^\\top -\\frac{1}{2}\\trace {\\Sigma}^{-1} {\\mu}{\\mu}^\\top  -\\frac{1}{2}\\log \\left|2{\\pi}\\Sigma\\right|\\end{eqnarray}</td><td>  -\\frac{1}{2}\\trace {\\Sigma}^{-1} {x}{x}^\\top + \\trace {\\Sigma}^{-1} {x}{\\mu}^\\top -\\frac{1}{2}\\trace {\\Sigma}^{-1} {\\mu}{\\mu}^\\top  -\\frac{1}{2}\\log \\left|2{\\pi}\\Sigma\\right|</td></tr></table>"
      ],
      "text/plain": [
       "<IPython.core.display.HTML object>"
      ]
     },
     "metadata": {},
     "output_type": "display_data"
    }
   ],
   "source": [
    "from IPython.display import display, Math, Latex, HTML\n",
    "import notes_utilities as nut\n",
    "#import imp\n",
    "#imp.reload(nut)\n",
    "\n",
    "print('MV Gaussian')\n",
    "L = nut.pdf2latex_mvnormal(x=r'x', m=r'\\mu',v=r'\\Sigma')\n",
    "#L = nut.pdf2latex_mvnormal(x=r's', m=0,v=r'I')\n",
    "display(HTML(nut.eqs2html_table(L)))\n"
   ]
  },
  {
   "cell_type": "markdown",
   "metadata": {},
   "source": [
    "### The Multivariate Gaussian distribution\n",
    "\\begin{align}\n",
    "\\mathcal{N}(x; \\mu, \\Sigma) &= |2\\pi \\Sigma|^{-1/2} \\exp\\left( -\\frac{1}{2} (x-\\mu)^\\top \\Sigma^{-1} (x-\\mu) \\right) \\\\\n",
    "& = \\exp\\left(-\\frac{1}{2} x^\\top \\Sigma^{-1} x + \\mu^\\top \\Sigma^{-1} x   - \\frac{1}{2} \\mu^\\top \\Sigma^{-1} \\mu   -\\frac{1}{2}\\log \\det(2\\pi \\Sigma) \\right) \\\\\n",
    "\\end{align}\n",
    "\n",
    "\n",
    "\n",
    "Draw a vector $x \\in \\mathbf{R}^N$ where each element $x_i \\sim \\mathcal{N}(x; 0, 1)$ for $i = 1\\dots N$.\n",
    "\n",
    "$\\newcommand{\\E}[1]{\\left\\langle#1\\right\\rangle}$\n",
    "\n",
    "Construct \n",
    "\\begin{align}\n",
    "y = Ax\n",
    "\\end{align}\n",
    "\n",
    "The expectation and the variance are obtained by\n",
    "\\begin{align}\n",
    "\\E{y} = \\E{Ax} = 0\n",
    "\\end{align}\n",
    "\n",
    "\\begin{align}\n",
    "\\E{y y^\\top} = A \\E{x x^\\top} A^\\top = A A^\\top\n",
    "\\end{align}\n",
    "\n",
    "So\n",
    "\\begin{align}\n",
    "y \\sim \\mathcal{N}(y; 0, A A^\\top)\n",
    "\\end{align}\n",
    "\n",
    "\n"
   ]
  },
  {
   "cell_type": "markdown",
   "metadata": {},
   "source": [
    "In two dimensions, a bi-variate Gaussian is conveniently represented by an ellipse. The ellipse shows a contour of equal probability. In particular, if we plot the $3\\sigma$ ellipse, $99 \\%$ of all the data points should be inside the ellipse."
   ]
  },
  {
   "cell_type": "code",
   "execution_count": 4,
   "metadata": {
    "scrolled": true
   },
   "outputs": [
    {
     "data": {
      "image/png": "[encoded data removed]",
      "text/plain": [
       "<matplotlib.figure.Figure at 0x1043e9ac8>"
      ]
     },
     "metadata": {},
     "output_type": "display_data"
    }
   ],
   "source": [
    "%matplotlib inline\n",
    "\n",
    "def ellipse_line(A, mu, col='b'):\n",
    "    '''\n",
    "    Creates an ellipse from short line segments y = A x + \\mu \n",
    "    where x is on the unit circle.\n",
    "    '''\n",
    "    N = 18\n",
    "    th = np.arange(0, 2*np.pi+np.pi/N, np.pi/N)\n",
    "    X = np.array([np.cos(th),np.sin(th)])\n",
    "    \n",
    "    Y = np.dot(A, X)\n",
    "    ln = plt.Line2D(mu[0]+Y[0,:],mu[1]+Y[1,:],markeredgecolor='k', linewidth=1, color=col)\n",
    "    return ln\n",
    "\n",
    "N = 100\n",
    "\n",
    "A = np.random.randn(2,2)\n",
    "mu = np.zeros(2)\n",
    "X = np.random.randn(2,N)\n",
    "Y = np.dot(A,X)\n",
    "\n",
    "plt.cla()\n",
    "plt.axis('equal')\n",
    "ax = plt.gca()\n",
    "ax.set_xlim(-8,8)\n",
    "ax.set_ylim(-8,8)\n",
    "\n",
    "col = 'b'\n",
    "ln = ellipse_line(3*A, mu, col)\n",
    "ax.add_line(ln)\n",
    "#plt.hold(True)\n",
    "plt.plot(mu[0]+Y[0,:],mu[1]+Y[1,:],'.'+col)\n",
    "\n",
    "plt.show()"
   ]
  },
  {
   "cell_type": "code",
   "execution_count": 9,
   "metadata": {},
   "outputs": [
    {
     "data": {
      "text/plain": [
       "array([[ 1.93017803,  0.84274076],\n",
       "       [ 0.84274076,  0.49040691]])"
      ]
     },
     "execution_count": 9,
     "metadata": {},
     "output_type": "execute_result"
    }
   ],
   "source": [
    "np.dot(A,A.T)"
   ]
  },
  {
   "cell_type": "markdown",
   "metadata": {},
   "source": [
    "When the covariance matrix $\\Sigma$ is given, as is typically the case, we need a factorization of \n",
    "$\\Sigma = W W^\\top$. The Cholesky factorization is such a factorization. (Another possibility, whilst computationally more costly, is the matrix square root.)"
   ]
  },
  {
   "cell_type": "code",
   "execution_count": 12,
   "metadata": {},
   "outputs": [
    {
     "data": {
      "image/png": "[encoded data removed]",
      "text/plain": [
       "<matplotlib.figure.Figure at 0x11bc1add8>"
      ]
     },
     "metadata": {},
     "output_type": "display_data"
    }
   ],
   "source": [
    "Sigma = np.dot(A, A.T)\n",
    "\n",
    "W = np.linalg.cholesky(Sigma)\n",
    "X = np.random.randn(2,N)\n",
    "Y = np.dot(W,X)\n",
    "\n",
    "plt.cla()\n",
    "plt.axis('equal')\n",
    "ax = plt.gca()\n",
    "ax.set_xlim(-8,8)\n",
    "ax.set_ylim(-8,8)\n",
    "\n",
    "col = 'b'\n",
    "ln = ellipse_line(3*W, mu, col)\n",
    "ax.add_line(ln)\n",
    "#plt.hold(True)\n",
    "plt.plot(mu[0]+Y[0,:],mu[1]+Y[1,:],'.'+col)\n",
    "\n",
    "plt.show()"
   ]
  },
  {
   "cell_type": "markdown",
   "metadata": {},
   "source": [
    "The numpy function __numpy.random.multivariate_normal__ generates samples from a multivariate Gaussian with the given mean and covariance. "
   ]
  },
  {
   "cell_type": "code",
   "execution_count": 19,
   "metadata": {},
   "outputs": [
    {
     "data": {
      "image/png": "[encoded data removed]",
      "text/plain": [
       "<matplotlib.figure.Figure at 0x109a5ea58>"
      ]
     },
     "metadata": {},
     "output_type": "display_data"
    }
   ],
   "source": [
    "\n",
    "N = 100\n",
    "Sig = np.dot(A, A.T)\n",
    "x = np.random.multivariate_normal(mu, Sig, size=N)\n",
    "\n",
    "plt.cla()\n",
    "plt.axis('equal')\n",
    "ax = plt.gca()\n",
    "ax.set_xlim(-8,8)\n",
    "ax.set_ylim(-8,8)\n",
    "\n",
    "plt.plot(x[:,0], x[:,1], 'b.')\n",
    "ln = ellipse_line(3*A,mu,'b')\n",
    "plt.gca().add_line(ln)\n",
    "\n",
    "plt.show()\n"
   ]
  },
  {
   "cell_type": "markdown",
   "metadata": {},
   "source": [
    "### Evaluation of the multivariate Gaussian density\n",
    "\n",
    "The log-density of the multivariate Gaussian has the following exponential form\n",
    "\n",
    "\\begin{align}\n",
    "\\log \\mathcal{N}(x; \\mu, \\Sigma) &= \n",
    "-\\frac{1}{2}\\log \\det(2\\pi \\Sigma) -\\frac{1}{2} (x-\\mu)^\\top \\Sigma^{-1} (x - \\mu)  \n",
    "\\end{align}\n",
    "\n",
    "It is tempting to implement these expression as written -- indeed it is useful to do so for debugging purposes. However, this direct method is both inefficient and numerically not very stable. This will be a problem when the dimension of $x$ is high. A direct implementation might be as follows:"
   ]
  },
  {
   "cell_type": "code",
   "execution_count": 20,
   "metadata": {
    "collapsed": true
   },
   "outputs": [],
   "source": [
    "def log_mvar_gaussian_inefficient(x, mu, Sig):\n",
    "    return -0.5*np.log(np.linalg.det(2*np.pi*Sig)) - 0.5*np.sum((x-mu)*np.dot(np.linalg.inv(Sig), x-mu),axis=0)\n"
   ]
  },
  {
   "cell_type": "markdown",
   "metadata": {},
   "source": [
    "The evaluation seemingly requires the following steps:\n",
    "\n",
    "- Evaluation of the log of the determinant of the covariance matrix $\\Sigma$\n",
    "- Inversion of the covariance matrix $\\Sigma$ \n",
    "- Evaluation of the quadratic form $(x-\\mu)^\\top \\Sigma^{-1} (x - \\mu)$\n",
    "\n",
    "A more efficient implementation uses the following observations:\n",
    "- The covariance matrix $\\Sigma$ is positive semidefinite and has a __Cholesky__ factorization \n",
    "\\begin{align}\n",
    "\\Sigma = W W^\\top\n",
    "\\end{align}\n",
    "where $W$ is a lower triangular matrix\n",
    "- The determinant satisfies the following identity\n",
    "\n",
    "\\begin{align}\n",
    "\\det(\\Sigma) & = \\det(W W^\\top) = \\det(W) \\det(W^\\top) = \\det(W)^2\n",
    "\\end{align}\n",
    "\n",
    "- The determinant of the triangular matrix $W$ is simply the product of its diagonal elements $W_{i,i}$ so \n",
    "\n",
    "\\begin{align}\n",
    "\\log \\det(\\Sigma) & = 2 \\log \\det(W) & = 2 \\sum_i \\log W_{i,i} \n",
    "\\end{align}\n",
    "\n",
    "- The quadratic form can be evaluated by the inner product $(x - \\mu)^\\top u$ where $u = \\Sigma^{-1} (x - \\mu)$.\n",
    "Finding $u$ is equivalent to the solution of the linear system \n",
    "$$\n",
    "\\Sigma u = (x - \\mu) \n",
    "$$\n",
    "and the solution is equivalent to \n",
    "$$\n",
    " u = (W^\\top)^{-1}W^{-1} (x - \\mu) \n",
    "$$\n",
    "and can be solved efficiently by backsubstitution as $W$ is triangular. \n",
    "\n",
    "This can be implemented as follows"
   ]
  },
  {
   "cell_type": "code",
   "execution_count": 21,
   "metadata": {},
   "outputs": [
    {
     "name": "stdout",
     "output_type": "stream",
     "text": [
      "[-8.72265771 -6.31543527 -5.4738194  -1.80930712 -2.15963976 -5.54244251\n",
      " -3.82657297 -4.16592483 -2.09530621 -8.63078085]\n",
      "[-8.72265771 -6.31543527 -5.4738194  -1.80930712 -2.15963976 -5.54244251\n",
      " -3.82657297 -4.16592483 -2.09530621 -8.63078085]\n"
     ]
    }
   ],
   "source": [
    "import scipy as sc\n",
    "import scipy.linalg as la\n",
    "\n",
    "def log_mvar_gaussian_pdf(x, mu, Sig):\n",
    "    W = np.linalg.cholesky(Sig)\n",
    "    z = -np.sum(np.log(2*np.pi)/2 + np.log(np.diag(W))) - 0.5* np.sum((x-mu)*la.cho_solve((W,True), x-mu),axis=0)\n",
    "    return z\n",
    "\n",
    "# Dimension of the problem \n",
    "N = 2\n",
    "\n",
    "# Generate K points to evaluate the density at\n",
    "K = 10\n",
    "x = np.random.randn(N,K)\n",
    "\n",
    "# Generate random parameters\n",
    "mu = np.random.randn(N,1) \n",
    "R = np.random.randn(N,N)\n",
    "Sig = np.dot(R, R.T)\n",
    "\n",
    "z1 = log_mvar_gaussian_pdf(x, mu, Sig)\n",
    "z2 = log_mvar_gaussian_inefficient(x, mu, Sig)\n",
    "\n",
    "print(z1)\n",
    "print(z2)"
   ]
  },
  {
   "cell_type": "markdown",
   "metadata": {},
   "source": [
    "For the solution of $\\Sigma u = b$ where $\\Sigma = WW^\\top$, we use the implementation in _scipy.linalg.cho_solve_.\n"
   ]
  },
  {
   "cell_type": "code",
   "execution_count": 24,
   "metadata": {},
   "outputs": [
    {
     "name": "stdout",
     "output_type": "stream",
     "text": [
      "[[-0.40649925]\n",
      " [ 0.39775871]]\n",
      "[[-0.40649925]\n",
      " [ 0.39775871]]\n"
     ]
    }
   ],
   "source": [
    "import scipy.linalg as la\n",
    "\n",
    "N = 2\n",
    "# Construct a random positive definite matrix\n",
    "R = np.random.randn(N,N)\n",
    "Sig = np.dot(R, R.T)\n",
    "b = np.random.randn(N,1)\n",
    "\n",
    "# Direct implementation -- inefficient\n",
    "u_direct = np.matrix(np.linalg.inv(Sig))*b\n",
    "\n",
    "# Efficient implementation\n",
    "W = np.linalg.cholesky(Sig)\n",
    "u_efficient = la.cho_solve((W,True), b)\n",
    "\n",
    "# Verify that both give the same result\n",
    "print(u_direct)\n",
    "print(u_efficient)"
   ]
  },
  {
   "cell_type": "markdown",
   "metadata": {},
   "source": [
    "## Dirichlet Distribution\n",
    "\n",
    "The Dirichlet distribution is a distribution over probability vectors.\n",
    "\n",
    "$$\n",
    "\\mathcal{D}(w_{1:N}; \\alpha_{1:N}) = \\frac{\\Gamma(\\sum_i \\alpha_i)}{\\prod_i \\Gamma(\\alpha_i) } \\prod w_i^{\\alpha_i-1}\n",
    "$$"
   ]
  },
  {
   "cell_type": "code",
   "execution_count": 13,
   "metadata": {},
   "outputs": [
    {
     "data": {
      "text/html": [
       "<table width=100%><tr><td align=\"center\">\\begin{eqnarray}\\mathcal{D}(h_{1:J}; \\alpha_{1:J} )\\end{eqnarray}</td><td>\\mathcal{D}(h_{1:J}; \\alpha_{1:J} )</td></tr><tr><td align=\"center\">\\begin{eqnarray}\\frac{\\Gamma(\\sum_{j} \\alpha_{j})}{\\prod_{j} \\Gamma(\\alpha_{j})} \\prod_{{j}=1}^{J} {h}_{j}^{\\alpha_{j} - 1} \\end{eqnarray}</td><td>\\frac{\\Gamma(\\sum_{j} \\alpha_{j})}{\\prod_{j} \\Gamma(\\alpha_{j})} \\prod_{{j}=1}^{J} {h}_{j}^{\\alpha_{j} - 1} </td></tr><tr><td align=\"center\">\\begin{eqnarray}\\exp\\left(\\log{\\Gamma(\\sum_{j} \\alpha_{j})} - {\\sum_{j} \\log \\Gamma(\\alpha_{j})} + \\sum_{{j}=1}^{J} (\\alpha_{j} - 1) \\log{h}_{j} \\right)\\end{eqnarray}</td><td>\\exp\\left(\\log{\\Gamma(\\sum_{j} \\alpha_{j})} - {\\sum_{j} \\log \\Gamma(\\alpha_{j})} + \\sum_{{j}=1}^{J} (\\alpha_{j} - 1) \\log{h}_{j} \\right)</td></tr><tr><td align=\"center\">\\begin{eqnarray}\\log{\\Gamma(\\sum_{j} \\alpha_{j})} - {\\sum_{j} \\log \\Gamma(\\alpha_{j})} + \\sum_{{j}=1}^{J} (\\alpha_{j} - 1) \\log{h}_{j} \\end{eqnarray}</td><td>\\log{\\Gamma(\\sum_{j} \\alpha_{j})} - {\\sum_{j} \\log \\Gamma(\\alpha_{j})} + \\sum_{{j}=1}^{J} (\\alpha_{j} - 1) \\log{h}_{j} </td></tr></table>"
      ],
      "text/plain": [
       "<IPython.core.display.HTML object>"
      ]
     },
     "metadata": {},
     "output_type": "display_data"
    }
   ],
   "source": [
    "from IPython.display import display, Math, Latex, HTML\n",
    "import notes_utilities as nut\n",
    "from importlib import reload\n",
    "reload(nut)\n",
    "Latex('$\\DeclareMathOperator{\\trace}{Tr}$')\n",
    "\n",
    "\n",
    "\n",
    "L = nut.pdf2latex_dirichlet(x=r'h', N=r'J', i='j',a=r'\\alpha')\n",
    "display(HTML(nut.eqs2html_table(L)))\n",
    "\n"
   ]
  },
  {
   "cell_type": "code",
   "execution_count": 22,
   "metadata": {},
   "outputs": [
    {
     "data": {
      "text/plain": [
       "array([ 0.09189517,  0.22940425,  0.67870058])"
      ]
     },
     "execution_count": 22,
     "metadata": {},
     "output_type": "execute_result"
    }
   ],
   "source": [
    "import numpy as np\n",
    "\n",
    "np.random.dirichlet(3*np.array([1,2,3]))"
   ]
  },
  {
   "cell_type": "markdown",
   "metadata": {},
   "source": [
    "## Wishart\n",
    "\n",
    "https://en.wikipedia.org/wiki/Wishart_distribution\n",
    "\n",
    "The Wishart distribution appears as the posterior of the precision matrix of a multivariate Gaussian.\n",
    "\n",
    "A positive semidefinite matrix $X \\in \\mathbb{R}^{k \\times k}$ is said to have a Wishart density \n",
    "if\n",
    "\n",
    "\\begin{eqnarray}\n",
    "{\\cal W}(X; \\nu, S) & = & \\exp\\left( \\frac{\\nu - k - 1}2 \\log |X| - \\frac{1}2\\trace S^{-1}X - \\frac{\\nu}{2} \\log |S| - \\log Z   \\right) \\\\\n",
    "Z & = &   2^{\\nu k /2} \\pi^{k(k-1)/4} \\prod_{i=1}^k \\Gamma(\\frac{\\nu + 1 - i}2) \\\\\n",
    "& = & 2^{\\nu k /2} \\Gamma_k(\\nu/2)\n",
    "\\end{eqnarray}\n",
    "The link to Gamma ${\\cal G}$ distribution is established by\n",
    "\n",
    "\\begin{eqnarray}\n",
    "{\\cal W}(X; \\nu, S) & = & \\exp\\left( \\frac{\\nu - k - 1}2 \\log |X| - \\trace (2 S)^{-1}X - \\frac{\\nu}{2} \\log |2 S | - \\log \\Gamma_k(\\nu/2)  \\right) \n",
    "\\end{eqnarray}\n",
    "\n",
    "Alternative parametrization with $a = \\nu/2$ and $B^{-1} = 2 S$.\n",
    "\\begin{eqnarray}\n",
    "{\\cal W}(X; 2a, B^{-1}/2) & = & \\exp( {(a - (k + 1)/2)} \\log |X| &- \\trace B X &- \\log \\Gamma_k(a) &+ a \\log |B|   ) \\\\\n",
    "\\mathcal{G}(x; a, b) & = & \\exp(({a} - 1)\\log x &- {b}{x} &- \\log \\Gamma({a}) &+ {a} \\log {b})\n",
    "\\end{eqnarray}\n",
    "\n",
    "$\\newcommand{\\E}[1]{\\langle#1\\rangle}$\n",
    "\n",
    "\\begin{eqnarray}\n",
    "\\E{X} & = & \\nu S = a B^{-1}\n",
    "\\end{eqnarray}\n"
   ]
  },
  {
   "cell_type": "code",
   "execution_count": 14,
   "metadata": {},
   "outputs": [
    {
     "name": "stdout",
     "output_type": "stream",
     "text": [
      "MV Gaussian\n"
     ]
    },
    {
     "data": {
      "text/html": [
       "<table width=100%><tr><td align=\"center\">\\begin{eqnarray}\\mathcal{N}(s; \\mu, \\Sigma)\\end{eqnarray}</td><td>\\mathcal{N}(s; \\mu, \\Sigma)</td></tr><tr><td align=\"center\">\\begin{eqnarray}\\left|{ 2\\pi \\Sigma } \\right|^{-1/2} \\exp\\left(-\\frac12 ({s} - {\\mu} )^\\top {\\Sigma}^{-1} ({s} - {\\mu} ) \\right)\\end{eqnarray}</td><td>\\left|{ 2\\pi \\Sigma } \\right|^{-1/2} \\exp\\left(-\\frac12 ({s} - {\\mu} )^\\top {\\Sigma}^{-1} ({s} - {\\mu} ) \\right)</td></tr><tr><td align=\"center\">\\begin{eqnarray}\\exp\\left(  -\\frac{1}{2}\\trace {\\Sigma}^{-1} {s}{s}^\\top + \\trace {\\Sigma}^{-1} {s}{\\mu}^\\top -\\frac{1}{2}\\trace {\\Sigma}^{-1} {\\mu}{\\mu}^\\top  -\\frac{1}{2}\\log \\left|2{\\pi}\\Sigma\\right|\\right)\\end{eqnarray}</td><td>\\exp\\left(  -\\frac{1}{2}\\trace {\\Sigma}^{-1} {s}{s}^\\top + \\trace {\\Sigma}^{-1} {s}{\\mu}^\\top -\\frac{1}{2}\\trace {\\Sigma}^{-1} {\\mu}{\\mu}^\\top  -\\frac{1}{2}\\log \\left|2{\\pi}\\Sigma\\right|\\right)</td></tr><tr><td align=\"center\">\\begin{eqnarray}  -\\frac{1}{2}\\trace {\\Sigma}^{-1} {s}{s}^\\top + \\trace {\\Sigma}^{-1} {s}{\\mu}^\\top -\\frac{1}{2}\\trace {\\Sigma}^{-1} {\\mu}{\\mu}^\\top  -\\frac{1}{2}\\log \\left|2{\\pi}\\Sigma\\right|\\end{eqnarray}</td><td>  -\\frac{1}{2}\\trace {\\Sigma}^{-1} {s}{s}^\\top + \\trace {\\Sigma}^{-1} {s}{\\mu}^\\top -\\frac{1}{2}\\trace {\\Sigma}^{-1} {\\mu}{\\mu}^\\top  -\\frac{1}{2}\\log \\left|2{\\pi}\\Sigma\\right|</td></tr></table>"
      ],
      "text/plain": [
       "<IPython.core.display.HTML object>"
      ]
     },
     "metadata": {},
     "output_type": "display_data"
    },
    {
     "name": "stdout",
     "output_type": "stream",
     "text": [
      "Wishart\n"
     ]
    },
    {
     "data": {
      "text/html": [
       "<table width=100%><tr><td align=\"center\">\\begin{eqnarray}\\mathcal{W}_k(X; \\nu, S )\\;\\;\\;\\Gamma_k(\\nu/2) = \\pi^{k(k-1)/4} \\prod_{i=1}^{k} \\Gamma(\\nu/2 - (i-1)/2)\\end{eqnarray}</td><td>\\mathcal{W}_k(X; \\nu, S )\\;\\;\\;\\Gamma_k(\\nu/2) = \\pi^{k(k-1)/4} \\prod_{i=1}^{k} \\Gamma(\\nu/2 - (i-1)/2)</td></tr><tr><td align=\"center\">\\begin{eqnarray}\\frac{ \\left|X\\right|^{{( { \\nu } - k - 1)}/{2}} }{ |2S|^{\\nu /2} \\Gamma_k(\\nu/2) } \\exp\\left( - \\trace (2S)^{-1} X\\right)\\end{eqnarray}</td><td>\\frac{ \\left|X\\right|^{{( { \\nu } - k - 1)}/{2}} }{ |2S|^{\\nu /2} \\Gamma_k(\\nu/2) } \\exp\\left( - \\trace (2S)^{-1} X\\right)</td></tr><tr><td align=\"center\">\\begin{eqnarray}\\exp\\left(\\frac{ { \\nu } - k - 1}{2} \\log \\left|X\\right| - \\trace (2S)^{-1} X - \\frac{ \\nu }{2}\\log |2S| - \\log\\Gamma_k(\\nu/2)\\right)\\end{eqnarray}</td><td>\\exp\\left(\\frac{ { \\nu } - k - 1}{2} \\log \\left|X\\right| - \\trace (2S)^{-1} X - \\frac{ \\nu }{2}\\log |2S| - \\log\\Gamma_k(\\nu/2)\\right)</td></tr><tr><td align=\"center\">\\begin{eqnarray}\\frac{ { \\nu } - k - 1}{2} \\log \\left|X\\right| - \\trace (2S)^{-1} X - \\frac{ \\nu }{2}\\log |2S| - \\log\\Gamma_k(\\nu/2)\\end{eqnarray}</td><td>\\frac{ { \\nu } - k - 1}{2} \\log \\left|X\\right| - \\trace (2S)^{-1} X - \\frac{ \\nu }{2}\\log |2S| - \\log\\Gamma_k(\\nu/2)</td></tr></table>"
      ],
      "text/plain": [
       "<IPython.core.display.HTML object>"
      ]
     },
     "metadata": {},
     "output_type": "display_data"
    },
    {
     "name": "stdout",
     "output_type": "stream",
     "text": [
      "Inverse Wishart\n"
     ]
    },
    {
     "data": {
      "text/html": [
       "<table width=100%><tr><td align=\"center\">\\begin{eqnarray}\\mathcal{IW}_k(\\Sigma; \\nu, S )\\;\\;\\;\\Gamma_k(\\nu/2) = \\pi^{k(k-1)/4} \\prod_{i=1}^{k} \\Gamma(\\nu/2 - (i-1)/2)\\end{eqnarray}</td><td>\\mathcal{IW}_k(\\Sigma; \\nu, S )\\;\\;\\;\\Gamma_k(\\nu/2) = \\pi^{k(k-1)/4} \\prod_{i=1}^{k} \\Gamma(\\nu/2 - (i-1)/2)</td></tr><tr><td align=\"center\">\\begin{eqnarray}\\frac{ |S/2|^{ \\nu /2} }{\\left|\\Sigma\\right|^{{( { \\nu } + k + 1)}/{2}} \\Gamma_k(\\nu/2) } \\exp\\left( - \\trace (S/2) \\Sigma^{-1}\\right)\\end{eqnarray}</td><td>\\frac{ |S/2|^{ \\nu /2} }{\\left|\\Sigma\\right|^{{( { \\nu } + k + 1)}/{2}} \\Gamma_k(\\nu/2) } \\exp\\left( - \\trace (S/2) \\Sigma^{-1}\\right)</td></tr><tr><td align=\"center\">\\begin{eqnarray}\\exp\\left(-\\frac{ { \\nu } + k + 1}{2} \\log \\left|\\Sigma\\right| - \\trace (S/2) \\Sigma^{-1} + \\frac{ \\nu }{2}\\log |S/2| - \\log\\Gamma_k(\\nu/2)\\right)\\end{eqnarray}</td><td>\\exp\\left(-\\frac{ { \\nu } + k + 1}{2} \\log \\left|\\Sigma\\right| - \\trace (S/2) \\Sigma^{-1} + \\frac{ \\nu }{2}\\log |S/2| - \\log\\Gamma_k(\\nu/2)\\right)</td></tr><tr><td align=\"center\">\\begin{eqnarray}-\\frac{ { \\nu } + k + 1}{2} \\log \\left|\\Sigma\\right| - \\trace (S/2) \\Sigma^{-1} + \\frac{ \\nu }{2}\\log |S/2| - \\log\\Gamma_k(\\nu/2)\\end{eqnarray}</td><td>-\\frac{ { \\nu } + k + 1}{2} \\log \\left|\\Sigma\\right| - \\trace (S/2) \\Sigma^{-1} + \\frac{ \\nu }{2}\\log |S/2| - \\log\\Gamma_k(\\nu/2)</td></tr></table>"
      ],
      "text/plain": [
       "<IPython.core.display.HTML object>"
      ]
     },
     "metadata": {},
     "output_type": "display_data"
    }
   ],
   "source": [
    "from IPython.display import display, Math, Latex, HTML\n",
    "import notes_utilities as nut\n",
    "#import imp\n",
    "#imp.reload(nut)\n",
    "\n",
    "print('MV Gaussian')\n",
    "L = nut.pdf2latex_mvnormal(x=r's', m=r'\\mu',v=r'\\Sigma')\n",
    "#L = nut.pdf2latex_mvnormal(x=r's', m=0,v=r'I')\n",
    "display(HTML(nut.eqs2html_table(L)))\n",
    "\n",
    "print('Wishart')\n",
    "L = nut.pdf2latex_wishart(X=r'X', nu=r'\\nu', S=r'S', k=r'k', W='W')\n",
    "display(HTML(nut.eqs2html_table(L)))\n",
    "\n",
    "print('Inverse Wishart')\n",
    "L = nut.pdf2latex_invwishart(X=r'\\Sigma', nu=r'\\nu', S=r'S', k=r'k', IW='IW')\n",
    "#L = nut.pdf2latex_mvnormal(x=r's', m=0,v=r'I')\n",
    "display(HTML(nut.eqs2html_table(L)))\n",
    "\n",
    "\n"
   ]
  },
  {
   "cell_type": "markdown",
   "metadata": {},
   "source": [
    "## Inverse Wishart\n",
    "\n",
    "https://en.wikipedia.org/wiki/Inverse-Wishart_distribution\n",
    "\n",
    "The inverse Wishart is a matrix variate distribution and appears as the posterior distribution of a covariance matrix of a Gaussian density. More precisely, it appears as the distribution of $U U^T$ where each column of the $k \\times \\nu$ matrix $U$ is distributed independently according to $u_i \\sim \\mathcal{N}(U; 0, S)$ for $i=1\\dots \\nu$.\n",
    "\n",
    "The inverse of a Wihart variate matrix is said to be inverse Wishart distributed\n",
    "\n",
    "\\begin{eqnarray}\n",
    "{\\cal IW}(X; \\nu, S) & = & \\exp\\left( - \\frac{\\nu + k + 1}2 \\log |X| - \\frac{1}2\\trace S X^{-1} + \\frac{\\nu}{2}\\log |S| - \\log Z  \\right) \\\\\n",
    "Z & = &  2^{\\nu k /2} \\pi^{k(k-1)/4} \\prod_{i=1}^k \\Gamma(\\frac{\\nu + 1 - i}2) \\\\\n",
    " & = & 2^{\\nu k /2} \\Gamma_k(\\nu/2)\n",
    "\\end{eqnarray}\n",
    "The link to Inverse Gamma ${\\cal IG}$ distribution is established by\n",
    "\\begin{eqnarray}\n",
    "{\\cal IW}(X; \\nu, S) & = & \\exp\\left( - \\frac{\\nu + k + 1}2 \\log |X| - \\trace (S/2) X^{-1} + \\frac{\\nu}{2}\\log |S/2| - \\log\\Gamma_k(\\nu/2) \\right) \n",
    "\\end{eqnarray}\n",
    "\n",
    "Alternative with $a = \\nu/2$  and $B = S/2$.\n",
    "\n",
    "\\begin{eqnarray}\n",
    "{\\cal IW}(X; 2a, 2B) & = & \\exp( - (a + (k+1)/2) \\log |X| &- \\trace BX^{-1}  &- \\log\\Gamma_k(a) &+ a\\log |B|) \\\\\n",
    "{\\cal IG}(x; a, b) & = & \\exp(-({a} + 1)\\log x          &- \\frac{{b}}{{x}} &- \\log\\Gamma({a}) &+ {a} \\log {b})\n",
    "\\end{eqnarray}\n",
    "\n",
    "\\begin{eqnarray}\n",
    "\\E{X} & = & S/(\\nu - k - 1) = B/(a - (k+1)/2)\n",
    "\\end{eqnarray}\n"
   ]
  },
  {
   "cell_type": "markdown",
   "metadata": {},
   "source": [
    "### Aside: The multigamma function\n",
    "\n",
    "https://en.wikipedia.org/wiki/Multivariate_gamma_function\n",
    "\n",
    "The multigamma function is the result of the integral\n",
    "$$\n",
    "\\Gamma_k(\\alpha) = \\int_{W \\succ 0} e^{-tr(W)} |W|^{\\alpha - (k+1)/2} dW\n",
    "$$\n",
    "where the $W$ is a positive definite $k\\times k$ matrix (denoted as $W \\succ 0$). The scalar parameter $\\alpha$ is positive and \n",
    "$\\alpha > (k+1)/2$. It turns out that this integral can be evaluated as\n",
    "$$\n",
    "\\Gamma_k(\\alpha) = \\pi^{k(k-1)/4} \\prod_{i=1}^{k} \\Gamma(\\alpha - (i-1)/2)\n",
    "$$"
   ]
  },
  {
   "cell_type": "code",
   "execution_count": 135,
   "metadata": {
    "scrolled": true
   },
   "outputs": [
    {
     "data": {
      "image/png": "[encoded data removed]",
      "text/plain": [
       "<matplotlib.figure.Figure at 0x112f01dd8>"
      ]
     },
     "metadata": {},
     "output_type": "display_data"
    }
   ],
   "source": [
    "# Generate Wishart random variables\n",
    "\n",
    "%matplotlib inline\n",
    "\n",
    "import matplotlib as mpl\n",
    "import matplotlib.pyplot as plt\n",
    "import numpy as np\n",
    "import scipy as sc\n",
    "import pandas as pd\n",
    "\n",
    "from scipy.stats import wishart, invwishart\n",
    "from notes_utilities import pnorm_ball_line\n",
    "\n",
    "k = 2\n",
    "#S = np.eye(k)\n",
    "#S = np.diag([2,3])\n",
    "nu = 8\n",
    "S = np.array([[4,-1.9],[-1.9,1.3]])/nu\n",
    "\n",
    "plt.figure(figsize=(5,5))\n",
    "\n",
    "ax = plt.gca()\n",
    "\n",
    "N = 10\n",
    "for i in range(N):\n",
    "    W = wishart.rvs(nu, S, random_state=None)\n",
    "    ln = pnorm_ball_line(np.linalg.cholesky(W),color='b',linewidth=1)\n",
    "    ax.add_line(ln)\n",
    "\n",
    "\n",
    "ln = pnorm_ball_line(np.linalg.cholesky(nu*S),color='r')\n",
    "ax.add_line(ln)\n",
    "\n",
    "Lim = 5\n",
    "ax.set_xlim([-Lim,Lim])\n",
    "ax.set_ylim([-Lim,Lim])\n",
    "plt.show()\n"
   ]
  },
  {
   "cell_type": "markdown",
   "metadata": {},
   "source": [
    "## Evaluating the Wishart density"
   ]
  },
  {
   "cell_type": "code",
   "execution_count": 154,
   "metadata": {
    "scrolled": true
   },
   "outputs": [
    {
     "name": "stdout",
     "output_type": "stream",
     "text": [
      "-11.0024155955\n",
      "-11.0024155955\n",
      "-19.51810485\n",
      "-19.51810485\n"
     ]
    }
   ],
   "source": [
    "%matplotlib inline\n",
    "\n",
    "import matplotlib as mpl\n",
    "import matplotlib.pyplot as plt\n",
    "import numpy as np\n",
    "import scipy as sc\n",
    "import pandas as pd\n",
    "\n",
    "from scipy.stats import wishart, invwishart\n",
    "from scipy.special import multigammaln\n",
    "from notes_utilities import pnorm_ball_line\n",
    "\n",
    "k = 2\n",
    "nu = 8\n",
    "S = np.array([[4,-1.9],[-1.9,1.3]])/nu\n",
    "\n",
    "X = np.random.randn(k,k)\n",
    "X = X.T.dot(X)\n",
    "\n",
    "cX = np.linalg.cholesky(X)\n",
    "logdetX = 2*np.sum(np.log(np.diag(cX)))\n",
    "c2S = np.linalg.cholesky(2*S)\n",
    "logdet2S = 2*np.sum(np.log(np.diag(c2S)))\n",
    "cS2 = c2S/2.0                       # np.linalg.cholesky(S/2)\n",
    "logdetS2 =  logdet2S - 4*np.log(2)  # 2*np.sum(np.log(np.diag(cS2)))\n",
    "\n",
    "logpdf_wishart    =  (nu - k - 1)/2.*logdetX - np.trace(np.linalg.solve(2*S, X)) - nu/2*logdet2S - multigammaln(nu/2, k)\n",
    "logpdf_invwishart = -(nu + k + 1)/2.*logdetX - np.trace(np.linalg.solve(X, S/2)) + nu/2*logdetS2 - multigammaln(nu/2, k)\n",
    "\n",
    "print(logpdf_wishart)\n",
    "print(wishart.logpdf(X, nu, S))\n",
    "\n",
    "print(logpdf_invwishart)\n",
    "print(invwishart.logpdf(X, nu, S))\n",
    "\n",
    "#\\exp\\left( \\frac{\\nu - k - 1}2 \\log |X| - \\trace (2 S)^{-1}X - \\frac{\\nu}{2} \\log |2 S | - \\log \\Gamma_k(\\nu/2)  \\right) \n"
   ]
  },
  {
   "cell_type": "code",
   "execution_count": 98,
   "metadata": {},
   "outputs": [
    {
     "data": {
      "image/png": "[encoded data removed]",
      "text/plain": [
       "<matplotlib.figure.Figure at 0x112c332e8>"
      ]
     },
     "metadata": {},
     "output_type": "display_data"
    }
   ],
   "source": [
    "# Generate Inverse Wishart random variables\n",
    "\n",
    "%matplotlib inline\n",
    "\n",
    "import matplotlib as mpl\n",
    "import matplotlib.pyplot as plt\n",
    "import numpy as np\n",
    "import scipy as sc\n",
    "import pandas as pd\n",
    "\n",
    "from scipy.stats import wishart, invwishart\n",
    "from notes_utilities import pnorm_ball_line\n",
    "\n",
    "k = 2\n",
    "#S = np.eye(k)\n",
    "#S = np.diag([2,3])\n",
    "nu = 16\n",
    "S = np.array([[4,-1.9],[-1.9,1.3]])*nu\n",
    "\n",
    "plt.figure(figsize=(5,5))\n",
    "\n",
    "ax = plt.gca()\n",
    "\n",
    "N = 10\n",
    "for i in range(N):\n",
    "    IW = invwishart.rvs(nu, S, random_state=None)\n",
    "    ln = pnorm_ball_line(np.linalg.cholesky(IW),color='b',linewidth=1)\n",
    "    ax.add_line(ln)\n",
    "\n",
    "\n",
    "ln = pnorm_ball_line(np.linalg.cholesky(S/(nu-k-1)),color='r')\n",
    "ax.add_line(ln)\n",
    "\n",
    "Lim = 5\n",
    "ax.set_xlim([-Lim,Lim])\n",
    "ax.set_ylim([-Lim,Lim])\n",
    "plt.show()\n"
   ]
  },
  {
   "cell_type": "code",
   "execution_count": 49,
   "metadata": {
    "scrolled": false
   },
   "outputs": [
    {
     "name": "stdout",
     "output_type": "stream",
     "text": [
      "def multigammaln(a, d):\n",
      "    r\"\"\"Returns the log of multivariate gamma, also sometimes called the\n",
      "    generalized gamma.\n",
      "\n",
      "    Parameters\n",
      "    ----------\n",
      "    a : ndarray\n",
      "        The multivariate gamma is computed for each item of `a`.\n",
      "    d : int\n",
      "        The dimension of the space of integration.\n",
      "\n",
      "    Returns\n",
      "    -------\n",
      "    res : ndarray\n",
      "        The values of the log multivariate gamma at the given points `a`.\n",
      "\n",
      "    Notes\n",
      "    -----\n",
      "    The formal definition of the multivariate gamma of dimension d for a real\n",
      "    `a` is\n",
      "\n",
      "    .. math::\n",
      "\n",
      "        \\Gamma_d(a) = \\int_{A>0} e^{-tr(A)} |A|^{a - (d+1)/2} dA\n",
      "\n",
      "    with the condition :math:`a > (d-1)/2`, and :math:`A > 0` being the set of\n",
      "    all the positive definite matrices of dimension `d`.  Note that `a` is a\n",
      "    scalar: the integrand only is multivariate, the argument is not (the\n",
      "    function is defined over a subset of the real set).\n",
      "\n",
      "    This can be proven to be equal to the much friendlier equation\n",
      "\n",
      "    .. math::\n",
      "\n",
      "        \\Gamma_d(a) = \\pi^{d(d-1)/4} \\prod_{i=1}^{d} \\Gamma(a - (i-1)/2).\n",
      "\n",
      "    References\n",
      "    ----------\n",
      "    R. J. Muirhead, Aspects of multivariate statistical theory (Wiley Series in\n",
      "    probability and mathematical statistics).\n",
      "\n",
      "    \"\"\"\n",
      "    a = np.asarray(a)\n",
      "    if not np.isscalar(d) or (np.floor(d) != d):\n",
      "        raise ValueError(\"d should be a positive integer (dimension)\")\n",
      "    if np.any(a <= 0.5 * (d - 1)):\n",
      "        raise ValueError(\"condition a (%f) > 0.5 * (d-1) (%f) not met\"\n",
      "                         % (a, 0.5 * (d-1)))\n",
      "\n",
      "    res = (d * (d-1) * 0.25) * np.log(np.pi)\n",
      "    res += np.sum(loggam([(a - (j - 1.)/2) for j in range(1, d+1)]), axis=0)\n",
      "    return res\n",
      "\n"
     ]
    }
   ],
   "source": [
    "import inspect\n",
    "import scipy as sc\n",
    "from scipy.stats import wishart\n",
    "\n",
    "#print(inspect.getsource(sc.stats._multivariate.wishart_gen))\n",
    "print(inspect.getsource(sc.special.multigammaln))\n",
    "\n",
    "#sps.special.multigammaln\n"
   ]
  },
  {
   "cell_type": "code",
   "execution_count": 17,
   "metadata": {
    "scrolled": true
   },
   "outputs": [
    {
     "name": "stdout",
     "output_type": "stream",
     "text": [
      "{\n",
      "  \"ip\": \"127.0.0.1\",\n",
      "  \"stdin_port\": 56571,\n",
      "  \"hb_port\": 56573,\n",
      "  \"signature_scheme\": \"hmac-sha256\",\n",
      "  \"transport\": \"tcp\",\n",
      "  \"control_port\": 56572,\n",
      "  \"iopub_port\": 56570,\n",
      "  \"shell_port\": 56569,\n",
      "  \"key\": \"9998ad8d-5daa-48bd-8307-45ca7c833fd7\"\n",
      "}\n",
      "\n",
      "Paste the above JSON into a file, and connect with:\n",
      "    $> ipython <app> --existing <file>\n",
      "or, if you are local, you can connect with just:\n",
      "    $> ipython <app> --existing kernel-0612b3c2-77a2-4d55-b991-57a41d566995.json \n",
      "or even just:\n",
      "    $> ipython <app> --existing \n",
      "if this is the most recent IPython session you have started.\n"
     ]
    }
   ],
   "source": [
    "%connect_info"
   ]
  },
  {
   "cell_type": "markdown",
   "metadata": {},
   "source": [
    "Some useful functions from np.random\n",
    "\n",
    "We can get a specific random number state and generate data from it."
   ]
  },
  {
   "cell_type": "code",
   "execution_count": 1,
   "metadata": {
    "scrolled": true
   },
   "outputs": [
    {
     "name": "stdout",
     "output_type": "stream",
     "text": [
      "[0 2 8 1 7 6 4 9 3 5]\n",
      "1.1245667884520933\n"
     ]
    }
   ],
   "source": [
    "import numpy as np\n",
    "\n",
    "u = np.random.RandomState()\n",
    "print(u.permutation(10))\n",
    "\n",
    "lam = 3;\n",
    "print(u.exponential(lam))\n"
   ]
  }
 ],
 "metadata": {
  "kernelspec": {
   "display_name": "Python [conda root]",
   "language": "python",
   "name": "conda-root-py"
  },
  "language_info": {
   "codemirror_mode": {
    "name": "ipython",
    "version": 3
   },
   "file_extension": ".py",
   "mimetype": "text/x-python",
   "name": "python",
   "nbconvert_exporter": "python",
   "pygments_lexer": "ipython3",
   "version": "3.6.1"
  },
  "toc": {
   "nav_menu": {},
   "number_sections": false,
   "sideBar": true,
   "skip_h1_title": false,
   "toc_cell": false,
   "toc_position": {},
   "toc_section_display": "block",
   "toc_window_display": false
  }
 },
 "nbformat": 4,
 "nbformat_minor": 1
}
