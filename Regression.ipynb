{
 "cells": [
  {
   "cell_type": "markdown",
   "metadata": {},
   "source": [
    "# Linear Regression"
   ]
  },
  {
   "cell_type": "code",
   "execution_count": 4,
   "metadata": {
    "hide_input": false,
    "scrolled": false
   },
   "outputs": [
    {
     "data": {
      "image/png": "[encoded data removed]",
      "text/plain": [
       "<matplotlib.figure.Figure at 0x116084668>"
      ]
     },
     "metadata": {},
     "output_type": "display_data"
    },
    {
     "name": "stdout",
     "output_type": "stream",
     "text": [
      "http://matplotlib.org/1.5.1/examples/pylab_examples/anscombe.html\n"
     ]
    }
   ],
   "source": [
    "# http://matplotlib.org/1.5.1/examples/pylab_examples/anscombe.html\n",
    "\n",
    "from __future__ import print_function\n",
    "\"\"\"\n",
    "Edward Tufte uses this example from Anscombe to show 4 datasets of x\n",
    "and y that have the same mean, standard deviation, and regression\n",
    "line, but which are qualitatively different.\n",
    "\"\"\"\n",
    "\n",
    "import matplotlib.pyplot as plt\n",
    "import numpy as np\n",
    "\n",
    "x = np.array([10, 8, 13, 9, 11, 14, 6, 4, 12, 7, 5])\n",
    "y1 = np.array([8.04, 6.95, 7.58, 8.81, 8.33, 9.96, 7.24, 4.26, 10.84, 4.82, 5.68])\n",
    "y2 = np.array([9.14, 8.14, 8.74, 8.77, 9.26, 8.10, 6.13, 3.10, 9.13, 7.26, 4.74])\n",
    "y3 = np.array([7.46, 6.77, 12.74, 7.11, 7.81, 8.84, 6.08, 5.39, 8.15, 6.42, 5.73])\n",
    "x4 = np.array([8, 8, 8, 8, 8, 8, 8, 19, 8, 8, 8])\n",
    "y4 = np.array([6.58, 5.76, 7.71, 8.84, 8.47, 7.04, 5.25, 12.50, 5.56, 7.91, 6.89])\n",
    "\n",
    "\n",
    "def fit(x):\n",
    "    return 3 + 0.5*x\n",
    "\n",
    "plt.figure(figsize=(16,4))\n",
    "\n",
    "xfit = np.array([np.amin(x), np.amax(x)])\n",
    "\n",
    "plt.subplot(141)\n",
    "plt.plot(x, y1, 'ks', xfit, fit(xfit), 'r-', lw=2)\n",
    "plt.axis([2, 20, 2, 14])\n",
    "plt.setp(plt.gca(), xticklabels=[], yticks=(4, 8, 12), xticks=(0, 10, 20))\n",
    "plt.text(3, 12, 'I', fontsize=20)\n",
    "\n",
    "plt.subplot(142)\n",
    "plt.plot(x, y2, 'ks', xfit, fit(xfit), 'r-', lw=2)\n",
    "plt.axis([2, 20, 2, 14])\n",
    "plt.setp(plt.gca(), xticklabels=[], yticks=(4, 8, 12), yticklabels=[], xticks=(0, 10, 20))\n",
    "plt.text(3, 12, 'II', fontsize=20)\n",
    "\n",
    "plt.subplot(143)\n",
    "plt.plot(x, y3, 'ks', xfit, fit(xfit), 'r-', lw=2)\n",
    "plt.axis([2, 20, 2, 14])\n",
    "plt.text(3, 12, 'III', fontsize=20)\n",
    "plt.setp(plt.gca(), yticks=(4, 8, 12), xticks=(0, 10, 20))\n",
    "\n",
    "plt.subplot(144)\n",
    "\n",
    "xfit = np.array([np.amin(x4), np.amax(x4)])\n",
    "plt.plot(x4, y4, 'ks', xfit, fit(xfit), 'r-', lw=2)\n",
    "plt.axis([2, 20, 2, 14])\n",
    "plt.setp(plt.gca(), yticklabels=[], yticks=(4, 8, 12), xticks=(0, 10, 20))\n",
    "plt.text(3, 12, 'IV', fontsize=20)\n",
    "\n",
    "# verify the stats\n",
    "#pairs = (x, y1), (x, y2), (x, y3), (x4, y4)\n",
    "#for x, y in pairs:\n",
    "#    print('mean=%1.2f, std=%1.2f, r=%1.2f' % (np.mean(y), np.std(y), np.corrcoef(x, y)[0][1]))\n",
    "\n",
    "plt.show()\n",
    "print(r'http://matplotlib.org/1.5.1/examples/pylab_examples/anscombe.html')"
   ]
  },
  {
   "cell_type": "markdown",
   "metadata": {},
   "source": [
    "The __regression__ problem is about finding a function $f(x; w)$ with parameters $w$, given example input vectors $x_i$ and corresponding outputs $y_i$ for $i=1,\\dots, N$ such that\n",
    "\n",
    "$$\n",
    "y_i \\approx f(x_i; w)\n",
    "$$\n",
    "\n",
    "This is done by minimizing a suitably defined function that measures the error\n",
    "\n",
    "$$\n",
    "E(w) = \\sum_i D(y_i, f(x_i; w))\n",
    "$$\n",
    "\n",
    "A popular choice is \n",
    "$$\n",
    "D(y, f) = \\frac{1}{2}(y-f)^2\n",
    "$$"
   ]
  },
  {
   "cell_type": "markdown",
   "metadata": {},
   "source": [
    "The collection $\\{x_i, y_i\\}$ for $i=1\\dots N$ is called a __data set__. \n",
    "\n",
    "If the mapping $f$ is linear __in $w$__, the problem is a __linear regression__ problem.\n",
    "\n",
    "Note that the mapping $f$ itself does not need to be linear in $x$. It is the linearity in $w$ why we call the problem linear regression. "
   ]
  },
  {
   "cell_type": "markdown",
   "metadata": {},
   "source": [
    "## Definition: Linearity:\n",
    "A function $g$ is linear when\n",
    "$$\n",
    "g(aw_1 + b w_2) = a g(w_1) + b g(w_2)\n",
    "$$\n",
    "for all scalar $a,b$ and vectors $w_1$ and $w_2$."
   ]
  },
  {
   "cell_type": "markdown",
   "metadata": {},
   "source": [
    "## Example1: Line Fitting\n",
    "\n",
    "* We wish to fit a line to data where we are given pairs\n",
    "$$\n",
    "(y_i, x_i)\n",
    "$$\n",
    "for $i=1\\dots N$ (or $i=0\\dots N-1$)\n",
    "\n",
    "* Model\n",
    "$$\n",
    "y_i \\approx f(x; w_1, w_0) = w_0 + w_1 x \n",
    "$$\n",
    "\n",
    "\n",
    ">  $x$ : Input \n",
    "\n",
    ">  $w_1$: The slope\n",
    "\n",
    ">  $w_0$: Intercept\n",
    "\n",
    "$f_i \\equiv f(x_i; w_1, w_0)$\n",
    "\n",
    "## Example2: Parabola Fitting\n",
    "\n",
    "* We wish to fit a parabola to data where we are given pairs\n",
    "$$\n",
    "(y_i, x_i)\n",
    "$$\n",
    "for $i=1\\dots N$ (or $i=0\\dots N-1$)\n",
    "\n",
    "* Model\n",
    "$$\n",
    "y_i \\approx f(x; w_2, w_1, w_0) = w_0 + w_1 x + w_2 x^2\n",
    "$$\n",
    "\n",
    "\n",
    ">  $x$ : Input \n",
    "\n",
    ">  $w_2$: Quadratic term, sign \n",
    "\n",
    ">  $w_1$: Linear term\n",
    "\n",
    ">  $w_0$: Constant\n",
    "\n",
    "$f_i \\equiv f(x_i; w_2, w_1, w_0)$\n",
    "\n",
    "A parabola is not a linear function in $x$ but it is linear in the parameters $w_2, w_1, w_0$ "
   ]
  },
  {
   "cell_type": "code",
   "execution_count": 42,
   "metadata": {
    "hide_input": false,
    "scrolled": true
   },
   "outputs": [
    {
     "data": {
      "image/png": "[encoded data removed]",
      "text/plain": [
       "<matplotlib.figure.Figure at 0x10c574198>"
      ]
     },
     "metadata": {},
     "output_type": "display_data"
    },
    {
     "data": {
      "image/png": "[encoded data removed]",
      "text/plain": [
       "<matplotlib.figure.Figure at 0x119b13c50>"
      ]
     },
     "metadata": {},
     "output_type": "display_data"
    }
   ],
   "source": [
    "x = np.array([10, 8, 13, 9, 11, 14, 6, 4, 12, 7, 5])-2\n",
    "y = np.array([8.04, 6.95, 7.58, 8.81, 8.33, 9.96, 7.24, 4.26, 10.84, 4.82, 5.68])-2\n",
    "#y = np.array([9.14, 8.14, 8.74, 8.77, 9.26, 8.10, 6.13, 3.10, 9.13, 7.26, 4.74])-2\n",
    "#y = np.array([7.46, 6.77, 12.74, 7.11, 7.81, 8.84, 6.08, 5.39, 8.15, 6.42, 5.73])-2\n",
    "\n",
    "def plot_fit(w1, w0):\n",
    "    f = w0 + w1*x\n",
    "\n",
    "    plt.figure(figsize=(6,6))\n",
    "    plt.plot(x,y,'sk')\n",
    "    plt.plot(x,f,'o-r')\n",
    "    #plt.axis('equal')\n",
    "    plt.xlim((0,15))\n",
    "    plt.ylim((0,15))\n",
    "    for i in range(len(x)):\n",
    "        plt.plot((x[i],x[i]),(f[i],y[i]),'b')\n",
    "    plt.show()\n",
    "    plt.figure(figsize=(6,2))\n",
    "    plt.bar(x,(f-y)**2/2)\n",
    "    plt.title(np.sum((f-y)**2/2))\n",
    "    plt.ylim((0,30))\n",
    "    plt.xlim((0,15))\n",
    "    plt.show()\n",
    "    \n",
    "plot_fit(0.38,3.99)"
   ]
  },
  {
   "cell_type": "code",
   "execution_count": 70,
   "metadata": {},
   "outputs": [
    {
     "data": {
      "application/vnd.jupyter.widget-view+json": {
       "model_id": "b6674328649d4566afe331cbdc83f458",
       "version_major": 2,
       "version_minor": 0
      },
      "text/html": [
       "<p>Failed to display Jupyter Widget of type <code>interactive</code>.</p>\n",
       "<p>\n",
       "  If you're reading this message in Jupyter Notebook or JupyterLab, it may mean\n",
       "  that the widgets JavaScript is still loading. If this message persists, it\n",
       "  likely means that the widgets JavaScript library is either not installed or\n",
       "  not enabled. See the <a href=\"https://ipywidgets.readthedocs.io/en/stable/user_install.html\">Jupyter\n",
       "  Widgets Documentation</a> for setup instructions.\n",
       "</p>\n",
       "<p>\n",
       "  If you're reading this message in another notebook frontend (for example, a static\n",
       "  rendering on GitHub or <a href=\"https://nbviewer.jupyter.org/\">NBViewer</a>),\n",
       "  it may mean that your frontend doesn't currently support widgets.\n",
       "</p>\n"
      ],
      "text/plain": [
       "interactive(children=(FloatSlider(value=0.0, description='w1', max=2.0, min=-2.0, step=0.01), FloatSlider(value=0.0, description='w0', max=5.0, min=-5.0, step=0.01), Output()), _dom_classes=('widget-interact',))"
      ]
     },
     "metadata": {},
     "output_type": "display_data"
    }
   ],
   "source": [
    "interact(plot_fit, w1=(-2, 2, 0.01), w0=(-5, 5, 0.01));"
   ]
  },
  {
   "cell_type": "markdown",
   "metadata": {},
   "source": [
    "### Example Dataset\n",
    "\n",
    "Number of registered cars in Turkey, as a function of years.\n",
    "\n",
    "|$i$|$y_i$|$x_i$|\n",
    "|-------------|\n",
    "|Index|Number of Cars (In Millions)|Year|\n"
   ]
  },
  {
   "cell_type": "code",
   "execution_count": 6,
   "metadata": {
    "hide_input": true,
    "scrolled": false
   },
   "outputs": [
    {
     "data": {
      "text/html": [
       "<div>\n",
       "<style>\n",
       "    .dataframe thead tr:only-child th {\n",
       "        text-align: right;\n",
       "    }\n",
       "\n",
       "    .dataframe thead th {\n",
       "        text-align: left;\n",
       "    }\n",
       "\n",
       "    .dataframe tbody tr th {\n",
       "        vertical-align: top;\n",
       "    }\n",
       "</style>\n",
       "<table border=\"1\" class=\"dataframe\">\n",
       "  <thead>\n",
       "    <tr style=\"text-align: right;\">\n",
       "      <th></th>\n",
       "      <th>Year</th>\n",
       "      <th>Car</th>\n",
       "    </tr>\n",
       "  </thead>\n",
       "  <tbody>\n",
       "    <tr>\n",
       "      <th>0</th>\n",
       "      <td>1966</td>\n",
       "      <td>91469</td>\n",
       "    </tr>\n",
       "    <tr>\n",
       "      <th>1</th>\n",
       "      <td>1967</td>\n",
       "      <td>112367</td>\n",
       "    </tr>\n",
       "    <tr>\n",
       "      <th>2</th>\n",
       "      <td>1968</td>\n",
       "      <td>125375</td>\n",
       "    </tr>\n",
       "    <tr>\n",
       "      <th>3</th>\n",
       "      <td>1969</td>\n",
       "      <td>137345</td>\n",
       "    </tr>\n",
       "    <tr>\n",
       "      <th>4</th>\n",
       "      <td>1970</td>\n",
       "      <td>137771</td>\n",
       "    </tr>\n",
       "    <tr>\n",
       "      <th>5</th>\n",
       "      <td>1971</td>\n",
       "      <td>153676</td>\n",
       "    </tr>\n",
       "    <tr>\n",
       "      <th>6</th>\n",
       "      <td>1972</td>\n",
       "      <td>187272</td>\n",
       "    </tr>\n",
       "    <tr>\n",
       "      <th>7</th>\n",
       "      <td>1973</td>\n",
       "      <td>240360</td>\n",
       "    </tr>\n",
       "    <tr>\n",
       "      <th>8</th>\n",
       "      <td>1974</td>\n",
       "      <td>313160</td>\n",
       "    </tr>\n",
       "    <tr>\n",
       "      <th>9</th>\n",
       "      <td>1975</td>\n",
       "      <td>403546</td>\n",
       "    </tr>\n",
       "    <tr>\n",
       "      <th>10</th>\n",
       "      <td>1976</td>\n",
       "      <td>488894</td>\n",
       "    </tr>\n",
       "    <tr>\n",
       "      <th>11</th>\n",
       "      <td>1977</td>\n",
       "      <td>560424</td>\n",
       "    </tr>\n",
       "    <tr>\n",
       "      <th>12</th>\n",
       "      <td>1978</td>\n",
       "      <td>624438</td>\n",
       "    </tr>\n",
       "    <tr>\n",
       "      <th>13</th>\n",
       "      <td>1979</td>\n",
       "      <td>688687</td>\n",
       "    </tr>\n",
       "    <tr>\n",
       "      <th>14</th>\n",
       "      <td>1980</td>\n",
       "      <td>742252</td>\n",
       "    </tr>\n",
       "    <tr>\n",
       "      <th>15</th>\n",
       "      <td>1981</td>\n",
       "      <td>776432</td>\n",
       "    </tr>\n",
       "    <tr>\n",
       "      <th>16</th>\n",
       "      <td>1982</td>\n",
       "      <td>811465</td>\n",
       "    </tr>\n",
       "    <tr>\n",
       "      <th>17</th>\n",
       "      <td>1983</td>\n",
       "      <td>856350</td>\n",
       "    </tr>\n",
       "    <tr>\n",
       "      <th>18</th>\n",
       "      <td>1984</td>\n",
       "      <td>919577</td>\n",
       "    </tr>\n",
       "    <tr>\n",
       "      <th>19</th>\n",
       "      <td>1985</td>\n",
       "      <td>983444</td>\n",
       "    </tr>\n",
       "    <tr>\n",
       "      <th>20</th>\n",
       "      <td>1986</td>\n",
       "      <td>1087234</td>\n",
       "    </tr>\n",
       "    <tr>\n",
       "      <th>21</th>\n",
       "      <td>1987</td>\n",
       "      <td>1193021</td>\n",
       "    </tr>\n",
       "    <tr>\n",
       "      <th>22</th>\n",
       "      <td>1988</td>\n",
       "      <td>1310257</td>\n",
       "    </tr>\n",
       "    <tr>\n",
       "      <th>23</th>\n",
       "      <td>1989</td>\n",
       "      <td>1434830</td>\n",
       "    </tr>\n",
       "    <tr>\n",
       "      <th>24</th>\n",
       "      <td>1990</td>\n",
       "      <td>1649879</td>\n",
       "    </tr>\n",
       "    <tr>\n",
       "      <th>25</th>\n",
       "      <td>1991</td>\n",
       "      <td>1864344</td>\n",
       "    </tr>\n",
       "    <tr>\n",
       "      <th>26</th>\n",
       "      <td>1992</td>\n",
       "      <td>2181388</td>\n",
       "    </tr>\n",
       "    <tr>\n",
       "      <th>27</th>\n",
       "      <td>1993</td>\n",
       "      <td>2619852</td>\n",
       "    </tr>\n",
       "    <tr>\n",
       "      <th>28</th>\n",
       "      <td>1994</td>\n",
       "      <td>2861640</td>\n",
       "    </tr>\n",
       "    <tr>\n",
       "      <th>29</th>\n",
       "      <td>1995</td>\n",
       "      <td>3058511</td>\n",
       "    </tr>\n",
       "    <tr>\n",
       "      <th>30</th>\n",
       "      <td>1996</td>\n",
       "      <td>3274156</td>\n",
       "    </tr>\n",
       "    <tr>\n",
       "      <th>31</th>\n",
       "      <td>1997</td>\n",
       "      <td>3570105</td>\n",
       "    </tr>\n",
       "    <tr>\n",
       "      <th>32</th>\n",
       "      <td>1998</td>\n",
       "      <td>3838288</td>\n",
       "    </tr>\n",
       "    <tr>\n",
       "      <th>33</th>\n",
       "      <td>1999</td>\n",
       "      <td>4072326</td>\n",
       "    </tr>\n",
       "    <tr>\n",
       "      <th>34</th>\n",
       "      <td>2000</td>\n",
       "      <td>4422180</td>\n",
       "    </tr>\n",
       "    <tr>\n",
       "      <th>35</th>\n",
       "      <td>2001</td>\n",
       "      <td>4534803</td>\n",
       "    </tr>\n",
       "    <tr>\n",
       "      <th>36</th>\n",
       "      <td>2002</td>\n",
       "      <td>4600140</td>\n",
       "    </tr>\n",
       "    <tr>\n",
       "      <th>37</th>\n",
       "      <td>2003</td>\n",
       "      <td>4700343</td>\n",
       "    </tr>\n",
       "    <tr>\n",
       "      <th>38</th>\n",
       "      <td>2004</td>\n",
       "      <td>5400440</td>\n",
       "    </tr>\n",
       "    <tr>\n",
       "      <th>39</th>\n",
       "      <td>2005</td>\n",
       "      <td>5772745</td>\n",
       "    </tr>\n",
       "    <tr>\n",
       "      <th>40</th>\n",
       "      <td>2006</td>\n",
       "      <td>6140992</td>\n",
       "    </tr>\n",
       "    <tr>\n",
       "      <th>41</th>\n",
       "      <td>2007</td>\n",
       "      <td>6472156</td>\n",
       "    </tr>\n",
       "    <tr>\n",
       "      <th>42</th>\n",
       "      <td>2008</td>\n",
       "      <td>6796629</td>\n",
       "    </tr>\n",
       "    <tr>\n",
       "      <th>43</th>\n",
       "      <td>2009</td>\n",
       "      <td>7093964</td>\n",
       "    </tr>\n",
       "    <tr>\n",
       "      <th>44</th>\n",
       "      <td>2010</td>\n",
       "      <td>7544871</td>\n",
       "    </tr>\n",
       "    <tr>\n",
       "      <th>45</th>\n",
       "      <td>2011</td>\n",
       "      <td>8113111</td>\n",
       "    </tr>\n",
       "    <tr>\n",
       "      <th>46</th>\n",
       "      <td>2012</td>\n",
       "      <td>8648875</td>\n",
       "    </tr>\n",
       "    <tr>\n",
       "      <th>47</th>\n",
       "      <td>2013</td>\n",
       "      <td>9283923</td>\n",
       "    </tr>\n",
       "    <tr>\n",
       "      <th>48</th>\n",
       "      <td>2014</td>\n",
       "      <td>9857915</td>\n",
       "    </tr>\n",
       "    <tr>\n",
       "      <th>49</th>\n",
       "      <td>2015</td>\n",
       "      <td>10509258</td>\n",
       "    </tr>\n",
       "  </tbody>\n",
       "</table>\n",
       "</div>"
      ],
      "text/plain": [
       "    Year       Car\n",
       "0   1966     91469\n",
       "1   1967    112367\n",
       "2   1968    125375\n",
       "3   1969    137345\n",
       "4   1970    137771\n",
       "5   1971    153676\n",
       "6   1972    187272\n",
       "7   1973    240360\n",
       "8   1974    313160\n",
       "9   1975    403546\n",
       "10  1976    488894\n",
       "11  1977    560424\n",
       "12  1978    624438\n",
       "13  1979    688687\n",
       "14  1980    742252\n",
       "15  1981    776432\n",
       "16  1982    811465\n",
       "17  1983    856350\n",
       "18  1984    919577\n",
       "19  1985    983444\n",
       "20  1986   1087234\n",
       "21  1987   1193021\n",
       "22  1988   1310257\n",
       "23  1989   1434830\n",
       "24  1990   1649879\n",
       "25  1991   1864344\n",
       "26  1992   2181388\n",
       "27  1993   2619852\n",
       "28  1994   2861640\n",
       "29  1995   3058511\n",
       "30  1996   3274156\n",
       "31  1997   3570105\n",
       "32  1998   3838288\n",
       "33  1999   4072326\n",
       "34  2000   4422180\n",
       "35  2001   4534803\n",
       "36  2002   4600140\n",
       "37  2003   4700343\n",
       "38  2004   5400440\n",
       "39  2005   5772745\n",
       "40  2006   6140992\n",
       "41  2007   6472156\n",
       "42  2008   6796629\n",
       "43  2009   7093964\n",
       "44  2010   7544871\n",
       "45  2011   8113111\n",
       "46  2012   8648875\n",
       "47  2013   9283923\n",
       "48  2014   9857915\n",
       "49  2015  10509258"
      ]
     },
     "execution_count": 6,
     "metadata": {},
     "output_type": "execute_result"
    }
   ],
   "source": [
    "%matplotlib inline\n",
    "\n",
    "import scipy as sc\n",
    "import numpy as np\n",
    "import pandas as pd\n",
    "import matplotlib as mpl\n",
    "import matplotlib.pylab as plt\n",
    "\n",
    "df_arac = pd.read_csv(u'data/arac.csv',sep=';')\n",
    "df_arac[['Year','Car']]\n",
    "#df_arac"
   ]
  },
  {
   "cell_type": "markdown",
   "metadata": {},
   "source": [
    "## Visualizing the data"
   ]
  },
  {
   "cell_type": "code",
   "execution_count": 7,
   "metadata": {
    "hide_input": false,
    "scrolled": true
   },
   "outputs": [
    {
     "data": {
      "image/png": "[encoded data removed]",
      "text/plain": [
       "<matplotlib.figure.Figure at 0x1188d4c88>"
      ]
     },
     "metadata": {},
     "output_type": "display_data"
    }
   ],
   "source": [
    "BaseYear = 1995\n",
    "x = np.matrix(df_arac.Year[0:]).T-BaseYear\n",
    "y = np.matrix(df_arac.Car[0:]).T/1000000.\n",
    "\n",
    "plt.plot(x+BaseYear, y, 'o-')\n",
    "plt.xlabel('Yil')\n",
    "plt.ylabel('Araba (Millions)')\n",
    "\n",
    "plt.show()"
   ]
  },
  {
   "cell_type": "markdown",
   "metadata": {},
   "source": [
    "### Manual Model Fitting"
   ]
  },
  {
   "cell_type": "code",
   "execution_count": 38,
   "metadata": {
    "hide_input": false
   },
   "outputs": [
    {
     "data": {
      "image/png": "[encoded data removed]",
      "text/plain": [
       "<matplotlib.figure.Figure at 0x119b3ac50>"
      ]
     },
     "metadata": {},
     "output_type": "display_data"
    }
   ],
   "source": [
    "%matplotlib inline\n",
    "from __future__ import print_function\n",
    "from ipywidgets import interact, interactive, fixed\n",
    "import ipywidgets as widgets\n",
    "import matplotlib.pylab as plt\n",
    "from IPython.display import clear_output, display, HTML\n",
    "\n",
    "\n",
    "w_0 = 0.27150786\n",
    "w_1 = 0.37332256\n",
    "\n",
    "BaseYear = 1995\n",
    "x = np.matrix(df_arac.Year[0:]).T-BaseYear\n",
    "y = np.matrix(df_arac.Car[0:]).T/1000000.\n",
    "\n",
    "fig, ax = plt.subplots()\n",
    "\n",
    "f = w_1*x + w_0\n",
    "plt.plot(x+BaseYear, y, 'o-')\n",
    "ln, = plt.plot(x+BaseYear, f, 'r')\n",
    "\n",
    "\n",
    "plt.xlabel('Years')\n",
    "plt.ylabel('Number of Cars (Millions)')\n",
    "ax.set_ylim((-2,12))\n",
    "plt.close(fig)\n",
    "\n",
    "def set_line(w_1, w_0):\n",
    "\n",
    "    f = w_1*x + w_0\n",
    "    e = y - f\n",
    "\n",
    "    ln.set_ydata(f)\n",
    "    ax.set_title('Total Error = {} '.format(np.asscalar(e.T*e/2)))\n",
    "    display(fig)\n",
    "\n",
    "set_line(1,5)"
   ]
  },
  {
   "cell_type": "code",
   "execution_count": 39,
   "metadata": {
    "scrolled": false
   },
   "outputs": [
    {
     "data": {
      "application/vnd.jupyter.widget-view+json": {
       "model_id": "3b470d9faf16408ea1521d1b539013f5",
       "version_major": 2,
       "version_minor": 0
      },
      "text/html": [
       "<p>Failed to display Jupyter Widget of type <code>interactive</code>.</p>\n",
       "<p>\n",
       "  If you're reading this message in Jupyter Notebook or JupyterLab, it may mean\n",
       "  that the widgets JavaScript is still loading. If this message persists, it\n",
       "  likely means that the widgets JavaScript library is either not installed or\n",
       "  not enabled. See the <a href=\"https://ipywidgets.readthedocs.io/en/stable/user_install.html\">Jupyter\n",
       "  Widgets Documentation</a> for setup instructions.\n",
       "</p>\n",
       "<p>\n",
       "  If you're reading this message in another notebook frontend (for example, a static\n",
       "  rendering on GitHub or <a href=\"https://nbviewer.jupyter.org/\">NBViewer</a>),\n",
       "  it may mean that your frontend doesn't currently support widgets.\n",
       "</p>\n"
      ],
      "text/plain": [
       "interactive(children=(FloatSlider(value=0.0, description='w_1', max=2.0, min=-2.0, step=0.01), FloatSlider(value=0.0, description='w_0', max=5.0, min=-5.0, step=0.01), Output()), _dom_classes=('widget-interact',))"
      ]
     },
     "metadata": {},
     "output_type": "display_data"
    }
   ],
   "source": [
    "interact(set_line, w_1=(-2, 2, 0.01), w_0=(-5, 5, 0.01));"
   ]
  },
  {
   "cell_type": "code",
   "execution_count": 35,
   "metadata": {
    "hide_input": false,
    "scrolled": true
   },
   "outputs": [
    {
     "data": {
      "image/png": "[encoded data removed]",
      "text/plain": [
       "<matplotlib.figure.Figure at 0x1164b9f98>"
      ]
     },
     "metadata": {},
     "output_type": "display_data"
    }
   ],
   "source": [
    "w_0 = 0.27150786\n",
    "w_1 = 0.37332256\n",
    "w_2 = 0.1\n",
    "\n",
    "BaseYear = 1995\n",
    "x = np.array(df_arac.Year[0:]).T-BaseYear\n",
    "y = np.array(df_arac.Car[0:]).T/1000000.\n",
    "\n",
    "fig, ax = plt.subplots()\n",
    "\n",
    "f = w_2*x**2 + w_1*x + w_0\n",
    "plt.plot(x+BaseYear, y, 'o-')\n",
    "ln, = plt.plot(x+BaseYear, f, 'r')\n",
    "\n",
    "\n",
    "plt.xlabel('Years')\n",
    "plt.ylabel('Number of Cars (Millions)')\n",
    "ax.set_ylim((-2,12))\n",
    "plt.close(fig)\n",
    "\n",
    "def set_line(w_2, w_1, w_0):\n",
    "    f = w_2*x**2 + w_1*x + w_0\n",
    "    e = y - f\n",
    "    ln.set_ydata(f)\n",
    "    ax.set_title('Total Error = {} '.format(np.sum(e*e/2)))\n",
    "    display(fig)\n",
    "\n",
    "set_line(w_2, w_1, w_0)"
   ]
  },
  {
   "cell_type": "code",
   "execution_count": 11,
   "metadata": {
    "scrolled": false
   },
   "outputs": [
    {
     "data": {
      "application/vnd.jupyter.widget-view+json": {
       "model_id": "257166fa305043b48e01e1dfd29edcdf",
       "version_major": 2,
       "version_minor": 0
      },
      "text/html": [
       "<p>Failed to display Jupyter Widget of type <code>interactive</code>.</p>\n",
       "<p>\n",
       "  If you're reading this message in Jupyter Notebook or JupyterLab, it may mean\n",
       "  that the widgets JavaScript is still loading. If this message persists, it\n",
       "  likely means that the widgets JavaScript library is either not installed or\n",
       "  not enabled. See the <a href=\"https://ipywidgets.readthedocs.io/en/stable/user_install.html\">Jupyter\n",
       "  Widgets Documentation</a> for setup instructions.\n",
       "</p>\n",
       "<p>\n",
       "  If you're reading this message in another notebook frontend (for example, a static\n",
       "  rendering on GitHub or <a href=\"https://nbviewer.jupyter.org/\">NBViewer</a>),\n",
       "  it may mean that your frontend doesn't currently support widgets.\n",
       "</p>\n"
      ],
      "text/plain": [
       "interactive(children=(FloatSlider(value=0.0, description='w_2', max=0.1, min=-0.1, step=0.001), FloatSlider(value=0.0, description='w_1', max=2.0, min=-2.0, step=0.01), FloatSlider(value=0.0, description='w_0', max=5.0, min=-5.0, step=0.01), Output()), _dom_classes=('widget-interact',))"
      ]
     },
     "metadata": {},
     "output_type": "display_data"
    },
    {
     "data": {
      "text/plain": [
       "<function __main__.set_line>"
      ]
     },
     "execution_count": 11,
     "metadata": {},
     "output_type": "execute_result"
    }
   ],
   "source": [
    "interact(set_line, w_2=(-0.1,0.1,0.001), w_1=(-2, 2, 0.01), w_0=(-5, 5, 0.01))"
   ]
  },
  {
   "cell_type": "markdown",
   "metadata": {},
   "source": [
    "## Example\n",
    "\n",
    "* Fitting the model: estimating $w = [w_0, w_1]$\n",
    "\n",
    "* As there is noise, we can't hope to fit our model exactly\n",
    "\n",
    "* Define the error for each observation \n",
    "\n",
    "$$e_i = \\frac{1}{2}(y_i - f(x_i; w))^2$$\n",
    "\n",
    "squared Euclidian norm. The constant $1/2$ is useful for a cosmetical simplification.\n",
    "\n",
    "* Total Error (sum over all data points)\n",
    "\n",
    "$$\n",
    "E(w) = \\frac{1}{2} \\sum_i (y_i - f(x_i; w))^2\n",
    "$$\n",
    "\n",
    "* We can minimize the total error by adjusting $w_0$ and $w_1$"
   ]
  },
  {
   "cell_type": "markdown",
   "metadata": {},
   "source": [
    "### Visualization of the error surface\n",
    "\n",
    "A good approach for low dimensional problems is the visualization of the error surface. We evaluate her exhaustively the error for each possible  setting of the parameter $w$. "
   ]
  },
  {
   "cell_type": "code",
   "execution_count": 45,
   "metadata": {
    "scrolled": false
   },
   "outputs": [
    {
     "data": {
      "image/png": "[encoded data removed]",
      "text/plain": [
       "<matplotlib.figure.Figure at 0x118a8ff60>"
      ]
     },
     "metadata": {},
     "output_type": "display_data"
    }
   ],
   "source": [
    "from itertools import product\n",
    "\n",
    "BaseYear = 1995\n",
    "x = np.matrix(df_arac.Year[0:]).T-BaseYear\n",
    "y = np.matrix(df_arac.Car[0:]).T/1000000.\n",
    "\n",
    "# Setup the vandermonde matrix\n",
    "N = len(x)\n",
    "A = np.hstack((np.ones((N,1)), x))\n",
    "\n",
    "left = -5\n",
    "right = 15\n",
    "bottom = -4\n",
    "top = 6\n",
    "step = 0.05\n",
    "W0 = np.arange(left,right, step)\n",
    "W1 = np.arange(bottom,top, step)\n",
    "\n",
    "ErrSurf = np.zeros((len(W1),len(W0)))\n",
    "\n",
    "for i,j in product(range(len(W1)), range(len(W0))):\n",
    "    e = y - A*np.matrix([W0[j], W1[i]]).T\n",
    "    ErrSurf[i,j] = e.T*e/2\n",
    "\n",
    "plt.figure(figsize=(10,10))\n",
    "plt.imshow(ErrSurf, interpolation='nearest', \n",
    "           vmin=0, vmax=1000,origin='lower',\n",
    "           extent=(left,right,bottom,top),cmap='jet')\n",
    "plt.xlabel('w0')\n",
    "plt.ylabel('w1')\n",
    "plt.title('Error Surface')\n",
    "plt.colorbar(orientation='horizontal')\n",
    "plt.show()"
   ]
  },
  {
   "cell_type": "markdown",
   "metadata": {},
   "source": [
    "\n",
    "# How to fit the model automatically?\n",
    "\n",
    "## Idea: Least Squares\n",
    "\n",
    "* Compute the derivative of the total error w.r.t. $w_0$ and $w_1$ and solve the equations\n",
    "* Derivation in Vector Notation\n",
    "\n",
    "\\begin{eqnarray}\n",
    "\\left(\n",
    "\\begin{array}{c}\n",
    "y_0 \\\\ y_1 \\\\ \\vdots \\\\ y_{N-1} \n",
    "\\end{array}\n",
    "\\right)\n",
    "\\approx\n",
    "\\left(\n",
    "\\begin{array}{cc}\n",
    "1 & x_0 \\\\ 1 & x_1 \\\\ \\vdots \\\\ 1 & x_{N-1}  \n",
    "\\end{array}\n",
    "\\right) \n",
    "\\left(\n",
    "\\begin{array}{c}\n",
    " w_0 \\\\ w_1  \n",
    "\\end{array}\n",
    "\\right)\n",
    "\\end{eqnarray}\n",
    "\n",
    "\\begin{eqnarray}\n",
    "y \\approx A w\n",
    "\\end{eqnarray}\n",
    "\n",
    "> $A = A(x)$: Design Matrix\n",
    "\n",
    "> $w$: Model Parameters\n",
    "\n",
    "> $y$: Observations\n",
    "\n",
    "* Error vector: $$e = y - Aw$$\n",
    "\n",
    "\\begin{eqnarray}\n",
    "E(w) & = & \\frac{1}{2}e^\\top e = \\frac{1}{2}(y - Aw)^\\top (y - Aw)\\\\\n",
    "& = & \\frac{1}{2}y^\\top y - \\frac{1}{2} y^\\top Aw - \\frac{1}{2} w^\\top A^\\top y + \\frac{1}{2} w^\\top A^\\top Aw \\\\\n",
    "& = & \\frac{1}{2} y^\\top y - y^\\top Aw + \\frac{1}{2} w^\\top A^\\top Aw \\\\\n",
    "\\end{eqnarray}\n",
    "\n",
    "### Gradient\n",
    "Derivative of the function $E$ with respect to a vector \n",
    "\\begin{eqnarray}\n",
    "\\frac{d E}{d w } & = & \\left(\\begin{array}{c}\n",
    " \\partial E/\\partial w_0 \\\\ \\partial E/\\partial w_1 \\\\ \\vdots \\\\  \\partial E/\\partial w_{K-1}\n",
    "\\end{array}\\right)\n",
    "\\end{eqnarray}\n",
    "  \n",
    "We derive the gradient of the total error as\n",
    "\\begin{eqnarray}\n",
    "\\frac{d}{d w }E(w) & = & \\frac{d}{d w }(\\frac{1}{2} y^\\top y) &+ \\frac{d}{d w }(- y^\\top Aw) &+ \\frac{d}{d w }(\\frac{1}{2} w^\\top A^\\top Aw) \\\\\n",
    "& = & 0 &- A^\\top y &+ A^\\top A w \\\\\n",
    "& = & - A^\\top (y - Aw) \\\\\n",
    "& = & - A^\\top e \\\\\n",
    "& \\equiv & \\nabla E(w)\n",
    "\\end{eqnarray}\n",
    "\n",
    "#### Two basic results that everyone should know\n",
    "* Gradient of an inner product\n",
    "\\begin{eqnarray}\n",
    "\\frac{d}{d w }(h^\\top w) & = & h\n",
    "\\end{eqnarray}\n",
    "\n",
    "* Gradient of a Quadratic form\n",
    "\\begin{eqnarray}\n",
    "\\frac{d}{d w }(w^\\top K w) & = & (K+K^\\top) w\n",
    "\\end{eqnarray}\n",
    "\n",
    "\n",
    "### Least Squares solution: Directly solving the equations \n",
    "* Find\n",
    "\n",
    "\\begin{eqnarray}\n",
    "w^* & = & \\arg\\min_{w} E(w)\n",
    "\\end{eqnarray}\n",
    "\n",
    "* Optimality Condition (from basic Calculus, the gradient should vanish)\n",
    "\n",
    "\\begin{eqnarray}\n",
    "\\nabla E(w^*) & = & 0\n",
    "\\end{eqnarray}\n",
    "\n",
    "\n",
    "* Set the derivative to zero and solve for $w^*$\n",
    "\n",
    "\\begin{eqnarray}\n",
    "0 & = & - A^\\top y + A^\\top A w^*  \\\\\n",
    "A^\\top y & = &  A^\\top A w^* \\\\\n",
    "w^* & = & (A^\\top A)^{-1} A^\\top y \n",
    "\\end{eqnarray}\n",
    "\n",
    "* Projection interpretation:\n",
    "\n",
    "\\begin{eqnarray}\n",
    "f & = A w^*  = A (A^\\top A)^{-1} A^\\top y \n",
    "\\end{eqnarray}\n",
    "\n",
    "$P$ is the orthogonal projection matrix onto the space spanned by the columns of $A$\n",
    "\\begin{eqnarray}\n",
    "P & = & A (A^\\top A)^{-1} A^\\top \n",
    "\\end{eqnarray}\n",
    "\n",
    "To understand the last equation, consider the case when $A = a$ is a column vector. The projector is\n",
    "\\begin{eqnarray}\n",
    "P & = & \\frac{a}{\\|a\\|} \\frac{a^\\top}{\\|a\\|} \n",
    "\\end{eqnarray}\n",
    "Hence the approximation is given by \n",
    "\\begin{eqnarray}\n",
    "f & = a w^*  = \\frac{a}{\\|a\\|} \\left( \\frac{a^\\top}{\\|a\\|} y \\right)\n",
    "\\end{eqnarray}\n",
    "\n",
    "This expression shows that the vector $y$ is projected onto the unit vector pointing in the direction of $A$."
   ]
  },
  {
   "cell_type": "code",
   "execution_count": 46,
   "metadata": {
    "scrolled": false
   },
   "outputs": [
    {
     "name": "stdout",
     "output_type": "stream",
     "text": [
      "Parameters: \n",
      "w0 =  [[ 3.94060309]] \n",
      "w1 =  [[ 0.194523]]\n",
      "Error: [[ 26.15676891]]\n"
     ]
    },
    {
     "data": {
      "image/png": "[encoded data removed]",
      "text/plain": [
       "<matplotlib.figure.Figure at 0x11896f0b8>"
      ]
     },
     "metadata": {},
     "output_type": "display_data"
    }
   ],
   "source": [
    "# Solving the Normal Equations\n",
    "\n",
    "# Setup the Design matrix\n",
    "N = len(x)\n",
    "A = np.hstack((np.ones((N,1)), x))\n",
    "\n",
    "#plt.imshow(A, interpolation='nearest')\n",
    "# Solve the least squares problem\n",
    "w_ls,E,rank,sigma = np.linalg.lstsq(A, y)\n",
    "\n",
    "print('Parameters: \\nw0 = ', w_ls[0],'\\nw1 = ', w_ls[1] )\n",
    "print('Error:', E/2)\n",
    "\n",
    "f = np.asscalar(w_ls[1])*x + np.asscalar(w_ls[0])\n",
    "plt.plot(x+BaseYear, y, 'o-')\n",
    "plt.plot(x+BaseYear, f, 'r')\n",
    "\n",
    "\n",
    "plt.xlabel('Years')\n",
    "plt.ylabel('Number of Cars (Millions)')\n",
    "plt.show()"
   ]
  },
  {
   "cell_type": "code",
   "execution_count": 29,
   "metadata": {
    "hide_input": false
   },
   "outputs": [
    {
     "data": {
      "image/png": "[encoded data removed]",
      "text/plain": [
       "<matplotlib.figure.Figure at 0x119b29080>"
      ]
     },
     "metadata": {},
     "output_type": "display_data"
    },
    {
     "name": "stdout",
     "output_type": "stream",
     "text": [
      "Total Error =  26.156768907362192\n"
     ]
    }
   ],
   "source": [
    "#f = A*w_ls\n",
    "\n",
    "f = A*w_star\n",
    "plt.plot(x+BaseYear, y, 'o-')\n",
    "plt.plot(x+BaseYear, f, 'r')\n",
    "\n",
    "plt.xlabel('Years')\n",
    "plt.ylabel('Number of Cars')\n",
    "\n",
    "plt.show()\n",
    "\n",
    "e = y - f\n",
    "\n",
    "print('Total Error = ', np.asscalar(e.T*e/2))"
   ]
  },
  {
   "cell_type": "markdown",
   "metadata": {},
   "source": [
    "## Fitting a polynomial \n",
    "\n",
    "Often, fitting a line between inputs and outputs is not enough. A good candidate is fitting a higher order polynomial. \n",
    "\n",
    "### Parabola\n",
    "\\begin{eqnarray}\n",
    "\\left(\n",
    "\\begin{array}{c}\n",
    "y_0 \\\\ y_1 \\\\ \\vdots \\\\ y_{N-1} \n",
    "\\end{array}\n",
    "\\right)\n",
    "\\approx\n",
    "\\left(\n",
    "\\begin{array}{ccc}\n",
    "1 & x_0 & x_0^2 \\\\ 1 & x_1 & x_1^2 \\\\ \\vdots \\\\ 1 & x_{N-1} & x_{N-1}^2   \n",
    "\\end{array}\n",
    "\\right) \n",
    "\\left(\n",
    "\\begin{array}{c}\n",
    " w_0 \\\\ w_1  \\\\ w_2\n",
    "\\end{array}\n",
    "\\right)\n",
    "\\end{eqnarray}\n",
    "\n",
    "### Polynomial of order $K$\n",
    "\\begin{eqnarray}\n",
    "\\left(\n",
    "\\begin{array}{c}\n",
    "y_0 \\\\ y_1 \\\\ \\vdots \\\\ y_{N-1} \n",
    "\\end{array}\n",
    "\\right)\n",
    "\\approx\n",
    "\\left(\n",
    "\\begin{array}{ccccc}\n",
    "1 & x_0 & x_0^2 & \\dots & x_0^K \\\\ 1 & x_1 & x_1^2 & \\dots & x_1^K\\\\ \\vdots \\\\ 1 & x_{N-1} & x_{N-1}^2 & \\dots & x_{N-1}^K  \n",
    "\\end{array}\n",
    "\\right) \n",
    "\\left(\n",
    "\\begin{array}{c}\n",
    " w_0 \\\\ w_1  \\\\ w_2 \\\\ \\vdots \\\\ w_K\n",
    "\\end{array}\n",
    "\\right)\n",
    "\\end{eqnarray}\n",
    "\n",
    "The model is identical\n",
    "\n",
    "\\begin{eqnarray}\n",
    "y \\approx A w\n",
    "\\end{eqnarray}\n",
    "\n",
    "> $A = A(x)$: Design Matrix\n",
    "\n",
    "> $w$: Model Parameters\n",
    "\n",
    "> $y$: Observations\n",
    "\n",
    "Design matrices for polynomial fitting are also known as __Vandermonde__ matrices."
   ]
  },
  {
   "cell_type": "code",
   "execution_count": 84,
   "metadata": {
    "scrolled": true
   },
   "outputs": [
    {
     "data": {
      "image/png": "[encoded data removed]",
      "text/plain": [
       "<matplotlib.figure.Figure at 0x1124f8f60>"
      ]
     },
     "metadata": {},
     "output_type": "display_data"
    }
   ],
   "source": [
    "# Setup the vandermonde matrix\n",
    "N = len(x)\n",
    "degree = 11\n",
    "#A = np.hstack((np.power(x,0), np.power(x,1), np.power(x,2)))\n",
    "A = np.hstack((np.power(x,i) for i in range(degree+1)))\n",
    "xx = np.matrix(np.linspace(np.asscalar(x[0])-10,np.asscalar(x[-1])+10,30)).T\n",
    "A2 = np.hstack((np.power(xx,i) for i in range(degree+1)))\n",
    "\n",
    "#plt.imshow(A, interpolation='nearest')\n",
    "# Solve the least squares problem\n",
    "w_ls,E,rank,sigma = np.linalg.lstsq(A, y)\n",
    "\n",
    "f = A2*w_ls\n",
    "plt.plot(x+BaseYear, y, 'o-')\n",
    "plt.plot(xx+BaseYear, f, 'r')\n",
    "\n",
    "plt.xlabel('Years')\n",
    "plt.ylabel('Number of Cars')\n",
    "\n",
    "plt.gca().set_ylim((-2,12))\n",
    "plt.gca().set_xlim((1950,2025))\n",
    "\n",
    "plt.show()\n"
   ]
  },
  {
   "cell_type": "code",
   "execution_count": 77,
   "metadata": {
    "scrolled": false
   },
   "outputs": [
    {
     "data": {
      "image/png": "[encoded data removed]",
      "text/plain": [
       "<matplotlib.figure.Figure at 0x1197bcdd8>"
      ]
     },
     "metadata": {},
     "output_type": "display_data"
    }
   ],
   "source": [
    "N = len(x)\n",
    "x = np.array([10, 8, 13, 9, 11, 14, 6, 4, 12, 7, 5]).reshape((N,1))\n",
    "y = np.array([8.04, 6.95, 7.58, 8.81, 8.33, 9.96, 7.24, 4.26, 10.84, 4.82, 5.68]).reshape((N,1))\n",
    "#y = np.array([9.14, 8.14, 8.74, 8.77, 9.26, 8.10, 6.13, 3.10, 9.13, 7.26, 4.74]).reshape((N,1))\n",
    "#y = np.array([7.46, 6.77, 12.74, 7.11, 7.81, 8.84, 6.08, 5.39, 8.15, 6.42, 5.73]).reshape((N,1))\n",
    "\n",
    "def fit_and_plot_poly(degree):\n",
    "\n",
    "    #A = np.hstack((np.power(x,0), np.power(x,1), np.power(x,2)))\n",
    "    A = np.hstack((np.power(x,i) for i in range(degree+1)))\n",
    "    # Setup the vandermonde matrix\n",
    "    xx = np.matrix(np.linspace(np.asscalar(min(x))-1,np.asscalar(max(x))+1,300)).T\n",
    "    A2 = np.hstack((np.power(xx,i) for i in range(degree+1)))\n",
    "\n",
    "    #plt.imshow(A, interpolation='nearest')\n",
    "    # Solve the least squares problem\n",
    "    w_ls,E,rank,sigma = np.linalg.lstsq(A, y)\n",
    "    f = A2*w_ls\n",
    "    plt.plot(x, y, 'o')\n",
    "    plt.plot(xx, f, 'r')\n",
    "\n",
    "    plt.xlabel('x')\n",
    "    plt.ylabel('y')\n",
    "\n",
    "    plt.gca().set_ylim((0,20))\n",
    "    #plt.gca().set_xlim((1950,2025))\n",
    "    plt.title(E)\n",
    "    plt.show()\n",
    "\n",
    "fit_and_plot_poly(9)"
   ]
  },
  {
   "cell_type": "code",
   "execution_count": 78,
   "metadata": {},
   "outputs": [
    {
     "data": {
      "application/vnd.jupyter.widget-view+json": {
       "model_id": "ad142de20d0845ab95b4f2b77cdebaab",
       "version_major": 2,
       "version_minor": 0
      },
      "text/html": [
       "<p>Failed to display Jupyter Widget of type <code>interactive</code>.</p>\n",
       "<p>\n",
       "  If you're reading this message in Jupyter Notebook or JupyterLab, it may mean\n",
       "  that the widgets JavaScript is still loading. If this message persists, it\n",
       "  likely means that the widgets JavaScript library is either not installed or\n",
       "  not enabled. See the <a href=\"https://ipywidgets.readthedocs.io/en/stable/user_install.html\">Jupyter\n",
       "  Widgets Documentation</a> for setup instructions.\n",
       "</p>\n",
       "<p>\n",
       "  If you're reading this message in another notebook frontend (for example, a static\n",
       "  rendering on GitHub or <a href=\"https://nbviewer.jupyter.org/\">NBViewer</a>),\n",
       "  it may mean that your frontend doesn't currently support widgets.\n",
       "</p>\n"
      ],
      "text/plain": [
       "interactive(children=(IntSlider(value=6, description='degree', max=12), Output()), _dom_classes=('widget-interact',))"
      ]
     },
     "metadata": {},
     "output_type": "display_data"
    },
    {
     "data": {
      "text/plain": [
       "<function __main__.fit_and_plot_poly>"
      ]
     },
     "execution_count": 78,
     "metadata": {},
     "output_type": "execute_result"
    }
   ],
   "source": [
    "interact(fit_and_plot_poly, degree=(0,12))"
   ]
  },
  {
   "cell_type": "markdown",
   "metadata": {},
   "source": [
    "# Beyond polynomial fitting\n",
    "\n",
    "We can fit other functions than polynomials. For example, if data are known to be near periodic with period $T$, one possibility is fitting a sinusoidal as:\n",
    "\n",
    "\\begin{eqnarray}\n",
    "y_k & = & a_0 \\cos(2\\pi x_k /T ) + b_0 \\sin(2\\pi x_k /T ) \n",
    "\\end{eqnarray}\n",
    "\n",
    "Then the Vandermonde matrix will have the entries\n",
    "\n",
    "\\begin{eqnarray}\n",
    "\\left(\n",
    "\\begin{array}{c}\n",
    "y_0 \\\\ y_1 \\\\ \\vdots \\\\ y_{N-1} \n",
    "\\end{array}\n",
    "\\right)\n",
    "\\approx\n",
    "\\left(\n",
    "\\begin{array}{ccc}\n",
    "1 & x_0 & x_0^2 \\\\ 1 & \\cos(\\omega x_1) & \\sin(x_1^2 \\\\ \\vdots \\\\ 1 & x_{N-1} & x_{N-1}^2   \n",
    "\\end{array}\n",
    "\\right) \n",
    "\\left(\n",
    "\\begin{array}{c}\n",
    " w_0 \\\\ w_1  \\\\ w_2\n",
    "\\end{array}\n",
    "\\right)\n",
    "\\end{eqnarray}\n",
    "\n",
    "\n",
    "## Basis Regression\n",
    "\n",
    "\n",
    "\n",
    "\n",
    "## Autoregressive (AR) Models \n",
    "\n",
    "Idea: Use past values of a time series as inputs. \n",
    "\\begin{eqnarray}\n",
    "y_k & = & w_1 y_{k-1} + w_2 y_{k-2} + w_3 y_{k-3} + \\dots + w_L y_{k-L} + \\epsilon_k\n",
    "\\end{eqnarray}\n",
    "\n",
    "The design matrix consists of past values of the process. Such a design matrix is also known as a Toeplitz matrix.\n",
    "\\begin{eqnarray}\n",
    "\\left(\n",
    "\\begin{array}{c}\n",
    "y_L \\\\\n",
    "\\vdots \\\\\n",
    "y_k \\\\ y_{k+1} \\\\ \\vdots \\\\ y_{N} \n",
    "\\end{array}\n",
    "\\right)\n",
    "\\approx\n",
    "\\left(\n",
    "\\begin{array}{ccccc}\n",
    "y_{L-1} & y_{L-2} & y_{L-3} & \\dots & y_{0}\\\\\n",
    "\\vdots \\\\\n",
    "y_{k-1} & y_{k-2} & y_{k-3} & \\dots & y_{k-L} \\\\ y_{k} & y_{k-1} & y_{k-2} & \\dots & y_{k-L+1} \\\\ \\vdots \\\\ \n",
    "y_{N-1} & y_{N-2} & y_{N-3} & \\dots & y_{N-L}  \n",
    "\\end{array}\n",
    "\\right) \n",
    "\\left(\n",
    "\\begin{array}{c}\n",
    " w_1  \\\\ w_2 \\\\ w_3 \\\\ \\vdots \\\\ w_L\n",
    "\\end{array}\n",
    "\\right)\n",
    "\\end{eqnarray}\n"
   ]
  },
  {
   "cell_type": "code",
   "execution_count": null,
   "metadata": {
    "collapsed": true
   },
   "outputs": [],
   "source": [
    "import scipy as sc\n",
    "import scipy.linalg as la\n",
    "\n",
    "# Order\n",
    "L = 1\n",
    "\n",
    "BaseYear = 1995\n",
    "x = np.matrix(df_arac.Year[0:]).T-BaseYear\n",
    "y = np.matrix(df_arac.Car[0:]).T/1000000.\n",
    "\n",
    "\n",
    "def AR_model(y,L):\n",
    "    N = len(y) - L\n",
    "    A = np.hstack((np.matrix(y[L-i:L-i+N]) for i in range(1,L+1) ))\n",
    "    yy = np.matrix(y[L:(L+N+1)])\n",
    "    return A, yy\n",
    "   \n",
    "def make_AR_model(y, L):\n",
    "    B = la.toeplitz(y[:-1], y[0:L])\n",
    "    AA = B[L-1:,:]\n",
    "    yy = y[L:]\n",
    "    return AA, yy\n",
    "\n",
    "A,yy = AR_model(y, L)\n",
    "#plt.imshow(A, interpolation='nearest')\n",
    "# Solve the least squares problem\n",
    "w_ls,E,rank,sigma = np.linalg.lstsq(A, yy)\n",
    "\n",
    "f = A*w_ls\n",
    "\n",
    "#plt.figure(figsize=(14,8))\n",
    "plt.plot(x[L:]+BaseYear, yy, 'o-r')\n",
    "plt.plot(x[L:]+BaseYear, f, '+b')\n",
    "\n",
    "plt.gca().set_ylim((-2,12))\n",
    "plt.gca().set_xlim((1950,2025))\n",
    "\n",
    "plt.show()"
   ]
  },
  {
   "cell_type": "code",
   "execution_count": null,
   "metadata": {
    "collapsed": true
   },
   "outputs": [],
   "source": [
    "y = np.mat([1,2,3,4,5,6,7]).T\n",
    "\n",
    "L = 2\n",
    "A, yy = AR_model(y,L)\n",
    "print('Order',L)\n",
    "print(A)\n",
    "print(yy)\n",
    "\n"
   ]
  },
  {
   "cell_type": "code",
   "execution_count": null,
   "metadata": {
    "collapsed": true
   },
   "outputs": [],
   "source": [
    "%matplotlib inline\n",
    "#from cvxpy import *\n",
    "import cvxpy as cvx\n",
    "import numpy as np\n",
    "import matplotlib as mpl\n",
    "import matplotlib.pylab as plt\n",
    "\n",
    "np.set_printoptions(precision=3)\n",
    "\n",
    "x = np.matrix('[0,1,2,3,4,5]').T\n",
    "xx = np.matrix(np.arange(-1,6,0.1)).T\n",
    "y = np.matrix('[2,4,6,-1,10,12]').T\n",
    "N = len(x)\n",
    "degree = 3\n",
    "#A = np.hstack((np.power(x,0), np.power(x,1), np.power(x,2)))\n",
    "A = np.hstack((np.power(x,i) for i in range(degree+1)))\n",
    "A2 = np.hstack((np.power(xx,i) for i in range(degree+1)))\n",
    "\n",
    "\n",
    "# Construct the problem.\n",
    "w = cvx.Variable(degree+1)\n",
    "objective = cvx.Minimize(cvx.norm(A*w - y, 1.1))\n",
    "#constraints = [0 <= x, x <= 10]\n",
    "#prob = Problem(objective, constraints)\n",
    "prob = cvx.Problem(objective)\n",
    "\n",
    "# The optimal objective is returned by prob.solve().\n",
    "result = prob.solve()\n",
    "# The optimal value for x is stored in x.value.\n",
    "print(w.value)\n",
    "# The optimal Lagrange multiplier for a constraint\n",
    "# is stored in constraint.dual_value.\n",
    "#print(constraints[0].dual_value)\n",
    "\n",
    "plt.plot(x.T.tolist(), y.T.tolist(), 'o')\n",
    "plt.plot(xx, A2*w.value, '-')\n",
    "plt.show()"
   ]
  }
 ],
 "metadata": {
  "kernelspec": {
   "display_name": "Python [default]",
   "language": "python",
   "name": "python3"
  },
  "language_info": {
   "codemirror_mode": {
    "name": "ipython",
    "version": 3
   },
   "file_extension": ".py",
   "mimetype": "text/x-python",
   "name": "python",
   "nbconvert_exporter": "python",
   "pygments_lexer": "ipython3",
   "version": "3.6.1"
  }
 },
 "nbformat": 4,
 "nbformat_minor": 1
}
