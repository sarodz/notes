{
 "cells": [
  {
   "cell_type": "markdown",
   "metadata": {
    "deletable": true,
    "editable": true
   },
   "source": [
    "Matrix Factorization with Gradient Descent"
   ]
  },
  {
   "cell_type": "markdown",
   "metadata": {
    "deletable": true,
    "editable": true
   },
   "source": [
    "\\begin{eqnarray}\n",
    "E(W, H) = \\frac{1}{2} \\sum_i \\sum_j M(i,j)(X(i,j) - \\sum_k W(i,k)H(k,j))^2\n",
    "\\end{eqnarray}\n",
    "\n",
    "\\begin{eqnarray}\n",
    "\\frac{\\partial E(W, H)}{\\partial W_{i,k}} = -\\sum_j M(i,j)(X(i,j) - \\sum_{k'} W(i,k')H(k',j)) H(k,j)\n",
    "\\end{eqnarray}\n",
    "\n",
    "\\begin{eqnarray}\n",
    "\\frac{\\partial E(W, H)}{\\partial H_{k,j}} = -\\sum_i M(i,j)(X(i,j) - \\sum_{k'} W(i,k')H(k',j)) W(i,k)\n",
    "\\end{eqnarray}\n",
    "\n"
   ]
  },
  {
   "cell_type": "markdown",
   "metadata": {
    "deletable": true,
    "editable": true
   },
   "source": [
    "$X$ : Observed Matrix\n",
    "\n",
    "$M$ : Mask Matrix (1 if observed, 0 otherwise)\n",
    "\n",
    "\\begin{eqnarray}\n",
    "E(W, H) = \\frac{1}{2} \\trace (X - WH)^\\top (X - WH) \n",
    "\\end{eqnarray}\n",
    "\n",
    "With missing values\n",
    "\\begin{eqnarray}\n",
    "E(W, H) = \\frac{1}{2} \\trace (M\\odot (X - WH))^\\top (M\\odot (X - WH) )\n",
    "\\end{eqnarray}\n",
    "\n",
    "Partial derivatives\n",
    "\\begin{eqnarray}\n",
    "\\frac{\\partial E(W, H)}{\\partial W} = -(M\\odot(X - WH))H^\\top \n",
    "\\end{eqnarray}\n",
    "\n",
    "\\begin{eqnarray}\n",
    "\\frac{\\partial E(W, H)}{\\partial H} = -W^\\top(M\\odot(X - WH))\n",
    "\\end{eqnarray}\n"
   ]
  },
  {
   "cell_type": "code",
   "execution_count": 38,
   "metadata": {
    "collapsed": false,
    "deletable": true,
    "editable": true,
    "scrolled": false
   },
   "outputs": [
    {
     "name": "stdout",
     "output_type": "stream",
     "text": [
      "15.5433574727\n",
      "0.144460324362\n",
      "0.066000337106\n",
      "0.0162170243943\n",
      "0.00351737107294\n",
      "0.000882449877086\n",
      "0.00026651221715\n",
      "0.000107296384607\n",
      "6.36062268146e-05\n",
      "5.12115729416e-05\n",
      "4.76321051747e-05\n",
      "4.65886544253e-05\n",
      "4.6282974486e-05\n",
      "4.61931910642e-05\n",
      "4.61667833726e-05\n",
      "4.61590103597e-05\n",
      "4.61567214783e-05\n",
      "4.61560473359e-05\n",
      "4.61558487578e-05\n",
      "4.61557902601e-05\n"
     ]
    },
    {
     "data": {
      "image/png": "[encoded data removed]",
      "text/plain": [
       "<matplotlib.figure.Figure at 0x10c78bac8>"
      ]
     },
     "metadata": {},
     "output_type": "display_data"
    },
    {
     "data": {
      "image/png": "[encoded data removed]",
      "text/plain": [
       "<matplotlib.figure.Figure at 0x1110204e0>"
      ]
     },
     "metadata": {},
     "output_type": "display_data"
    },
    {
     "data": {
      "image/png": "[encoded data removed]",
      "text/plain": [
       "<matplotlib.figure.Figure at 0x111020a20>"
      ]
     },
     "metadata": {},
     "output_type": "display_data"
    },
    {
     "data": {
      "image/png": "[encoded data removed]",
      "text/plain": [
       "<matplotlib.figure.Figure at 0x10fb886d8>"
      ]
     },
     "metadata": {},
     "output_type": "display_data"
    }
   ],
   "source": [
    "%matplotlib inline\n",
    "\n",
    "import matplotlib as mpl\n",
    "import matplotlib.pyplot as plt\n",
    "import numpy as np\n",
    "\n",
    "M = 5\n",
    "N = 6\n",
    "K = 2 \n",
    "\n",
    "W_true = np.random.randn(M,K)\n",
    "H_true = np.random.randn(K,N)\n",
    "\n",
    "X = W_true.dot(H_true)\n",
    "X = X+0.05*np.random.randn(M,N)\n",
    "\n",
    "p_on = 0.6\n",
    "Mask = (np.random.rand(M,N)<p_on)\n",
    "\n",
    "\n",
    "\n",
    "W = np.random.randn(M,K)\n",
    "H = np.random.randn(K,N)\n",
    "\n",
    "EPOCH = 2000\n",
    "\n",
    "eta = 0.05\n",
    "\n",
    "for i in range(EPOCH):\n",
    "    dW = -(Mask*(X-W.dot(H))).dot(H.T)\n",
    "    W = W - eta*dW\n",
    "    dH = -W.T.dot((Mask*(X-W.dot(H))))\n",
    "    H = H - eta*dH\n",
    "\n",
    "    if (i%100 == 0):\n",
    "        print(0.5*np.sum((Mask*(X-W.dot(H)))**2))\n",
    "\n",
    "\n",
    "plt.imshow(Mask, interpolation='nearest',cmap=plt.cm.gray_r)\n",
    "plt.title('Mask')\n",
    "plt.show()\n",
    "\n",
    "MX = X.copy()\n",
    "MX[Mask==0] = np.nan\n",
    "\n",
    "plt.imshow(MX, interpolation='nearest')\n",
    "plt.title('Observed Data')\n",
    "plt.show()\n",
    "plt.imshow(W.dot(H), interpolation='nearest')\n",
    "plt.title('Approximation')\n",
    "plt.show()\n",
    "plt.imshow(X, interpolation='nearest')\n",
    "plt.title('True')\n",
    "plt.show()\n",
    "\n"
   ]
  },
  {
   "cell_type": "code",
   "execution_count": 66,
   "metadata": {
    "collapsed": false,
    "scrolled": true
   },
   "outputs": [
    {
     "name": "stdout",
     "output_type": "stream",
     "text": [
      "[0,0,-1.064],\n",
      "[0,1,-0.904],\n",
      "[0,5,0.532],\n",
      "[1,0,1.192],\n",
      "[1,2,0.010],\n",
      "[1,3,0.340],\n",
      "[2,0,4.417],\n",
      "[2,1,2.141],\n",
      "[2,2,-0.260],\n",
      "[2,3,1.039],\n",
      "[2,4,1.633],\n",
      "[2,5,0.031],\n",
      "[3,1,1.811],\n",
      "[3,3,0.619],\n",
      "[3,4,0.386],\n",
      "[3,5,0.577],\n",
      "[4,1,-1.467],\n",
      "[4,2,1.323],\n",
      "[4,4,0.516],\n",
      "[4,5,-0.949],\n",
      "---\n",
      "[0,2, -0.57],\n",
      "[0,3, -0.68],\n",
      "[0,4, -1.47],\n",
      "[1,1, 0.62],\n",
      "[1,4, 0.41],\n",
      "[1,5, -0.01],\n",
      "[3,0, 4.61],\n",
      "[3,2, -0.95],\n",
      "[4,0, -4.06],\n",
      "[4,3, -0.25],\n"
     ]
    }
   ],
   "source": [
    "import scipy.sparse as sp\n",
    "\n",
    "m = sp.coo.coo_matrix(Mask)\n",
    "\n",
    "I,J = m.nonzero()\n",
    "\n",
    "for i,j in zip(I,J):\n",
    "    print('[%d,%d,%2.3f],' % (i, j, X[i,j]))\n",
    "    \n",
    "print('---')\n",
    "m2 = sp.coo.coo_matrix(1-Mask)\n",
    "\n",
    "I,J = m2.nonzero()\n",
    "\n",
    "for i,j in zip(I,J):\n",
    "    print('[%d,%d, %2.2f],' % (i, j, X[i,j]))"
   ]
  },
  {
   "cell_type": "code",
   "execution_count": null,
   "metadata": {
    "collapsed": true
   },
   "outputs": [],
   "source": []
  }
 ],
 "metadata": {
  "kernelspec": {
   "display_name": "Python 3",
   "language": "python",
   "name": "python3"
  },
  "language_info": {
   "codemirror_mode": {
    "name": "ipython",
    "version": 3
   },
   "file_extension": ".py",
   "mimetype": "text/x-python",
   "name": "python",
   "nbconvert_exporter": "python",
   "pygments_lexer": "ipython3",
   "version": "3.5.2"
  }
 },
 "nbformat": 4,
 "nbformat_minor": 0
}
