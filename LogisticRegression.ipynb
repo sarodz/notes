{
 "cells": [
  {
   "cell_type": "markdown",
   "metadata": {
    "deletable": true,
    "editable": true
   },
   "source": [
    "# Logistic Regression\n",
    "\n",
    "\n",
    "We are given a dataset, such as the one below:\n",
    "\n",
    "| Class| Feature1 | Feature2  |\n",
    "|---| |---|\n",
    "| 0 |5.7| 3.1|\n",
    "| 1|-0.3|2 |\n",
    "|---| |---|\n",
    "|  $y_i$| $x_{i,1}$ | $x_{i,2}$ |\n",
    "|---| |---|\n",
    "| 1|0.4|5 |\n",
    "\n",
    "The goal is learning to predict the labels of a future dataset, where we are given only the  features but not the labels:\n",
    "\n",
    "| Class| Feature1 | Feature2  |\n",
    "|---| |---|\n",
    "| ? |4.8| 3.2|\n",
    "| ? |-0.7|2.4 |\n",
    "|---| |---|\n",
    "\n",
    "More formally, the dataset consists of $N$ feature vectors $x_i$ and the associated labels $y_i$ for each example $i=1\\dots N$. The labels $y$ are referred also as the class label -- but in reality labels could be any answer to a true-false question, such as 'is object $i$ a flower?' or 'will customer $i$ buy product $j$ in the next month?'. We can arrange the features in a matrix $X$ and the labels in a vector $y$:\n",
    "\n",
    "\\begin{eqnarray}\n",
    "X & = &  \\begin{pmatrix}\n",
    "  x_{1,1} & x_{1,2} & \\dots & x_{1,D} \\\\\n",
    "  x_{2,1} & x_{2,2} & \\dots & x_{2,D} \\\\\n",
    "  \\vdots & \\vdots & \\vdots & \\vdots  \\\\\n",
    "  x_{i,1} & x_{i,2} & \\dots & x_{i,D}  \\\\\n",
    "  \\vdots & \\vdots & \\vdots & \\vdots  \\\\\n",
    "  x_{N,1} & x_{N,2} & \\dots & x_{N,D} \\\\\n",
    "\\end{pmatrix} = \n",
    "\\begin{pmatrix}\n",
    "x_1^\\top \\\\\n",
    "x_2^\\top \\\\\n",
    "\\dots \\\\\n",
    "x_i^\\top \\\\\n",
    "\\dots \\\\\n",
    "x_N^\\top\n",
    "\\end{pmatrix} \n",
    "\\\\\n",
    "{y} & = & \\begin{pmatrix}\n",
    "y_1 \\\\\n",
    "y_2 \\\\\n",
    "\\vdots \\\\\n",
    "y_i \\\\\n",
    "\\vdots \\\\\n",
    "y_N\n",
    "\\end{pmatrix}\n",
    "\\end{eqnarray}\n",
    "where $x_{i,j}$ denotes the $j$'th feature of the $i$'th data point. It is customary, to set a column entirely to $1$'s, for example we take $x_{i,D}=1$ for all $i$. This 'feature' is artificially added to the dataset to allow a slightly more flexible model. \n",
    "\n",
    "Logistic Regression is a method that can be used to solve this binary classification problem. \n",
    "In logistic regression, we consider the case of binary classification where $y_i \\in \\{0,1\\}$. It is possible to use other encodings such as $y_i \\in \\{-1,1\\}$; the derivations are similar.\n",
    "\n",
    "The key idea is learning a mapping from a feature vector $x$ to a probability, a number between $0$ and $1$. \n",
    "\n",
    "The model is \n",
    "$$\n",
    "\\Pr\\{y_i = 1\\} = \\sigma(x_i^\\top w)\n",
    "$$\n",
    "Here,\n",
    "$\\sigma(x)$ is the sigmoid function defined as\n",
    "\\begin{eqnarray}\n",
    "\\sigma(x) & = & \\frac{1}{1+e^{-x}}\n",
    "\\end{eqnarray}\n",
    "\n",
    "This is a generative model. To understand logistic regression as a generative model, consider the following metaphor: assume that for each data instance $x_i$, we select a biased coin with probability $p(y_i = 1| w, x^\\top_i) = \\pi_i = \\sigma(x_i^\\top w)$, throw the coin and label the data item with class $y_i$ accordingly. \n",
    "\n",
    "Mathematically, we assume that each label $y_i$, or more precisely the answer to our yes-no question rearding the object $i$ with feature vector $w$ is drawn from a Bernoulli distribution. That is: \n",
    "\\begin{eqnarray}\n",
    "\\pi_i & = & \\sigma(x_i^\\top w) \\\\\n",
    "y_i & \\sim &\\mathcal{BE}(\\pi)\n",
    "\\end{eqnarray}\n",
    "\n",
    "Here, we think of a biased coin with two sides denoted as $H$ (head) and $T$ (tail) with probability of side $H$ as $\\pi$, and consequently the probability of side $T$ with $1-\\pi$. \n",
    "\n",
    "We denote the outcome of the coin toss with the random variable $y \\in \\{0, 1\\}$. \n",
    "\n",
    "For each throw $i$, $y_i$ is the answer to the question 'Is the outcome heads?'. We write the probability as $p(y = 1) = \\pi$ and probability of tails is $p(y = 0) = 1-\\pi$. More compactly, the probability of the outcome of a toss, provided we know $\\pi$, is written as\n",
    "\\begin{eqnarray}\n",
    "p(y|\\pi) = \\pi^y(1-\\pi)^{1-y}\n",
    "\\end{eqnarray}"
   ]
  },
  {
   "cell_type": "code",
   "execution_count": 55,
   "metadata": {
    "collapsed": false,
    "deletable": true,
    "editable": true,
    "scrolled": true
   },
   "outputs": [],
   "source": [
    "%matplotlib inline\n",
    "import numpy as np\n",
    "import matplotlib as mpl\n",
    "import matplotlib.pylab as plt\n"
   ]
  },
  {
   "cell_type": "markdown",
   "metadata": {
    "deletable": true,
    "editable": true
   },
   "source": [
    "### Maximum Likelihood\n",
    "\n",
    "Maximum likelihood (ML) is a method for choosing the unknown parameters of a probability distribution, given some data that is assumed to be drawn from this distribution. The distribution itself is referred as the probability model, or often just the model.\n",
    "\n",
    "#### Example\n",
    "Suppose we are given only $5$ outcomes when a coin is thrown:\n",
    "$$\n",
    "H, T, H, T, T\n",
    "$$\n",
    "\n",
    "What is the probabilty that the outcome is, say heads $H$ if we know that the coin is biased ?.\n",
    "\n",
    "One reasonable answer may be the frequency of heads, $2/5$.\n",
    "\n",
    "The ML solution coincides with this answer. For a derivation, \n",
    "we define $y_i$ for $i = 1,2,\\dots, 5$ as\n",
    "\n",
    "$$\n",
    "y_i  = \\left\\{ \\begin{array}{cc} 1 & \\text{coin $i$ is H} \\\\ 0 & \\text{coin $i$ is T}  \\end{array} \\right. \n",
    "$$\n",
    "hence \n",
    "$$\n",
    "y = [1,0,1,0,0]^\\top\n",
    "$$\n",
    "\n",
    "If we assume that the outcomes were independent, the probability of observing the above sequence as a function of the parameter $\\pi$ is the product of each individual probability\n",
    "$$\n",
    "\\Pr\\{y = [1,0,1,0,0]^\\top\\} = \\pi \\cdot (1-\\pi) \\cdot \\pi \\cdot (1-\\pi) \\cdot(1-\\pi) \n",
    "$$\n",
    "\n",
    "We could try finding the $\\pi$ value that maximizes this function. We will call the corresponding value as the maximum likelhood solution, and denote it as $\\pi^*$. \n",
    "\n",
    "It is often more convenient to work with the logarithm of this function, known as the loglikelihood function.\n",
    "\n",
    "$$\n",
    "\\mathcal{L}(\\pi) = 2 \\log \\pi + 3 \\log (1-\\pi)\n",
    "$$\n",
    "For finding the maximum, we take the derivative with respect to $\\pi$ and set to zero.\n",
    "$$\n",
    "\\frac{d \\mathcal{L}(\\pi)}{d \\pi} = \\frac{2}{\\pi^*} -  \\frac{3}{1-\\pi^*} = 0 \n",
    "$$\n",
    "When we solve we obtain $$ \\pi^* = \\frac{2}{5} $$"
   ]
  },
  {
   "cell_type": "markdown",
   "metadata": {
    "deletable": true,
    "editable": true
   },
   "source": [
    "More generally, when we observe $y_i$ for $i=1 \\dots N$, the loglikelihood is\n",
    "\n",
    "\\begin{eqnarray}\n",
    "\\mathcal{L}(\\pi)& = & \\log \\left(\\prod_{i : y_i=1} \\pi \\right) \\left(\\prod_{i : y_i=0}(1- \\pi) \\right) \\\\\n",
    "& = & \\log \\prod_{i = 1}^N \\pi^{y_i} (1- \\pi)^{1-y_i} \\\\\n",
    "& = & \\log  \\pi^{ \\sum_i y_i} (1- \\pi)^{\\sum_i (1-y_i) } \\\\\n",
    "& = & \\left(\\sum_i y_i\\right) \\log \\pi + \\left(\\sum_i (1-y_i) \\right) \\log (1- \\pi) \n",
    "\\end{eqnarray}\n",
    "\n",
    "If we define the number of observed $0$'s and $1$'s by $c_0$ and $c_1$ respectively, we have \n",
    "\n",
    "\\begin{eqnarray}\n",
    "\\mathcal{L}(\\pi)& = & c_1 \\log \\pi + c_0 \\log (1- \\pi) \n",
    "\\end{eqnarray}\n",
    "\n",
    "Taking the derivative and setting to $0$ results in\n",
    "\n",
    "$$\n",
    "\\pi^* = \\frac{c_1}{c_0+c_1} = \\frac{c_1}{N} \n",
    "$$\n",
    "\n"
   ]
  },
  {
   "cell_type": "markdown",
   "metadata": {
    "deletable": true,
    "editable": true
   },
   "source": [
    "### Logistic Regression: Learning the parameters\n",
    "\n",
    "The logistic regression model is very similar to the coin model. The main difference is that we use a specific coin with a probability $\\sigma(x_i^\\top w)$ that depends on the specific feature vector and the global parameter vector $w$.  \n",
    "The likelihood of the observations, that is the probability of observing the class sequence is\n",
    "\n",
    "$\\begin{eqnarray}\n",
    "p(y_1, y_2, \\dots, y_N|w, X ) &=& \\left(\\prod_{i : y_i=1} \\sigma(x_i^\\top w) \\right) \\left(\\prod_{i : y_i=0}(1- \\sigma(x_i^\\top w)) \\right)\n",
    "\\end{eqnarray}\n",
    "$\n",
    "\n",
    "Here, the left product is the expression for examples from class $1$ and the right product is for examples from class $0$.\n",
    "We will look for the particular setting of the weight vector, the maximum likelihood solution, denoted by $w^*$.\n",
    "\n",
    "$\n",
    "\\begin{eqnarray}\n",
    "w^* & = & \\arg\\max_{w} {\\cal L}(w)\n",
    "\\end{eqnarray}\n",
    "$\n",
    "\n",
    "where the loglikelihood function\n",
    "\n",
    "$\n",
    "\\begin{eqnarray}\n",
    "{\\cal L}(w) & = & \\log p(y_1, y_2, \\dots, y_N|w, x_1, x_2, \\dots, x_N ) \\\\\n",
    "& = & \\sum_{i : y_i=1} \\log \\sigma(x_i^\\top w) + \\sum_{i : y_i=0} \\log (1- \\sigma(x_i^\\top w)) \\\\\n",
    "& = & \\sum_{i : y_i=1} x_i^\\top w - \\sum_{i : y_i=1} \\log(1+e^{x_i^\\top w}) - \\sum_{i : y_i=0}\\log({1+e^{x_i^\\top w}}) \\\\\n",
    "& = & \\sum_i y_i x_i^\\top w - \\sum_{i} \\log(1+e^{x_i^\\top w}) \\\\\n",
    "& = & y^\\top X w - \\mathbf{1}^\\top \\text{logsumexp}(0, X w)\n",
    "\\end{eqnarray}\n",
    "$\n",
    "\n",
    "$\\mathbf{1}$ is a vector of ones; note that when we premultiply a vector $v$ by $\\mathbf{1}^T$ we get the sum of the entries of $v$, i.e. $\\mathbf{1}^T v = \\sum_i v_i$.\n",
    "\n",
    "We define the function $\\text{logsumexp}(a, b)$ as follows: When $a$ and $b$ are scalars, \n",
    "$$\n",
    "f = \\text{logsumexp}(a, b) \\equiv \\log(e^a + e^b)\n",
    "$$\n",
    "\n",
    "When $a$ and $b$ are vectors of the same size, $f$ is the same size as $a$ and $b$ where each entry of $f$ is\n",
    "$$\n",
    "f_i = \\text{logsumexp}(a_i, b_i) \\equiv \\log(e^{a_i} + e^{b_i})\n",
    "$$\n",
    "\n",
    "Unlike the least-squares problem, an expression for direct evaluation of $w^*$ is not known so we need to resort to numerical optimization. \n",
    "\n",
    "Before we proceed, it is informative to look at the shape of $f(x) = \\text{logsumexp}(0, x)$.\n",
    "When $x$ is negative and far smaller than zero, $f = 0$ and for large values of $x$, $f(x) = x$. Hence it looks like a so-called hinge function $h$\n",
    "$$\n",
    "h(x) = \\left\\{ \\begin{array}{cc} 0 & x < 0 \\\\x & x \\geq 0  \\end{array} \\right.\n",
    "$$\n",
    "\n",
    "We define\n",
    "$$\n",
    "f_\\alpha(x) = \\frac{1}{\\alpha}\\text{logsumexp}(0, \\alpha x)\n",
    "$$\n",
    "When $\\alpha = 1$, we have the original logsumexp function. For larger $\\alpha$, it becomes closer to the hinge loss."
   ]
  },
  {
   "cell_type": "code",
   "execution_count": 13,
   "metadata": {
    "collapsed": false,
    "deletable": true,
    "editable": true,
    "scrolled": false
   },
   "outputs": [
    {
     "data": {
      "image/png": "[encoded data removed]",
      "text/plain": [
       "<matplotlib.figure.Figure at 0x10c9afe50>"
      ]
     },
     "metadata": {},
     "output_type": "display_data"
    }
   ],
   "source": [
    "%matplotlib inline\n",
    "import numpy as np\n",
    "import matplotlib as mpl\n",
    "import matplotlib.pylab as plt\n",
    "\n",
    "def logsumexp(a,b):\n",
    "    m = np.max([a,b])\n",
    "    return m + np.log(np.exp(a-m) + np.exp(b-m))\n",
    "\n",
    "def hinge(x):\n",
    "    return x if x>0 else 0\n",
    "\n",
    "xx = np.arange(-5,3,0.1)\n",
    "\n",
    "plt.figure(figsize=(10,8))\n",
    "for i,alpha in enumerate([1,2,5,10]):\n",
    "    f = [logsumexp(0, alpha*z)/alpha for z in xx]\n",
    "    h = [hinge(z) for z in xx]\n",
    "    \n",
    "    plt.subplot(2,2,i+1)\n",
    "    plt.plot(xx, f, 'r')\n",
    "    plt.plot(xx, h, 'k:')\n",
    "    plt.xlabel('z')\n",
    "    #plt.title('a = '+ str(alpha))\n",
    "    if alpha==1:\n",
    "        plt.legend([ 'logsumexp(0,z)','hinge(z)' ], loc=2 )    \n",
    "    else:\n",
    "        plt.legend([ 'logsumexp(0,{a} z)/{a}'.format(a=alpha),'hinge(z)' ], loc=2 )\n",
    "\n",
    "    \n",
    "    \n",
    "plt.show()"
   ]
  },
  {
   "cell_type": "markdown",
   "metadata": {
    "deletable": true,
    "editable": true
   },
   "source": [
    "The resemblance of the logsumexp function to an hinge function provides a nice interpretation of the log likelihood. Consider the negative log likelihood written in terms of the contributions of each single item:\n",
    "\n",
    "$$\n",
    "- \\mathcal{L}(\\pi) = - \\sum_i l_i(w)\n",
    "$$\n",
    "$$\n",
    "-l_i(w) = - y_i x_i^\\top w + \\text{logsumexp}(0, x_i^\\top w) \n",
    "$$\n",
    "\n",
    "This function provides the 'error' made on a single item. Suppose, $y_i = 1$ and $z_i = x_i^\\top w$. When $z \\gg 0$, the item $i$ will be classified correctly and won't contribute to the total error. However, when $z \\ll 0$, the item will have a very low probability for being classified correctly. \n",
    "\n",
    "Below, we show the error for a range of outputs $z_i = x_i^\\top w$ when the target is $1$ or $0$. When the target is $y=1$, we penalize each negative output, if the target is $y =0$ positive outputs are penalized."
   ]
  },
  {
   "cell_type": "code",
   "execution_count": 15,
   "metadata": {
    "collapsed": false,
    "deletable": true,
    "editable": true
   },
   "outputs": [
    {
     "data": {
      "image/png": "[encoded data removed]",
      "text/plain": [
       "<matplotlib.figure.Figure at 0x110ffad50>"
      ]
     },
     "metadata": {},
     "output_type": "display_data"
    }
   ],
   "source": [
    "xx = np.arange(-10,10,0.1)\n",
    "y = 1\n",
    "f = [-y*z + logsumexp(0, z) for z in xx]\n",
    "f0 = [logsumexp(0, z) for z in xx]\n",
    "\n",
    "plt.figure(figsize=(7,3))\n",
    "plt.subplot(1,2,1)\n",
    "plt.plot(xx, f, 'r')\n",
    "plt.xlabel('z_i')\n",
    "plt.ylabel('-l_i')\n",
    "plt.title('y = '+str(y))\n",
    "plt.subplot(1,2,2)\n",
    "plt.plot(xx, f0, 'r')\n",
    "plt.xlabel('z_i')\n",
    "plt.ylabel('-l_i')\n",
    "plt.title('y = 0')\n",
    "\n",
    "plt.show()\n",
    "\n"
   ]
  },
  {
   "cell_type": "markdown",
   "metadata": {
    "deletable": true,
    "editable": true
   },
   "source": [
    "### Properties of the logsumexp function\n",
    "\n",
    "If \n",
    "$$\n",
    "f(z) = \\text{logsumexp}(0, z) = \\log(1 + \\exp(z))\n",
    "$$\n",
    "The derivative is\n",
    "$$\n",
    "\\frac{df(z)}{dz} = \\frac{\\exp(z)}{1 + \\exp(z)} = \\sigma(z)\n",
    "$$\n",
    "\n",
    "When $z$ is a vector, $f(z)$ is a vector. The derivative of\n",
    "$$\n",
    "\\sum_i f(z_i) = \\mathbf{1}^\\top f(z)\n",
    "$$\n",
    "\n",
    "$$\n",
    "\\frac{d \\mathbf{1}^\\top f(z)}{dz} = \\left(\\begin{array}{c} \\sigma(z_1) \\\\ \\vdots \\\\ \\sigma(z_N) \\end{array} \\right) \\equiv \\sigma(z)\n",
    "$$\n",
    "where the sigmoid function $\\sigma$ is applied elementwise to $z$.\n",
    "\n",
    "### Properties of the sigmoid function\n",
    "Note that\n",
    "\n",
    "\\begin{eqnarray}\n",
    "\\sigma(x) & = & \\frac{e^x}{(1+e^{-x})e^x} = \\frac{e^x}{1+e^{x}} \\\\\n",
    "1 - \\sigma(x) & = & 1 - \\frac{e^x}{1+e^{x}} = \\frac{1+e^{x} - e^x}{1+e^{x}} = \\frac{1}{1+e^{x}}\n",
    "\\end{eqnarray}\n",
    "\n",
    "\\begin{eqnarray}\n",
    "\\sigma'(x) & = & \\frac{e^x(1+e^{x}) - e^{x} e^x}{(1+e^{x})^2} = \\frac{e^x}{1+e^{x}}\\frac{1}{1+e^{x}} = \\sigma(x) (1-\\sigma(x))\n",
    "\\end{eqnarray}\n",
    "\n",
    "\\begin{eqnarray}\n",
    "\\log \\sigma(x) & = & -\\log(1+e^{-x}) = x - \\log(1+e^{x}) \\\\\n",
    "\\log(1 - \\sigma(x)) & = &  -\\log({1+e^{x}})\n",
    "\\end{eqnarray}\n",
    "\n",
    "\n",
    "\n",
    "\n",
    "Exercise: Plot the sigmoid function and its derivative."
   ]
  },
  {
   "cell_type": "markdown",
   "metadata": {
    "deletable": true,
    "editable": true
   },
   "source": [
    "### Optimization via gradient ascent\n",
    "\n",
    "One way for\n",
    "optimization is gradient ascent\n",
    "\\begin{eqnarray}\n",
    "w^{(\\tau)} & \\leftarrow & w^{(\\tau-1)} + \\eta \\nabla_w {\\cal L}\n",
    "\\end{eqnarray}\n",
    "where\n",
    "\\begin{eqnarray}\n",
    "\\nabla_w {\\cal L} & = &\n",
    "\\begin{pmatrix}\n",
    "{\\partial {\\cal L}}/{\\partial w_1} \\\\\n",
    "{\\partial {\\cal L}}/{\\partial w_2} \\\\\n",
    "\\vdots \\\\\n",
    "{\\partial {\\cal L}}/{\\partial w_{D}}\n",
    "\\end{pmatrix}\n",
    "\\end{eqnarray}\n",
    "is the gradient vector and $\\eta$ is a learning rate.\n",
    "\n",
    "#### Evaluating the gradient (Short Derivation)\n",
    "\n",
    "$$\n",
    "\\mathcal{L}(w) = y^\\top X w - \\mathbf{1}^\\top \\text{logsumexp}(0, X w)\n",
    "$$\n",
    "\n",
    "$$\n",
    "\\frac{d\\mathcal{L}(w)}{dw} = X^\\top y - X^\\top \\sigma(X w) = X^\\top (y -\\sigma(X w))\n",
    "$$\n",
    "\n",
    "#### Evaluating the gradient (Long Derivation)\n",
    "The partial derivative of the loglikelihood with respect to the $k$'th entry of the weight vector is given by the chain rule as\n",
    "\\begin{eqnarray}\n",
    "\\frac{\\partial{\\cal L}}{\\partial w_k} & = & \\frac{\\partial{\\cal L}}{\\partial \\sigma(u)} \\frac{\\partial \\sigma(u)}{\\partial u} \\frac{\\partial u}{\\partial w_k}\n",
    "\\end{eqnarray}\n",
    "\n",
    "\\begin{eqnarray}\n",
    "{\\cal L}(w) & = & \\sum_{i : y_i=1} \\log \\sigma(w^\\top x_i) + \\sum_{i : y_i=0} \\log (1- \\sigma(w^\\top x_i))\n",
    "\\end{eqnarray}\n",
    "\n",
    "\\begin{eqnarray}\n",
    "\\frac{\\partial{\\cal L}(\\sigma)}{\\partial \\sigma} & = &  \\sum_{i : y_i=1} \\frac{1}{\\sigma(w^\\top x_i)} - \\sum_{i : y_i=0} \\frac{1}{1- \\sigma(w^\\top x_i)}\n",
    "\\end{eqnarray}\n",
    "\n",
    "\\begin{eqnarray}\n",
    "\\frac{\\partial \\sigma(u)}{\\partial u} & = & \\sigma(w^\\top x_i) (1-\\sigma(w^\\top x_i))\n",
    "\\end{eqnarray}\n",
    "\n",
    "\\begin{eqnarray}\n",
    "\\frac{\\partial w^\\top x_i }{\\partial w_k} & = & x_{i,k}\n",
    "\\end{eqnarray}\n",
    "\n",
    "\n",
    "So the gradient is\n",
    "\\begin{eqnarray}\n",
    "\\frac{\\partial{\\cal L}}{\\partial w_k} & = & \\sum_{i : y_i=1} \\frac{\\sigma(w^\\top x_i) (1-\\sigma(w^\\top x_i))}{\\sigma(w^\\top x_i)} x_{i,k} - \\sum_{i : y_i=0} \\frac{\\sigma(w^\\top x_i) (1-\\sigma(w^\\top x_i))}{1- \\sigma(w^\\top x_i)} x_{i,k} \\\\\n",
    "& = & \\sum_{i : y_i=1} {(1-\\sigma(w^\\top x_i))} x_{i,k} - \\sum_{i : y_i=0} {\\sigma(w^\\top x_i)} x_{i,k}\n",
    "\\end{eqnarray}\n",
    "\n",
    "We can write this expression more compactly by noting\n",
    "\\begin{eqnarray}\n",
    "\\frac{\\partial{\\cal L}}{\\partial w_k} & = & \\sum_{i : y_i=1} {(\\underbrace{1}_{y_i}-\\sigma(w^\\top x_i))} x_{i,k} + \\sum_{i : y_i=0} {(\\underbrace{0}_{y_i} - \\sigma(w^\\top x_i))} x_{i,k} \\\\\n",
    "& = & \\sum_i (y_i - \\sigma(w^\\top x_i)) x_{i,k}\n",
    "\\end{eqnarray}\n",
    "\n",
    "$\\newcommand{\\diag}{\\text{diag}}$"
   ]
  },
  {
   "cell_type": "markdown",
   "metadata": {},
   "source": [
    "## Test on a synthetic problem"
   ]
  },
  {
   "cell_type": "code",
   "execution_count": 52,
   "metadata": {
    "collapsed": false,
    "deletable": true,
    "editable": true
   },
   "outputs": [],
   "source": [
    "# Generate a random logistic regression problem\n",
    "\n",
    "def sigmoid(t):\n",
    "    return np.exp(t)/(1+np.exp(t))\n",
    "\n",
    "D = 5\n",
    "N = 200\n",
    "\n",
    "# Some random features\n",
    "X = np.random.randn(N,D)\n",
    "\n",
    "# Generate a random paramater vector\n",
    "w_true = np.random.randn(D,1)\n",
    "\n",
    "# Generate class labels\n",
    "pi = sigmoid(np.dot(X, w_true))\n",
    "y = np.array([1 if u else 0 for u in np.random.rand(N,1) < pi]).reshape((N,1))\n"
   ]
  },
  {
   "cell_type": "code",
   "execution_count": 54,
   "metadata": {
    "collapsed": false,
    "deletable": true,
    "editable": true
   },
   "outputs": [
    {
     "name": "stdout",
     "output_type": "stream",
     "text": [
      "[[ 0.68718508 -0.31754304  1.04451198  0.66277452 -0.19947328]]\n",
      "[[ 0.2881562  -0.15953375  1.20861401  0.82852812 -0.59189013]]\n",
      "[[ 0.17144636 -0.10631167  1.3489411   0.89528856 -0.70905852]]\n",
      "[[ 0.13915046 -0.08828106  1.45090781  0.94908767 -0.77153529]]\n",
      "[[ 0.12997604 -0.08169147  1.52725657  0.9923993  -0.81336518]]\n",
      "[[ 0.12758863 -0.07908579  1.58619032  1.02680037 -0.84411426]]\n",
      "[[ 0.12727522 -0.07798488  1.63262341  1.05419509 -0.86779238]]\n",
      "[[ 0.12757778 -0.07749707  1.66973497  1.07617264 -0.88650497]]\n",
      "[[ 0.12802718 -0.07727662  1.699709    1.09394229 -0.90153064]]\n",
      "[[ 0.12847298 -0.07717978  1.7241112   1.10840922 -0.913724  ]]\n",
      "[[ 0.12887113 -0.07714276  1.74409986  1.12025557 -0.92369313]]\n",
      "[[ 0.1292134  -0.07713547  1.76055273  1.13000215 -0.93188904]]\n",
      "[[ 0.12950316 -0.07714292  1.77414764  1.13805221 -0.93865582]]\n",
      "[[ 0.12974693 -0.07715733  1.78541602  1.14472207 -0.94426136]]\n",
      "[[ 0.12995153 -0.07717454  1.7947796   1.15026262 -0.94891735]]\n",
      "[[ 0.1301231  -0.07719228  1.80257642  1.15487481 -0.95279297]]\n",
      "[[ 0.13026698 -0.07720936  1.80907963  1.15872085 -0.95602472]]\n",
      "[[ 0.13038765 -0.07722517  1.8145114   1.16193263 -0.95872344]]\n",
      "[[ 0.1304889  -0.07723944  1.81905351  1.16461791 -0.96097975]]\n",
      "[[ 0.13057388 -0.07725212  1.8228553   1.16686522 -0.96286803]]\n",
      "[[ 0.13064522 -0.07726325  1.82603995  1.16874752 -0.96444961]]\n",
      "[[ 0.13070513 -0.07727293  1.82870942  1.17032518 -0.9657752 ]]\n",
      "[[ 0.13075545 -0.0772813   1.83094829  1.17164824 -0.96688687]]\n",
      "[[ 0.13079773 -0.07728849  1.83282686  1.17275832 -0.96781958]]\n",
      "[[ 0.13083325 -0.07729465  1.83440375  1.17369008 -0.96860246]]\n",
      "[[ 0.13086311 -0.07729991  1.83572781  1.17447241 -0.96925978]]\n",
      "[[ 0.1308882  -0.07730438  1.83683989  1.17512947 -0.96981185]]\n",
      "[[ 0.13090929 -0.07730818  1.83777413  1.17568143 -0.97027562]]\n",
      "[[ 0.13092703 -0.07731141  1.83855913  1.17614521 -0.97066529]]\n",
      "[[ 0.13094194 -0.07731414  1.83921883  1.17653496 -0.97099275]]\n",
      "[[ 0.13095447 -0.07731645  1.83977331  1.17686253 -0.97126798]]\n",
      "[[ 0.13096501 -0.0773184   1.84023939  1.17713788 -0.97149933]]\n",
      "[[ 0.13097388 -0.07732005  1.84063122  1.17736935 -0.97169381]]\n",
      "[[ 0.13098133 -0.07732144  1.84096064  1.17756396 -0.97185732]]\n",
      "[[ 0.1309876  -0.07732262  1.84123761  1.17772758 -0.9719948 ]]\n",
      "[[ 0.13099287 -0.07732361  1.8414705   1.17786516 -0.97211039]]\n",
      "[[ 0.1309973  -0.07732444  1.84166633  1.17798085 -0.97220759]]\n",
      "[[ 0.13100103 -0.07732514  1.84183101  1.17807813 -0.97228933]]\n",
      "[[ 0.13100416 -0.07732573  1.8419695   1.17815994 -0.97235806]]\n",
      "[[ 0.1310068  -0.07732623  1.84208596  1.17822873 -0.97241586]]\n",
      "[[ 0.13100902 -0.07732665  1.8421839   1.17828659 -0.97246447]]\n",
      "[[ 0.13101088 -0.07732701  1.84226627  1.17833525 -0.97250536]]\n",
      "[[ 0.13101245 -0.0773273   1.84233554  1.17837617 -0.97253974]]\n",
      "[[ 0.13101377 -0.07732755  1.8423938   1.17841058 -0.97256865]]\n",
      "[[ 0.13101488 -0.07732776  1.8424428   1.17843953 -0.97259297]]\n",
      "[[ 0.13101581 -0.07732794  1.84248401  1.17846387 -0.97261343]]\n",
      "[[ 0.1310166  -0.07732809  1.84251867  1.17848435 -0.97263063]]\n",
      "[[ 0.13101726 -0.07732821  1.84254782  1.17850157 -0.9726451 ]]\n",
      "[[ 0.13101781 -0.07732832  1.84257234  1.17851605 -0.97265727]]\n",
      "[[ 0.13101828 -0.07732841  1.84259296  1.17852823 -0.9726675 ]]\n",
      "*\n",
      "[[-0.14453658 -0.22712119  1.46493836  0.95131415 -1.10938691]]\n"
     ]
    }
   ],
   "source": [
    "# Implement Gradient Descent\n",
    "w = np.random.randn(D,1)\n",
    "\n",
    "eta = 0.02\n",
    "\n",
    "MAX_ITER = 50\n",
    "for epoch in range(MAX_ITER):\n",
    "    dL = np.dot(X.T, y-sigmoid(np.dot(X,w)))\n",
    "    w = w + eta*dL\n",
    "    print(w.transpose())\n",
    "\n",
    "print('*')\n",
    "print(w_true.T)\n"
   ]
  },
  {
   "cell_type": "code",
   "execution_count": 34,
   "metadata": {
    "collapsed": false,
    "deletable": true,
    "editable": true
   },
   "outputs": [
    {
     "data": {
      "text/plain": [
       "array([[1],\n",
       "       [1],\n",
       "       [0],\n",
       "       [1],\n",
       "       [1],\n",
       "       [1],\n",
       "       [1],\n",
       "       [0],\n",
       "       [1],\n",
       "       [0],\n",
       "       [1],\n",
       "       [1],\n",
       "       [0],\n",
       "       [0],\n",
       "       [0],\n",
       "       [1],\n",
       "       [1],\n",
       "       [1],\n",
       "       [0],\n",
       "       [0]])"
      ]
     },
     "execution_count": 34,
     "metadata": {},
     "output_type": "execute_result"
    }
   ],
   "source": [
    "y.reshape((N,1))"
   ]
  },
  {
   "cell_type": "markdown",
   "metadata": {
    "deletable": true,
    "editable": true
   },
   "source": [
    "#### Evaluating the Hessian\n",
    "\n",
    "The Hessian is \n",
    "\\begin{eqnarray}\n",
    "\\frac{\\partial^2{\\cal L}}{\\partial w_k \\partial w_r} & = & - \\sum_i (1-\\sigma(w^\\top x_i)) \\sigma(w^\\top x_i) x_{i,k} x_{i,r} \\\\\n",
    "\\pi & \\equiv & \\sigma(X w) \\\\\n",
    "\\nabla \\nabla^\\top \\mathcal{L}& = & -X^\\top \\diag(\\pi(1 - \\pi)) X \n",
    "\\end{eqnarray}\n",
    "\n",
    "\n",
    "The update rule is\n",
    "\\begin{eqnarray}\n",
    "w^{(\\tau)} = w^{(\\tau-1)} + \\eta X^\\top (y-\\sigma(X w))\n",
    "\\end{eqnarray}"
   ]
  },
  {
   "cell_type": "markdown",
   "metadata": {},
   "source": [
    "## Matrix Factorization Version"
   ]
  },
  {
   "cell_type": "markdown",
   "metadata": {},
   "source": [
    "\n",
    "\n",
    "\\begin{eqnarray}\n",
    "p(Y |W, H ) &=& \\prod_j \\left(\\left(\\prod_{i : Y(i,j)=1} \\sigma(\\sum_k W(i,k) H(k,j)) \\right) \\left(\\prod_{i : Y(i,j)=0}(1- \\sigma(\\sum_k W(i,k) H(k,j))) \\right) \\right)\n",
    "\\end{eqnarray}\n",
    "\n",
    "\\begin{eqnarray}\n",
    "\\log p(Y |W, H ) &=& \\sum_j \\sum_{i : Y(i,j)=1} \\log \\sigma(\\sum_k W(i,k) H(k,j)) + \\sum_j \\sum_{i : Y(i,j)=0} \\log(1- \\sigma(\\sum_k W(i,k) H(k,j))) \\\\\n",
    "&=& \\sum_j\\sum_{i : Y(i,j)=1} \\left(\\sum_k W(i,k) H(k,j)\\right) - \\log (1 + \\exp(\\sum_k W(i,k) H(k,j))) - \\sum_j \\sum_{i : Y(i,j)=0} \\log( 1+\\sum_k W(i,k) H(k,j)) \\\\\n",
    "&=& \\sum_j \\sum_{i} Y(i,j) \\left(\\sum_k W(i,k) H(k,j)\\right)  - \\sum_j \\sum_{i} \\log( 1+\\sum_k W(i,k) H(k,j)) \n",
    "\\end{eqnarray}\n",
    "\n",
    "With missing values given as a mask matrix $M(i,j)$.\n",
    "\n",
    "\\begin{eqnarray}\n",
    "\\log p(Y |W, H ) &=& \\sum_j \\sum_{i} M(i,j) Y(i,j) \\left(\\sum_k W(i,k) H(k,j)\\right)  - \\sum_j \\sum_{i} M(i,j) \\log( 1+\\sum_k W(i,k) H(k,j)) \n",
    "\\end{eqnarray}\n",
    "\n",
    "\\begin{eqnarray}\n",
    "\\frac{\\partial}{\\partial W(i,k)} \\log p(Y |W, H ) &=& \\sum_j M(i,j) Y(i,j) H(k,j)  - \\sum_j M(i,j) \\sigma(\\sum_k W(i,k) H(k,j)) H(k, j) \\\\\n",
    "&=& \\sum_j M(i,j) \\left(Y(i,j) - \\sigma(\\sum_k W(i,k) H(k,j)) \\right) H(k, j)\n",
    "\\end{eqnarray}\n",
    "\n",
    "\n",
    "\n",
    "#### Evaluating the gradient (Short Derivation)\n",
    "\n",
    "$$\n",
    "\\frac{d\\mathcal{L}(W,H)}{dH} = (M \\odot (Y -\\sigma(W H)))H^\\top\n",
    "$$\n",
    "\n",
    "$$\n",
    "\\frac{d\\mathcal{L}(W,H)}{dW} = W^\\top (M \\odot (Y -\\sigma(W H)))\n",
    "$$\n"
   ]
  },
  {
   "cell_type": "code",
   "execution_count": 113,
   "metadata": {
    "collapsed": true
   },
   "outputs": [],
   "source": [
    "%matplotlib inline\n",
    "import numpy as np\n",
    "import matplotlib as mpl\n",
    "import matplotlib.pylab as plt\n",
    "\n",
    "\n",
    "# Generate a random logistic regression problem\n",
    "\n",
    "def sigmoid(t):\n",
    "    return 1./(1+np.exp(-t))\n",
    "\n",
    "M = 10\n",
    "N = 200\n",
    "K = 1\n",
    "\n",
    "# Some random parameters\n",
    "W_true = np.random.randn(M,K)\n",
    "H_true = np.random.randn(K,N)\n",
    "\n",
    "# Generate class labels\n",
    "pi = sigmoid(np.dot(W_true, H_true))\n",
    "Y = np.array(pi<np.random.rand(M,N),dtype=float)\n",
    "\n",
    "#Mask = np.ones((M,N))\n",
    "p_miss = 0.\n",
    "Mask = np.array(p_miss<np.random.rand(M,N),dtype=float)\n",
    "\n",
    "Mask_nan = Mask.copy()\n",
    "Mask_nan[Mask==0] = np.nan"
   ]
  },
  {
   "cell_type": "code",
   "execution_count": 114,
   "metadata": {
    "collapsed": false,
    "scrolled": false
   },
   "outputs": [
    {
     "name": "stdout",
     "output_type": "stream",
     "text": [
      "0 -1584.99696008 0.0\n",
      "100 -1382.24625906 0.0\n",
      "200 -1168.42556066 0.0\n",
      "300 -970.125975193 0.0\n",
      "400 -954.686710084 0.0\n",
      "500 -949.680832006 0.0\n",
      "600 -947.082281899 0.0\n",
      "700 -945.504559594 0.0\n",
      "800 -944.46579239 0.0\n",
      "900 -943.74606815 0.0\n",
      "1000 -943.229546538 0.0\n",
      "1100 -942.849027045 0.0\n",
      "1200 -942.562762813 0.0\n",
      "1300 -942.343538776 0.0\n",
      "1400 -942.172990382 0.0\n",
      "1500 -942.038403205 0.0\n",
      "1600 -941.930796537 0.0\n",
      "1700 -941.84372175 0.0\n",
      "1800 -941.772482176 0.0\n",
      "1900 -941.713613008 0.0\n",
      "2000 -941.664527303 0.0\n",
      "2100 -941.623271027 0.0\n",
      "2200 -941.588351252 0.0\n",
      "2300 -941.558614291 0.0\n",
      "2400 -941.533158406 0.0\n",
      "2500 -941.511270737 0.0\n",
      "2600 -941.492381381 0.0\n",
      "2700 -941.476029699 0.0\n",
      "2800 -941.461839413 0.0\n",
      "2900 -941.449500079 0.0\n",
      "3000 -941.438753179 0.0\n",
      "3100 -941.429381608 0.0\n",
      "3200 -941.421201657 0.0\n",
      "3300 -941.414056839 0.0\n",
      "3400 -941.407813083 0.0\n",
      "3500 -941.402354966 0.0\n",
      "3600 -941.397582709 0.0\n",
      "3700 -941.393409767 0.0\n",
      "3800 -941.389760874 0.0\n",
      "3900 -941.386570426 0.0\n",
      "4000 -941.383781151 0.0\n",
      "4100 -941.381342982 0.0\n",
      "4200 -941.379212116 0.0\n",
      "4300 -941.377350199 0.0\n",
      "4400 -941.375723639 0.0\n",
      "4500 -941.374303005 0.0\n",
      "4600 -941.373062509 0.0\n",
      "4700 -941.371979557 0.0\n",
      "4800 -941.371034355 0.0\n",
      "4900 -941.370209563 0.0\n"
     ]
    },
    {
     "data": {
      "image/png": "[encoded data removed]",
      "text/plain": [
       "<matplotlib.figure.Figure at 0x10fa05ad0>"
      ]
     },
     "metadata": {},
     "output_type": "display_data"
    },
    {
     "data": {
      "image/png": "[encoded data removed]",
      "text/plain": [
       "<matplotlib.figure.Figure at 0x10ce19350>"
      ]
     },
     "metadata": {},
     "output_type": "display_data"
    },
    {
     "data": {
      "image/png": "[encoded data removed]",
      "text/plain": [
       "<matplotlib.figure.Figure at 0x1105b31d0>"
      ]
     },
     "metadata": {},
     "output_type": "display_data"
    },
    {
     "data": {
      "image/png": "[encoded data removed]",
      "text/plain": [
       "<matplotlib.figure.Figure at 0x110250ed0>"
      ]
     },
     "metadata": {},
     "output_type": "display_data"
    },
    {
     "data": {
      "image/png": "[encoded data removed]",
      "text/plain": [
       "<matplotlib.figure.Figure at 0x10f262b50>"
      ]
     },
     "metadata": {},
     "output_type": "display_data"
    },
    {
     "data": {
      "image/png": "[encoded data removed]",
      "text/plain": [
       "<matplotlib.figure.Figure at 0x11072ca90>"
      ]
     },
     "metadata": {},
     "output_type": "display_data"
    }
   ],
   "source": [
    "def LogisticMF(Y, K, Mask):\n",
    "    M = Y.shape[0]\n",
    "    N = Y.shape[1]\n",
    "    # Implement Gradient Descent\n",
    "    W = np.random.randn(M,K)\n",
    "    H = np.random.randn(K,N)\n",
    "\n",
    "    #H = H_true\n",
    "\n",
    "    eta = 0.005\n",
    "    nu = 0.1\n",
    "\n",
    "    MAX_ITER = 5000\n",
    "    for epoch in range(MAX_ITER):\n",
    "        dL = np.dot(W.T, Mask*(Y-sigmoid(np.dot(W,H)))  ) - nu*H\n",
    "        H = H + eta*dL\n",
    "        dL = np.dot(Mask*(Y-sigmoid(np.dot(W,H))),H.T ) - nu*W\n",
    "        W = W + eta*dL\n",
    "\n",
    "        if epoch % 100 == 0:\n",
    "            LL = np.sum(Mask*(Y*np.log(sigmoid(np.dot(W,H))) +  (1-Y)*np.log(1 - sigmoid(np.dot(W,H))))) - nu*np.sum(H**2)/2. - nu*np.sum(W**2)/2. \n",
    "            LL_test = np.sum((1-Mask)*(Y*np.log(sigmoid(np.dot(W,H))) +  (1-Y)*np.log(1 - sigmoid(np.dot(W,H)))))  \n",
    "            print epoch, LL, LL_test\n",
    "        \n",
    "\n",
    "    return W,H\n",
    "\n",
    "W, H = LogisticMF(Y, K, Mask)\n",
    "\n",
    "plt.imshow(Y, interpolation='nearest', cmap=plt.cm.gray_r)  \n",
    "plt.title('Y (Full data)')\n",
    "plt.show()\n",
    "plt.imshow(Y*Mask_nan, interpolation='nearest')  \n",
    "plt.title('Mask*Y (Observed data)')\n",
    "plt.show()\n",
    "plt.imshow(sigmoid(np.dot(W,H)), interpolation='nearest')  \n",
    "plt.title('\\sigma(W*H)')\n",
    "plt.show()\n",
    "\n",
    "plt.imshow(sigmoid(np.dot(W_true,H_true)), interpolation='nearest')  \n",
    "plt.title('\\sigma(W_true*H_true)')\n",
    "plt.show()\n",
    "plt.imshow(W, interpolation='nearest') \n",
    "plt.title('W')\n",
    "plt.show()\n",
    "plt.imshow(H, interpolation='nearest')  \n",
    "plt.title('H')\n",
    "plt.show()"
   ]
  },
  {
   "cell_type": "code",
   "execution_count": 94,
   "metadata": {
    "collapsed": false
   },
   "outputs": [
    {
     "data": {
      "text/plain": [
       "array([[ -1.32423945e-25,  -1.74188789e-25,  -1.74188789e-25,\n",
       "         -1.74188789e-25,  -1.74188789e-25,  -9.30894611e-26,\n",
       "         -9.30894611e-26,  -9.30894611e-26,  -1.99073962e-25,\n",
       "         -1.99073962e-25,  -1.99073962e-25,  -1.99073962e-25,\n",
       "         -1.49899550e-25,  -1.49899550e-25,  -1.20244683e-25,\n",
       "         -1.88465800e-25,  -1.88465800e-25,  -1.88465800e-25,\n",
       "         -1.88465800e-25,  -1.30079813e-25],\n",
       "       [ -4.90228770e-26,  -6.44817625e-26,  -6.44817625e-26,\n",
       "         -6.44817625e-26,  -6.44817625e-26,  -3.44646885e-26,\n",
       "         -3.44646885e-26,  -3.44646885e-26,  -7.37053487e-26,\n",
       "         -7.37053487e-26,  -7.37053487e-26,  -7.37053487e-26,\n",
       "         -5.54895288e-26,  -5.54895288e-26,  -4.45197773e-26,\n",
       "         -6.97800233e-26,  -6.97800233e-26,  -6.97800233e-26,\n",
       "         -6.97800233e-26,  -4.81587243e-26]])"
      ]
     },
     "execution_count": 94,
     "metadata": {},
     "output_type": "execute_result"
    }
   ],
   "source": [
    "H"
   ]
  },
  {
   "cell_type": "code",
   "execution_count": 115,
   "metadata": {
    "collapsed": false
   },
   "outputs": [
    {
     "name": "stdout",
     "output_type": "stream",
     "text": [
      "0 -2038.80440583 0.0\n",
      "100 -1346.2260293 0.0\n",
      "200 -950.518132105 0.0\n",
      "300 -713.660997874 0.0\n",
      "400 -573.836194913 0.0\n",
      "500 -477.458641554 0.0\n",
      "600 -407.619131294 0.0\n",
      "700 -356.733828461 0.0\n",
      "800 -327.394900408 0.0\n",
      "900 -310.471650347 0.0\n",
      "1000 -300.394303822 0.0\n",
      "1100 -294.642730151 0.0\n",
      "1200 -291.006716164 0.0\n",
      "1300 -288.536240796 0.0\n",
      "1400 -286.7718489 0.0\n",
      "1500 -285.456685921 0.0\n",
      "1600 -284.434115517 0.0\n",
      "1700 -283.612037579 0.0\n",
      "1800 -282.939495134 0.0\n",
      "1900 -282.387626941 0.0\n",
      "2000 -281.937392557 0.0\n",
      "2100 -281.573222546 0.0\n",
      "2200 -281.280537094 0.0\n",
      "2300 -281.045625751 0.0\n",
      "2400 -280.8563987 0.0\n",
      "2500 -280.702855187 0.0\n",
      "2600 -280.577009267 0.0\n",
      "2700 -280.472554897 0.0\n",
      "2800 -280.384522687 0.0\n",
      "2900 -280.309009311 0.0\n",
      "3000 -280.242976123 0.0\n",
      "3100 -280.184097657 0.0\n",
      "3200 -280.130644072 0.0\n",
      "3300 -280.08138542 0.0\n",
      "3400 -280.035507803 0.0\n",
      "3500 -279.992533809 0.0\n",
      "3600 -279.952242923 0.0\n",
      "3700 -279.914591845 0.0\n",
      "3800 -279.879638499 0.0\n",
      "3900 -279.847475654 0.0\n",
      "4000 -279.818179716 0.0\n",
      "4100 -279.79177776 0.0\n",
      "4200 -279.768232505 0.0\n",
      "4300 -279.747442008 0.0\n",
      "4400 -279.729249347 0.0\n",
      "4500 -279.713457421 0.0\n",
      "4600 -279.699844922 0.0\n",
      "4700 -279.688180857 0.0\n",
      "4800 -279.678236252 0.0\n",
      "4900 -279.66979265 0.0\n"
     ]
    },
    {
     "data": {
      "image/png": "[encoded data removed]",
      "text/plain": [
       "<matplotlib.figure.Figure at 0x10fdf0390>"
      ]
     },
     "metadata": {},
     "output_type": "display_data"
    },
    {
     "data": {
      "image/png": "[encoded data removed]",
      "text/plain": [
       "<matplotlib.figure.Figure at 0x10fa05750>"
      ]
     },
     "metadata": {},
     "output_type": "display_data"
    },
    {
     "data": {
      "image/png": "[encoded data removed]",
      "text/plain": [
       "<matplotlib.figure.Figure at 0x1105f6410>"
      ]
     },
     "metadata": {},
     "output_type": "display_data"
    },
    {
     "data": {
      "image/png": "[encoded data removed]",
      "text/plain": [
       "<matplotlib.figure.Figure at 0x1107a1150>"
      ]
     },
     "metadata": {},
     "output_type": "display_data"
    },
    {
     "data": {
      "image/png": "[encoded data removed]",
      "text/plain": [
       "<matplotlib.figure.Figure at 0x1110d2690>"
      ]
     },
     "metadata": {},
     "output_type": "display_data"
    }
   ],
   "source": [
    "\n",
    "Y2 = np.zeros((M,N))\n",
    "\n",
    "p_on = 0.3\n",
    "p_switch = 0.2\n",
    "y = np.array(np.random.rand(M,1)<p_on, dtype=float)\n",
    "for i in range(N):\n",
    "    if np.random.rand()<p_switch:\n",
    "        y = np.array(np.random.rand(M,1)<p_on, dtype=float)\n",
    "    \n",
    "    Y2[:,i] = y.reshape(1,M)\n",
    "    \n",
    "\n",
    "#Mask = np.ones((M,N))\n",
    "p_miss = 0\n",
    "Mask = np.array(np.random.rand(M,N)>p_miss,dtype=float)\n",
    "\n",
    "Mask_nan = Mask.copy()\n",
    "Mask_nan[Mask==0] = np.nan\n",
    "\n",
    "Y = Y2\n",
    "K = 4\n",
    "W, H = LogisticMF(Y, K, Mask)\n",
    "\n",
    "plt.imshow(Y, interpolation='nearest', cmap=plt.cm.gray_r)  \n",
    "plt.show()\n",
    "plt.imshow(Y*Mask_nan, interpolation='nearest')  \n",
    "plt.show()\n",
    "\n",
    "    \n",
    "plt.imshow(sigmoid(np.dot(W,H)), interpolation='nearest')  \n",
    "plt.show()\n",
    "plt.imshow(W, interpolation='nearest')  \n",
    "plt.show()\n",
    "plt.imshow(H, interpolation='nearest')  \n",
    "plt.show()\n"
   ]
  },
  {
   "cell_type": "code",
   "execution_count": 1,
   "metadata": {
    "collapsed": false,
    "deletable": true,
    "editable": true
   },
   "outputs": [
    {
     "name": "stderr",
     "output_type": "stream",
     "text": [
      "/Users/cemgil/anaconda/lib/python2.7/site-packages/matplotlib/font_manager.py:273: UserWarning: Matplotlib is building the font cache using fc-list. This may take a moment.\n",
      "  warnings.warn('Matplotlib is building the font cache using fc-list. This may take a moment.')\n"
     ]
    }
   ],
   "source": [
    "%matplotlib inline\n",
    "from cvxpy import *\n",
    "import numpy as np\n",
    "import matplotlib as mpl\n",
    "import matplotlib.pylab as plt"
   ]
  },
  {
   "cell_type": "code",
   "execution_count": 10,
   "metadata": {
    "collapsed": false,
    "deletable": true,
    "editable": true,
    "scrolled": true
   },
   "outputs": [
    {
     "name": "stdout",
     "output_type": "stream",
     "text": [
      "[0 1]\n",
      "[2 3 4]\n"
     ]
    },
    {
     "data": {
      "image/png": "[encoded data removed]",
      "text/plain": [
       "<matplotlib.figure.Figure at 0x10c981450>"
      ]
     },
     "metadata": {},
     "output_type": "display_data"
    }
   ],
   "source": [
    "#x = np.matrix('[-2,1; -1,2; 1,5; -1,1; -3,-2; 1,1] ')\n",
    "x = np.matrix('[-0.5,0.5;2,-1;-1,-1;1,1;1.5,0.5]')\n",
    "#y = np.matrix('[0,0,1,0,0,1]').T\n",
    "y = np.matrix('[0,0,1,1,1]').T\n",
    "N = x.shape[0]\n",
    "#A = np.hstack((np.power(x,0), np.power(x,1), np.power(x,2)))\n",
    "#X = np.hstack((x, np.ones((N,1)) ))\n",
    "X = x\n",
    "\n",
    "def sigmoid(x):\n",
    "    return 1/(1+np.exp(-x))\n",
    "\n",
    "\n",
    "idx = np.nonzero(y)[0]\n",
    "idxc = np.nonzero(1-y)[0]\n",
    "\n",
    "fig = plt.figure(figsize=(12,5))\n",
    "plt.plot(x[idx,0], x[idx,1], 'rx')\n",
    "plt.plot(x[idxc,0], x[idxc,1], 'bo')\n",
    "fig.gca().set_xlim([-1.1,2.1])\n",
    "fig.gca().set_ylim([-1.1,1.1])\n",
    "print(idxc)\n",
    "print(idx)\n",
    "\n",
    "plt.show()"
   ]
  },
  {
   "cell_type": "code",
   "execution_count": 11,
   "metadata": {
    "collapsed": false,
    "deletable": true,
    "editable": true
   },
   "outputs": [
    {
     "data": {
      "image/png": "[encoded data removed]",
      "text/plain": [
       "<matplotlib.figure.Figure at 0x110037910>"
      ]
     },
     "metadata": {},
     "output_type": "display_data"
    }
   ],
   "source": [
    "from itertools import product\n",
    "\n",
    "def ellipse_line(A, mu, col='b'):\n",
    "    '''\n",
    "    Creates an ellipse from short line segments y = A x + \\mu \n",
    "    where x is on the unit circle.\n",
    "    '''\n",
    "    N = 18\n",
    "    th = np.arange(0, 2*np.pi+np.pi/N, np.pi/N)\n",
    "    X = np.mat(np.vstack((np.cos(th),np.sin(th))))\n",
    "    \n",
    "    Y = A*X\n",
    "    ln = plt.Line2D(mu[0]+Y[0,:],mu[1]+Y[1,:],markeredgecolor='w', linewidth=1, color=col)\n",
    "    return ln\n",
    "\n",
    "\n",
    "left = -5\n",
    "right = 3\n",
    "bottom = -5\n",
    "top = 7\n",
    "step = 0.1\n",
    "W0 = np.arange(left,right, step)\n",
    "W1 = np.arange(bottom,top, step)\n",
    "\n",
    "LLSurf = np.zeros((len(W1),len(W0)))\n",
    "\n",
    "# y^\\top X w - \\mathbf{1}^\\top \\text{logsumexp}(0, X w)\n",
    "vmax = -np.inf\n",
    "vmin = np.inf\n",
    "for i,j in product(range(len(W1)), range(len(W0))):\n",
    "    w = np.matrix([W0[j], W1[i]]).T\n",
    "    p = X*w\n",
    "    ll = y.T*p - np.sum(np.log(1+np.exp(p)))\n",
    "    \n",
    "    vmax = np.max((vmax, ll))\n",
    "    vmin = np.min((vmin, ll))\n",
    "    \n",
    "    LLSurf[i,j] = ll\n",
    "\n",
    "fig = plt.figure(figsize=(10,10))\n",
    "plt.imshow(LLSurf, interpolation='nearest', \n",
    "           vmin=vmin, vmax=vmax,origin='lower',\n",
    "           extent=(left,right,bottom,top))\n",
    "plt.xlabel('w0')\n",
    "plt.ylabel('w1')\n",
    "plt.colorbar()\n",
    "\n",
    "\n",
    "W0 = np.arange(left+2,right-5, 12*step)\n",
    "W1 = np.arange(bottom+1,top-10, 12*step)\n",
    "\n",
    "for i,j in product(range(len(W1)), range(len(W0))):\n",
    "    w = np.matrix([W0[j], W1[i]]).T\n",
    "    #w = np.mat([-1,1]).T\n",
    "\n",
    "    p = sigmoid(X*w)\n",
    "    dw = 0.2*X.T*(y-p)\n",
    "    #print(p)\n",
    "    S = np.mat(np.diag(np.asarray(np.multiply(p,1-p)).flatten()))\n",
    "    H = X.T*S*X\n",
    "    dw_nwt = 0.08*H.I*X.T*(y-p)\n",
    "\n",
    "    C = np.linalg.cholesky(H.I)\n",
    "#    plt.hold(True)\n",
    "    ln = ellipse_line(C/3., w, 'w')\n",
    "    ax = fig.gca()\n",
    "    ax.add_line(ln)\n",
    "    ln2 = plt.Line2D((float(w[0]), float(w[0]+dw[0])), (float(w[1]), float(w[1]+dw[1])),color='y')\n",
    "    ax.add_line(ln2)\n",
    "    ln3 = plt.Line2D((float(w[0]), float(w[0]+dw_nwt[0])), (float(w[1]), float(w[1]+dw_nwt[1])),color='w')\n",
    "    ax.add_line(ln3)\n",
    "    plt.plot(w[0,0],w[1,0],'.w')\n",
    "\n",
    "    \n",
    "    \n",
    "    #print(C)\n",
    "    #print(S)\n",
    "\n",
    "ax.set_xlim((left,right))\n",
    "ax.set_ylim((bottom,top))\n",
    "plt.show()"
   ]
  },
  {
   "cell_type": "code",
   "execution_count": 153,
   "metadata": {
    "collapsed": false,
    "deletable": true,
    "editable": true,
    "scrolled": true
   },
   "outputs": [
    {
     "data": {
      "text/plain": [
       "matrix([[ 1.51630736,  0.75371756],\n",
       "        [ 0.75371756,  0.79094158]])"
      ]
     },
     "execution_count": 153,
     "metadata": {},
     "output_type": "execute_result"
    }
   ],
   "source": [
    "w = np.mat([1,-1]).T\n",
    "w\n",
    "\n",
    "p = sigmoid(X*w)\n",
    "S = np.mat(np.diag(np.asarray(np.multiply(p,1-p)).flatten()))\n",
    "\n",
    "X.T*S*X"
   ]
  },
  {
   "cell_type": "code",
   "execution_count": 114,
   "metadata": {
    "collapsed": false,
    "deletable": true,
    "editable": true,
    "scrolled": true
   },
   "outputs": [
    {
     "name": "stdout",
     "output_type": "stream",
     "text": [
      "[[0]\n",
      " [0]\n",
      " [1]\n",
      " [1]\n",
      " [1]]\n",
      "[[-0.5  0.5]\n",
      " [ 2.  -1. ]\n",
      " [-1.  -1. ]\n",
      " [ 1.   1. ]\n",
      " [ 2.   1. ]]\n",
      "[[1]\n",
      " [2]]\n",
      "[[ 0.62245933]\n",
      " [ 0.5       ]\n",
      " [ 0.04742587]\n",
      " [ 0.95257413]\n",
      " [ 0.98201379]]\n",
      "[[ 0.          0.59561717]\n",
      " [ 0.          0.30966921]\n",
      " [ 1.          0.32737446]\n",
      " [ 1.          0.67262554]\n",
      " [ 1.          0.66660954]]\n",
      "[[-0.02719403]\n",
      " [ 0.74727817]]\n"
     ]
    }
   ],
   "source": [
    "print(y)\n",
    "print(X)\n",
    "\n",
    "#w = np.random.randn(3,1)\n",
    "\n",
    "w = np.mat('[1;2]')\n",
    "\n",
    "print(w)\n",
    "\n",
    "print(sigmoid(X*w))\n",
    "eta = 0.1\n",
    "\n",
    "for i in range(10000):\n",
    "    pr = sigmoid(X*w)\n",
    "    w = w + eta*X.T*(y-pr)\n",
    "    \n",
    "print(np.hstack((y,pr)))\n",
    "print(w)"
   ]
  },
  {
   "cell_type": "code",
   "execution_count": 3,
   "metadata": {
    "collapsed": false,
    "deletable": true,
    "editable": true
   },
   "outputs": [],
   "source": [
    "N = 1000\n",
    "K = 10\n",
    "Ke = 40-K\n",
    "\n",
    "def sigmoid(x):\n",
    "    return 1/(1+np.exp(-x))\n",
    "\n",
    "x = np.matrix(np.random.randn(N, K))\n",
    "w_true = np.random.randn(K,1)\n",
    "\n",
    "p = sigmoid(x*w_true)\n",
    "u = np.random.rand(N,1)\n",
    "y = (u < p)\n",
    "y = y.astype(np.float64)\n",
    "\n",
    "#A = np.hstack((np.power(x,0), np.power(x,1), np.power(x,2)))\n",
    "X = np.hstack((x, np.random.randn(N, Ke )))\n",
    "\n",
    "\n"
   ]
  },
  {
   "cell_type": "code",
   "execution_count": 4,
   "metadata": {
    "collapsed": false,
    "deletable": true,
    "editable": true,
    "scrolled": false
   },
   "outputs": [
    {
     "name": "stdout",
     "output_type": "stream",
     "text": [
      "[[ -4.61873692e-01]\n",
      " [ -3.45888873e-11]\n",
      " [ -1.15100442e+00]\n",
      " [  2.96918652e-01]\n",
      " [  6.06625465e-01]\n",
      " [  6.42161156e-01]\n",
      " [ -5.66000985e-01]\n",
      " [ -1.22920576e-10]\n",
      " [ -7.62241790e-01]\n",
      " [  2.26527800e-10]\n",
      " [  5.59296917e-11]\n",
      " [ -1.06575891e-10]\n",
      " [ -3.80442713e-11]\n",
      " [  7.35221115e-10]\n",
      " [  9.11113530e-13]\n",
      " [  7.95399232e-13]\n",
      " [  3.46032187e-11]\n",
      " [ -5.92069678e-13]\n",
      " [ -3.68158703e-11]\n",
      " [ -1.28123391e-11]\n",
      " [ -1.18309432e-11]\n",
      " [ -5.20654701e-12]\n",
      " [ -6.03313857e-11]\n",
      " [ -5.89164342e-12]\n",
      " [ -3.35170186e-10]\n",
      " [  2.63155232e-11]\n",
      " [ -1.37202788e-11]\n",
      " [  3.38273484e-11]\n",
      " [  2.84843711e-11]\n",
      " [ -2.88087419e-11]\n",
      " [ -2.03696923e-11]\n",
      " [ -1.55134247e-11]\n",
      " [  7.06091201e-12]\n",
      " [  3.72090301e-11]\n",
      " [ -3.33548890e-12]\n",
      " [  6.84441048e-12]\n",
      " [ -5.19792493e-10]\n",
      " [ -2.36637916e-11]\n",
      " [ -6.33682911e-12]\n",
      " [  7.44414549e-04]]\n"
     ]
    },
    {
     "data": {
      "image/png": "[encoded data removed]",
      "text/plain": [
       "<matplotlib.figure.Figure at 0x10d404d10>"
      ]
     },
     "metadata": {},
     "output_type": "display_data"
    }
   ],
   "source": [
    "z = np.zeros((N,1))\n",
    "# Construct the problem.\n",
    "w = Variable(K+Ke)\n",
    "objective = Minimize(25.5*norm(w, 1) -y.T*X*w + sum_entries(log_sum_exp(hstack(z, X*w),axis=1)))\n",
    "#constraints = [0 <= x, x <= 10]\n",
    "#prob = Problem(objective, constraints)\n",
    "prob = Problem(objective)\n",
    "\n",
    "# The optimal objective is returned by prob.solve().\n",
    "result = prob.solve()\n",
    "# The optimal value for x is stored in x.value.\n",
    "print(w.value)\n",
    "# The optimal Lagrange multiplier for a constraint\n",
    "# is stored in constraint.dual_value.\n",
    "#print(constraints[0].dual_value)\n",
    "\n",
    "#plt.show()\n",
    "\n",
    "plt.stem(w.value)\n",
    "plt.stem(w_true,markerfmt='xr')\n",
    "\n",
    "plt.gca().set_xlim((-1, K+Ke))\n",
    "plt.show()\n",
    "\n"
   ]
  },
  {
   "cell_type": "code",
   "execution_count": 1,
   "metadata": {
    "collapsed": false,
    "deletable": true,
    "editable": true
   },
   "outputs": [
    {
     "name": "stdout",
     "output_type": "stream",
     "text": [
      "{\n",
      "  \"stdin_port\": 57593, \n",
      "  \"ip\": \"127.0.0.1\", \n",
      "  \"control_port\": 57594, \n",
      "  \"hb_port\": 57595, \n",
      "  \"signature_scheme\": \"hmac-sha256\", \n",
      "  \"key\": \"39cb914f-aa7d-44ca-ad38-c3079fb7cac3\", \n",
      "  \"kernel_name\": \"\", \n",
      "  \"shell_port\": 57591, \n",
      "  \"transport\": \"tcp\", \n",
      "  \"iopub_port\": 57592\n",
      "}\n",
      "\n",
      "Paste the above JSON into a file, and connect with:\n",
      "    $> jupyter <app> --existing <file>\n",
      "or, if you are local, you can connect with just:\n",
      "    $> jupyter <app> --existing kernel-d6a3d80c-e2fc-46e2-9f74-a4f13a15bebb.json\n",
      "or even just:\n",
      "    $> jupyter <app> --existing\n",
      "if this is the most recent Jupyter kernel you have started.\n"
     ]
    }
   ],
   "source": [
    "%connect_info"
   ]
  }
 ],
 "metadata": {
  "kernelspec": {
   "display_name": "Python 2",
   "language": "python",
   "name": "python2"
  },
  "language_info": {
   "codemirror_mode": {
    "name": "ipython",
    "version": 2
   },
   "file_extension": ".py",
   "mimetype": "text/x-python",
   "name": "python",
   "nbconvert_exporter": "python",
   "pygments_lexer": "ipython2",
   "version": "2.7.12"
  }
 },
 "nbformat": 4,
 "nbformat_minor": 0
}
